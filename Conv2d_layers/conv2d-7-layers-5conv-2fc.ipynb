{
 "cells": [
  {
   "cell_type": "code",
   "execution_count": 1,
   "id": "3231f8aa",
   "metadata": {
    "_cell_guid": "b1076dfc-b9ad-4769-8c92-a6c4dae69d19",
    "_uuid": "8f2839f25d086af736a60e9eeb907d3b93b6e0e5",
    "execution": {
     "iopub.execute_input": "2023-04-28T13:50:57.775885Z",
     "iopub.status.busy": "2023-04-28T13:50:57.775045Z",
     "iopub.status.idle": "2023-04-28T13:50:57.787140Z",
     "shell.execute_reply": "2023-04-28T13:50:57.786191Z"
    },
    "papermill": {
     "duration": 0.020962,
     "end_time": "2023-04-28T13:50:57.789334",
     "exception": false,
     "start_time": "2023-04-28T13:50:57.768372",
     "status": "completed"
    },
    "tags": []
   },
   "outputs": [],
   "source": [
    "# This Python 3 environment comes with many helpful analytics libraries installed\n",
    "# It is defined by the kaggle/python Docker image: https://github.com/kaggle/docker-python\n",
    "# For example, here's several helpful packages to load\n",
    "\n",
    "import numpy as np # linear algebra\n",
    "import pandas as pd # data processing, CSV file I/O (e.g. pd.read_csv)\n",
    "\n",
    "# Input data files are available in the read-only \"../input/\" directory\n",
    "# For example, running this (by clicking run or pressing Shift+Enter) will list all files under the input directory\n",
    "\n",
    "import os\n",
    "for dirname, _, filenames in os.walk('/kaggle/input'):\n",
    "    for filename in filenames:\n",
    "        print(os.path.join(dirname, filename))\n",
    "\n",
    "# You can write up to 20GB to the current directory (/kaggle/working/) that gets preserved as output when you create a version using \"Save & Run All\" \n",
    "# You can also write temporary files to /kaggle/temp/, but they won't be saved outside of the current session"
   ]
  },
  {
   "cell_type": "code",
   "execution_count": 2,
   "id": "249dd273",
   "metadata": {
    "execution": {
     "iopub.execute_input": "2023-04-28T13:50:57.798364Z",
     "iopub.status.busy": "2023-04-28T13:50:57.797767Z",
     "iopub.status.idle": "2023-04-28T13:51:00.155264Z",
     "shell.execute_reply": "2023-04-28T13:51:00.154220Z"
    },
    "papermill": {
     "duration": 2.36487,
     "end_time": "2023-04-28T13:51:00.158055",
     "exception": false,
     "start_time": "2023-04-28T13:50:57.793185",
     "status": "completed"
    },
    "tags": []
   },
   "outputs": [],
   "source": [
    "import torch\n",
    "from torch.utils.data import DataLoader,random_split\n",
    "from torchvision.datasets import MNIST\n",
    "from torchvision import transforms as tfr\n",
    "import matplotlib.pyplot as plt\n",
    "import pandas as pd\n"
   ]
  },
  {
   "cell_type": "code",
   "execution_count": 3,
   "id": "1636545b",
   "metadata": {
    "execution": {
     "iopub.execute_input": "2023-04-28T13:51:00.166884Z",
     "iopub.status.busy": "2023-04-28T13:51:00.166453Z",
     "iopub.status.idle": "2023-04-28T13:51:03.064286Z",
     "shell.execute_reply": "2023-04-28T13:51:03.062730Z"
    },
    "papermill": {
     "duration": 2.904779,
     "end_time": "2023-04-28T13:51:03.066605",
     "exception": false,
     "start_time": "2023-04-28T13:51:00.161826",
     "status": "completed"
    },
    "tags": []
   },
   "outputs": [
    {
     "name": "stdout",
     "output_type": "stream",
     "text": [
      "Downloading http://yann.lecun.com/exdb/mnist/train-images-idx3-ubyte.gz\n",
      "Downloading http://yann.lecun.com/exdb/mnist/train-images-idx3-ubyte.gz to data/MNIST/raw/train-images-idx3-ubyte.gz\n"
     ]
    },
    {
     "data": {
      "application/vnd.jupyter.widget-view+json": {
       "model_id": "1515be5f075a4a7d8b79f23d794c89ef",
       "version_major": 2,
       "version_minor": 0
      },
      "text/plain": [
       "  0%|          | 0/9912422 [00:00<?, ?it/s]"
      ]
     },
     "metadata": {},
     "output_type": "display_data"
    },
    {
     "name": "stdout",
     "output_type": "stream",
     "text": [
      "Extracting data/MNIST/raw/train-images-idx3-ubyte.gz to data/MNIST/raw\n",
      "\n",
      "Downloading http://yann.lecun.com/exdb/mnist/train-labels-idx1-ubyte.gz\n",
      "Downloading http://yann.lecun.com/exdb/mnist/train-labels-idx1-ubyte.gz to data/MNIST/raw/train-labels-idx1-ubyte.gz\n"
     ]
    },
    {
     "data": {
      "application/vnd.jupyter.widget-view+json": {
       "model_id": "2ad0b9e14eaa45fa99691a3886da5213",
       "version_major": 2,
       "version_minor": 0
      },
      "text/plain": [
       "  0%|          | 0/28881 [00:00<?, ?it/s]"
      ]
     },
     "metadata": {},
     "output_type": "display_data"
    },
    {
     "name": "stdout",
     "output_type": "stream",
     "text": [
      "Extracting data/MNIST/raw/train-labels-idx1-ubyte.gz to data/MNIST/raw\n",
      "\n",
      "Downloading http://yann.lecun.com/exdb/mnist/t10k-images-idx3-ubyte.gz\n",
      "Downloading http://yann.lecun.com/exdb/mnist/t10k-images-idx3-ubyte.gz to data/MNIST/raw/t10k-images-idx3-ubyte.gz\n"
     ]
    },
    {
     "data": {
      "application/vnd.jupyter.widget-view+json": {
       "model_id": "9f498749d86c4d4498c79f11dc2c0a9f",
       "version_major": 2,
       "version_minor": 0
      },
      "text/plain": [
       "  0%|          | 0/1648877 [00:00<?, ?it/s]"
      ]
     },
     "metadata": {},
     "output_type": "display_data"
    },
    {
     "name": "stdout",
     "output_type": "stream",
     "text": [
      "Extracting data/MNIST/raw/t10k-images-idx3-ubyte.gz to data/MNIST/raw\n",
      "\n",
      "Downloading http://yann.lecun.com/exdb/mnist/t10k-labels-idx1-ubyte.gz\n",
      "Downloading http://yann.lecun.com/exdb/mnist/t10k-labels-idx1-ubyte.gz to data/MNIST/raw/t10k-labels-idx1-ubyte.gz\n"
     ]
    },
    {
     "data": {
      "application/vnd.jupyter.widget-view+json": {
       "model_id": "42a5efcd6ec145498a91474a5b61e091",
       "version_major": 2,
       "version_minor": 0
      },
      "text/plain": [
       "  0%|          | 0/4542 [00:00<?, ?it/s]"
      ]
     },
     "metadata": {},
     "output_type": "display_data"
    },
    {
     "name": "stdout",
     "output_type": "stream",
     "text": [
      "Extracting data/MNIST/raw/t10k-labels-idx1-ubyte.gz to data/MNIST/raw\n",
      "\n"
     ]
    }
   ],
   "source": [
    "ts = tfr.Compose([\n",
    "    tfr.ToTensor(),\n",
    "    tfr.Normalize(0.5,0.5),\n",
    "    tfr.Resize((64,64))\n",
    "    \n",
    "])\n",
    "root ='data'\n",
    "ds = MNIST(root, train= True, download=True,transform=ts)\n",
    "test_df = MNIST(root, train=False, download=True, transform=ts)"
   ]
  },
  {
   "cell_type": "code",
   "execution_count": 4,
   "id": "8626ca88",
   "metadata": {
    "execution": {
     "iopub.execute_input": "2023-04-28T13:51:03.077697Z",
     "iopub.status.busy": "2023-04-28T13:51:03.077389Z",
     "iopub.status.idle": "2023-04-28T13:51:03.126766Z",
     "shell.execute_reply": "2023-04-28T13:51:03.125826Z"
    },
    "papermill": {
     "duration": 0.057529,
     "end_time": "2023-04-28T13:51:03.128852",
     "exception": false,
     "start_time": "2023-04-28T13:51:03.071323",
     "status": "completed"
    },
    "tags": []
   },
   "outputs": [
    {
     "data": {
      "text/plain": [
       "torch.Size([1, 64, 64])"
      ]
     },
     "execution_count": 4,
     "metadata": {},
     "output_type": "execute_result"
    }
   ],
   "source": [
    "ds[0][0].shape"
   ]
  },
  {
   "cell_type": "code",
   "execution_count": 5,
   "id": "7ce8df8f",
   "metadata": {
    "execution": {
     "iopub.execute_input": "2023-04-28T13:51:03.139385Z",
     "iopub.status.busy": "2023-04-28T13:51:03.138568Z",
     "iopub.status.idle": "2023-04-28T13:51:03.153468Z",
     "shell.execute_reply": "2023-04-28T13:51:03.151961Z"
    },
    "papermill": {
     "duration": 0.022259,
     "end_time": "2023-04-28T13:51:03.155593",
     "exception": false,
     "start_time": "2023-04-28T13:51:03.133334",
     "status": "completed"
    },
    "tags": []
   },
   "outputs": [
    {
     "name": "stdout",
     "output_type": "stream",
     "text": [
      "Train datasetda 54000 rasm bor.\n",
      "Validation datasetda 6000 rasm bor.\n",
      "Test datasetda 10000 rasm bor.\n"
     ]
    }
   ],
   "source": [
    "tr_length = int(len(ds) * 0.9)\n",
    "tr_ds, val_ds = random_split(ds, [tr_length, len(ds) - tr_length])\n",
    "print(f\"Train datasetda {len(tr_ds)} rasm bor.\")\n",
    "print(f\"Validation datasetda {len(val_ds)} rasm bor.\")\n",
    "print(f\"Test datasetda {len(test_df)} rasm bor.\")"
   ]
  },
  {
   "cell_type": "code",
   "execution_count": 6,
   "id": "7e0b54c0",
   "metadata": {
    "execution": {
     "iopub.execute_input": "2023-04-28T13:51:03.166219Z",
     "iopub.status.busy": "2023-04-28T13:51:03.165332Z",
     "iopub.status.idle": "2023-04-28T13:51:03.174723Z",
     "shell.execute_reply": "2023-04-28T13:51:03.173332Z"
    },
    "papermill": {
     "duration": 0.016743,
     "end_time": "2023-04-28T13:51:03.176798",
     "exception": false,
     "start_time": "2023-04-28T13:51:03.160055",
     "status": "completed"
    },
    "tags": []
   },
   "outputs": [
    {
     "name": "stderr",
     "output_type": "stream",
     "text": [
      "/opt/conda/lib/python3.7/site-packages/torch/utils/data/dataloader.py:557: UserWarning: This DataLoader will create 4 worker processes in total. Our suggested max number of worker in current system is 2, which is smaller than what this DataLoader is going to create. Please be aware that excessive worker creation might get DataLoader running slow or even freeze, lower the worker number to avoid potential slowness/freeze if necessary.\n",
      "  cpuset_checked))\n"
     ]
    }
   ],
   "source": [
    "bs = 128\n",
    "tr_dl = DataLoader(dataset = tr_ds, batch_size = bs, shuffle = True, drop_last = False, num_workers = 4)\n",
    "val_dl = DataLoader(dataset = val_ds, batch_size = bs, shuffle = False, drop_last = False, num_workers = 4)\n",
    "test_dl = DataLoader(dataset = test_df, batch_size = bs, shuffle = False, drop_last = False, num_workers = 4)"
   ]
  },
  {
   "cell_type": "code",
   "execution_count": 7,
   "id": "c89dec95",
   "metadata": {
    "execution": {
     "iopub.execute_input": "2023-04-28T13:51:03.187466Z",
     "iopub.status.busy": "2023-04-28T13:51:03.186625Z",
     "iopub.status.idle": "2023-04-28T13:51:03.192955Z",
     "shell.execute_reply": "2023-04-28T13:51:03.191633Z"
    },
    "papermill": {
     "duration": 0.013722,
     "end_time": "2023-04-28T13:51:03.195026",
     "exception": false,
     "start_time": "2023-04-28T13:51:03.181304",
     "status": "completed"
    },
    "tags": []
   },
   "outputs": [
    {
     "name": "stdout",
     "output_type": "stream",
     "text": [
      "Train dataloaderda 422 ta batch bor.\n",
      "Validation dataloaderda 47 ta batch bor.\n",
      "Test dataloaderda 79 ta batch bor.\n"
     ]
    }
   ],
   "source": [
    "print(f\"Train dataloaderda {len(tr_dl)} ta batch bor.\") \n",
    "print(f\"Validation dataloaderda {len(val_dl)} ta batch bor.\")\n",
    "print(f\"Test dataloaderda {len(test_dl)} ta batch bor.\") "
   ]
  },
  {
   "cell_type": "code",
   "execution_count": 8,
   "id": "1557c2eb",
   "metadata": {
    "execution": {
     "iopub.execute_input": "2023-04-28T13:51:03.205496Z",
     "iopub.status.busy": "2023-04-28T13:51:03.204713Z",
     "iopub.status.idle": "2023-04-28T13:51:03.211212Z",
     "shell.execute_reply": "2023-04-28T13:51:03.209838Z"
    },
    "papermill": {
     "duration": 0.013842,
     "end_time": "2023-04-28T13:51:03.213297",
     "exception": false,
     "start_time": "2023-04-28T13:51:03.199455",
     "status": "completed"
    },
    "tags": []
   },
   "outputs": [
    {
     "name": "stdout",
     "output_type": "stream",
     "text": [
      "256\n"
     ]
    }
   ],
   "source": [
    "im_size = 64\n",
    "in_chs = 1\n",
    "out_chs = 8\n",
    "ks = 3\n",
    "pad = 1 \n",
    "pool_size = 2\n",
    "num_classes = 10\n",
    "\n",
    "in_fs = (im_size // 32) * (im_size // 32)* out_chs * 8\n",
    "print(in_fs)\n"
   ]
  },
  {
   "cell_type": "code",
   "execution_count": 9,
   "id": "95e34082",
   "metadata": {
    "execution": {
     "iopub.execute_input": "2023-04-28T13:51:03.224112Z",
     "iopub.status.busy": "2023-04-28T13:51:03.223416Z",
     "iopub.status.idle": "2023-04-28T13:51:03.251934Z",
     "shell.execute_reply": "2023-04-28T13:51:03.250896Z"
    },
    "papermill": {
     "duration": 0.036134,
     "end_time": "2023-04-28T13:51:03.253993",
     "exception": false,
     "start_time": "2023-04-28T13:51:03.217859",
     "status": "completed"
    },
    "tags": []
   },
   "outputs": [
    {
     "data": {
      "text/plain": [
       "Model(\n",
       "  (conv_1): Conv2d(1, 8, kernel_size=(3, 3), stride=(1, 1), padding=(1, 1))\n",
       "  (act_1): ReLU()\n",
       "  (pool_1): MaxPool2d(kernel_size=2, stride=2, padding=0, dilation=1, ceil_mode=False)\n",
       "  (conv_2): Conv2d(8, 16, kernel_size=(3, 3), stride=(1, 1), padding=(1, 1))\n",
       "  (act_2): ReLU()\n",
       "  (pool_2): MaxPool2d(kernel_size=2, stride=2, padding=0, dilation=1, ceil_mode=False)\n",
       "  (conv_3): Conv2d(16, 32, kernel_size=(3, 3), stride=(1, 1), padding=(1, 1))\n",
       "  (act_3): ReLU()\n",
       "  (pool_3): MaxPool2d(kernel_size=2, stride=2, padding=0, dilation=1, ceil_mode=False)\n",
       "  (conv_4): Conv2d(32, 48, kernel_size=(3, 3), stride=(1, 1), padding=(1, 1))\n",
       "  (act_4): ReLU()\n",
       "  (pool_4): MaxPool2d(kernel_size=2, stride=2, padding=0, dilation=1, ceil_mode=False)\n",
       "  (conv_5): Conv2d(48, 64, kernel_size=(3, 3), stride=(1, 1), padding=(1, 1))\n",
       "  (act_5): ReLU()\n",
       "  (pool_5): MaxPool2d(kernel_size=2, stride=2, padding=0, dilation=1, ceil_mode=False)\n",
       "  (fc): Linear(in_features=256, out_features=128, bias=True)\n",
       "  (fc1): Linear(in_features=128, out_features=64, bias=True)\n",
       "  (out): Linear(in_features=64, out_features=10, bias=True)\n",
       "  (softmax): Softmax(dim=1)\n",
       ")"
      ]
     },
     "execution_count": 9,
     "metadata": {},
     "output_type": "execute_result"
    }
   ],
   "source": [
    "class Model(torch.nn.Module):\n",
    "    \n",
    "    def __init__(self, in_chs, out_chs, in_fs, ks, pad, ps, n_cls): \n",
    "        super(Model, self).__init__()\n",
    "        \n",
    "        self.in_chs, self.out_chs, self.ks, self.pad, self.ps, self.n_cls = in_chs, out_chs, pad, ks, ps, n_cls\n",
    "        \n",
    "        self.conv_1 = torch.nn.Conv2d(in_channels =in_chs, out_channels =out_chs, kernel_size = ks, padding = pad)\n",
    "        self.act_1 = torch.nn.ReLU()\n",
    "        self.pool_1 = torch.nn.MaxPool2d(kernel_size = ps, stride = ps)\n",
    "        \n",
    "        self.conv_2 = torch.nn.Conv2d(in_channels =out_chs, out_channels =out_chs*2, kernel_size = ks, padding = pad)\n",
    "        self.act_2 = torch.nn.ReLU()\n",
    "        self.pool_2 = torch.nn.MaxPool2d(kernel_size=ps, stride=ps)\n",
    "        \n",
    "        self.conv_3 = torch.nn.Conv2d(in_channels=out_chs*2, out_channels=out_chs*4, kernel_size=ks, padding=pad)\n",
    "        self.act_3 = torch.nn.ReLU()\n",
    "        self.pool_3 = torch.nn.MaxPool2d(kernel_size=ps, stride=ps)\n",
    "        \n",
    "        self.conv_4 = torch.nn.Conv2d(in_channels=out_chs*4, out_channels=out_chs*6, kernel_size=ks, padding=pad)\n",
    "        self.act_4 = torch.nn.ReLU()\n",
    "        self.pool_4 = torch.nn.MaxPool2d(kernel_size=ps, stride=ps) \n",
    "        \n",
    "        \n",
    "        self.conv_5 = torch.nn.Conv2d(in_channels=out_chs*6, out_channels=out_chs*8, kernel_size=ks, padding=pad)\n",
    "        self.act_5 = torch.nn.ReLU()\n",
    "        self.pool_5 = torch.nn.MaxPool2d(kernel_size=ps, stride=ps)\n",
    "        \n",
    "        \n",
    "        \n",
    "        self.fc = torch.nn.Linear(in_features = in_fs, out_features = in_fs//2)\n",
    "        self.fc1 = torch.nn.Linear(in_features=in_fs//2, out_features=in_fs//4)\n",
    "        self.out = torch.nn.Linear(in_features = in_fs//4, out_features = n_cls)\n",
    "        self.softmax = torch.nn.Softmax(dim = 1)\n",
    "        \n",
    "    def forward(self, inp):\n",
    "        \n",
    "        conv_1 = self.conv_1(inp) \n",
    "        act_1 = self.act_1(conv_1)\n",
    "        out_1 = self.pool_1(act_1)\n",
    "        \n",
    "        conv_2 = self.conv_2(out_1)\n",
    "        act_2 = self.act_2(conv_2)\n",
    "        out_2 = self.pool_2(act_2)\n",
    "        \n",
    "        conv_3 = self.conv_3(out_2)\n",
    "        act_3 = self.act_3(conv_3)\n",
    "        out_3 = self.pool_3(act_3)\n",
    "        \n",
    "        conv_4 = self.conv_4(out_3)\n",
    "        act_4  = self.act_4(conv_4)\n",
    "        out_4  = self.pool_4(act_4)\n",
    "        \n",
    "        conv_5 = self.conv_5(out_4)\n",
    "        act_5  = self.act_5(conv_5)\n",
    "        out_5  = self.pool_5(act_5)\n",
    "          \n",
    "        \n",
    "        bs = inp.shape[0]\n",
    "        flat = out_5.view(bs, -1)\n",
    "        fc_1 = self.fc(flat)\n",
    "        fc_2 = self.fc1(fc_1)\n",
    "        out =self.out(fc_2)\n",
    "        \n",
    "        #fc_1 = self.act(self.fc(flat))\n",
    "        #fc_2 = self.act_2(self.fc1(fc_1))\n",
    "        #out = self.softmax(self.out(fc_2))\n",
    "        \n",
    "        return self.softmax(out)\n",
    "    \n",
    "m = Model(in_chs = in_chs, out_chs = out_chs, in_fs = in_fs, ks = ks, pad = pad, ps = pool_size, n_cls = num_classes)\n",
    "m"
   ]
  },
  {
   "cell_type": "code",
   "execution_count": 10,
   "id": "de909db1",
   "metadata": {
    "execution": {
     "iopub.execute_input": "2023-04-28T13:51:03.265453Z",
     "iopub.status.busy": "2023-04-28T13:51:03.264479Z",
     "iopub.status.idle": "2023-04-28T13:51:03.342628Z",
     "shell.execute_reply": "2023-04-28T13:51:03.341508Z"
    },
    "papermill": {
     "duration": 0.08628,
     "end_time": "2023-04-28T13:51:03.345037",
     "exception": false,
     "start_time": "2023-04-28T13:51:03.258757",
     "status": "completed"
    },
    "tags": []
   },
   "outputs": [
    {
     "data": {
      "text/plain": [
       "tensor([[0.1020, 0.1101, 0.1023, 0.0976, 0.1054, 0.0885, 0.1032, 0.0969, 0.0996,\n",
       "         0.0943]], grad_fn=<SoftmaxBackward0>)"
      ]
     },
     "execution_count": 10,
     "metadata": {},
     "output_type": "execute_result"
    }
   ],
   "source": [
    "\n",
    "\n",
    "\n",
    "    \n",
    "m = Model(in_chs = in_chs, out_chs = out_chs, in_fs = in_fs, ks = ks, pad = pad, ps = pool_size, n_cls = num_classes)\n",
    "x = torch.rand(1, in_chs, im_size, im_size)\n",
    "m(x)\n",
    "\n"
   ]
  },
  {
   "cell_type": "code",
   "execution_count": 11,
   "id": "7a0fb27f",
   "metadata": {
    "execution": {
     "iopub.execute_input": "2023-04-28T13:51:03.356570Z",
     "iopub.status.busy": "2023-04-28T13:51:03.355747Z",
     "iopub.status.idle": "2023-04-28T13:51:03.361202Z",
     "shell.execute_reply": "2023-04-28T13:51:03.360321Z"
    },
    "papermill": {
     "duration": 0.01345,
     "end_time": "2023-04-28T13:51:03.363280",
     "exception": false,
     "start_time": "2023-04-28T13:51:03.349830",
     "status": "completed"
    },
    "tags": []
   },
   "outputs": [],
   "source": [
    "def train_setup(m): return m.to(\"cuda\"), 10, \"cuda\", torch.nn.CrossEntropyLoss(), torch.optim.Adam(params = m.parameters(), lr = 0.001)"
   ]
  },
  {
   "cell_type": "code",
   "execution_count": 12,
   "id": "9a0e1e84",
   "metadata": {
    "execution": {
     "iopub.execute_input": "2023-04-28T13:51:03.374407Z",
     "iopub.status.busy": "2023-04-28T13:51:03.373613Z",
     "iopub.status.idle": "2023-04-28T13:51:05.765326Z",
     "shell.execute_reply": "2023-04-28T13:51:05.764278Z"
    },
    "papermill": {
     "duration": 2.400192,
     "end_time": "2023-04-28T13:51:05.768219",
     "exception": false,
     "start_time": "2023-04-28T13:51:03.368027",
     "status": "completed"
    },
    "tags": []
   },
   "outputs": [],
   "source": [
    "m, epochs, device, loss_fn, optimizer = train_setup(m)"
   ]
  },
  {
   "cell_type": "code",
   "execution_count": 13,
   "id": "8ff52ba6",
   "metadata": {
    "execution": {
     "iopub.execute_input": "2023-04-28T13:51:05.779998Z",
     "iopub.status.busy": "2023-04-28T13:51:05.779655Z",
     "iopub.status.idle": "2023-04-28T13:54:26.143300Z",
     "shell.execute_reply": "2023-04-28T13:54:26.142028Z"
    },
    "papermill": {
     "duration": 200.372477,
     "end_time": "2023-04-28T13:54:26.145860",
     "exception": false,
     "start_time": "2023-04-28T13:51:05.773383",
     "status": "completed"
    },
    "tags": []
   },
   "outputs": [
    {
     "name": "stdout",
     "output_type": "stream",
     "text": [
      "Train boshlandi...\n"
     ]
    },
    {
     "name": "stderr",
     "output_type": "stream",
     "text": [
      "422it [00:21, 19.88it/s]"
     ]
    },
    {
     "name": "stdout",
     "output_type": "stream",
     "text": [
      "Epoch 1 train jarayoni tugadi\n",
      "Epoch 1 dagi train loss -> 1.644\n",
      "Epoch 1 dagi train accuracy -> 0.820\n"
     ]
    },
    {
     "name": "stderr",
     "output_type": "stream",
     "text": [
      "\n"
     ]
    },
    {
     "name": "stdout",
     "output_type": "stream",
     "text": [
      "Epoch 1 validation jarayoni tugadi\n",
      "Epoch 1 dagi validation loss -> 1.508\n",
      "Epoch 1 dagi validation accuracy -> 0.954\n"
     ]
    },
    {
     "name": "stderr",
     "output_type": "stream",
     "text": [
      "422it [00:16, 24.84it/s]"
     ]
    },
    {
     "name": "stdout",
     "output_type": "stream",
     "text": [
      "Epoch 2 train jarayoni tugadi\n",
      "Epoch 2 dagi train loss -> 1.503\n",
      "Epoch 2 dagi train accuracy -> 0.959\n"
     ]
    },
    {
     "name": "stderr",
     "output_type": "stream",
     "text": [
      "\n"
     ]
    },
    {
     "name": "stdout",
     "output_type": "stream",
     "text": [
      "Epoch 2 validation jarayoni tugadi\n",
      "Epoch 2 dagi validation loss -> 1.503\n",
      "Epoch 2 dagi validation accuracy -> 0.958\n"
     ]
    },
    {
     "name": "stderr",
     "output_type": "stream",
     "text": [
      "422it [00:17, 24.40it/s]"
     ]
    },
    {
     "name": "stdout",
     "output_type": "stream",
     "text": [
      "Epoch 3 train jarayoni tugadi\n",
      "Epoch 3 dagi train loss -> 1.496\n",
      "Epoch 3 dagi train accuracy -> 0.966\n"
     ]
    },
    {
     "name": "stderr",
     "output_type": "stream",
     "text": [
      "\n"
     ]
    },
    {
     "name": "stdout",
     "output_type": "stream",
     "text": [
      "Epoch 3 validation jarayoni tugadi\n",
      "Epoch 3 dagi validation loss -> 1.485\n",
      "Epoch 3 dagi validation accuracy -> 0.976\n"
     ]
    },
    {
     "name": "stderr",
     "output_type": "stream",
     "text": [
      "422it [00:17, 23.60it/s]"
     ]
    },
    {
     "name": "stdout",
     "output_type": "stream",
     "text": [
      "Epoch 4 train jarayoni tugadi\n",
      "Epoch 4 dagi train loss -> 1.487\n",
      "Epoch 4 dagi train accuracy -> 0.974\n"
     ]
    },
    {
     "name": "stderr",
     "output_type": "stream",
     "text": [
      "\n"
     ]
    },
    {
     "name": "stdout",
     "output_type": "stream",
     "text": [
      "Epoch 4 validation jarayoni tugadi\n",
      "Epoch 4 dagi validation loss -> 1.484\n",
      "Epoch 4 dagi validation accuracy -> 0.978\n"
     ]
    },
    {
     "name": "stderr",
     "output_type": "stream",
     "text": [
      "422it [00:17, 24.37it/s]"
     ]
    },
    {
     "name": "stdout",
     "output_type": "stream",
     "text": [
      "Epoch 5 train jarayoni tugadi\n",
      "Epoch 5 dagi train loss -> 1.485\n",
      "Epoch 5 dagi train accuracy -> 0.977\n"
     ]
    },
    {
     "name": "stderr",
     "output_type": "stream",
     "text": [
      "\n"
     ]
    },
    {
     "name": "stdout",
     "output_type": "stream",
     "text": [
      "Epoch 5 validation jarayoni tugadi\n",
      "Epoch 5 dagi validation loss -> 1.481\n",
      "Epoch 5 dagi validation accuracy -> 0.980\n"
     ]
    },
    {
     "name": "stderr",
     "output_type": "stream",
     "text": [
      "422it [00:17, 23.46it/s]"
     ]
    },
    {
     "name": "stdout",
     "output_type": "stream",
     "text": [
      "Epoch 6 train jarayoni tugadi\n",
      "Epoch 6 dagi train loss -> 1.482\n",
      "Epoch 6 dagi train accuracy -> 0.979\n"
     ]
    },
    {
     "name": "stderr",
     "output_type": "stream",
     "text": [
      "\n"
     ]
    },
    {
     "name": "stdout",
     "output_type": "stream",
     "text": [
      "Epoch 6 validation jarayoni tugadi\n",
      "Epoch 6 dagi validation loss -> 1.479\n",
      "Epoch 6 dagi validation accuracy -> 0.982\n"
     ]
    },
    {
     "name": "stderr",
     "output_type": "stream",
     "text": [
      "422it [00:17, 23.52it/s]"
     ]
    },
    {
     "name": "stdout",
     "output_type": "stream",
     "text": [
      "Epoch 7 train jarayoni tugadi\n",
      "Epoch 7 dagi train loss -> 1.480\n",
      "Epoch 7 dagi train accuracy -> 0.981\n"
     ]
    },
    {
     "name": "stderr",
     "output_type": "stream",
     "text": [
      "\n"
     ]
    },
    {
     "name": "stdout",
     "output_type": "stream",
     "text": [
      "Epoch 7 validation jarayoni tugadi\n",
      "Epoch 7 dagi validation loss -> 1.486\n",
      "Epoch 7 dagi validation accuracy -> 0.975\n"
     ]
    },
    {
     "name": "stderr",
     "output_type": "stream",
     "text": [
      "422it [00:17, 24.62it/s]"
     ]
    },
    {
     "name": "stdout",
     "output_type": "stream",
     "text": [
      "Epoch 8 train jarayoni tugadi\n",
      "Epoch 8 dagi train loss -> 1.480\n",
      "Epoch 8 dagi train accuracy -> 0.981\n"
     ]
    },
    {
     "name": "stderr",
     "output_type": "stream",
     "text": [
      "\n"
     ]
    },
    {
     "name": "stdout",
     "output_type": "stream",
     "text": [
      "Epoch 8 validation jarayoni tugadi\n",
      "Epoch 8 dagi validation loss -> 1.479\n",
      "Epoch 8 dagi validation accuracy -> 0.982\n"
     ]
    },
    {
     "name": "stderr",
     "output_type": "stream",
     "text": [
      "422it [00:17, 23.60it/s]"
     ]
    },
    {
     "name": "stdout",
     "output_type": "stream",
     "text": [
      "Epoch 9 train jarayoni tugadi\n",
      "Epoch 9 dagi train loss -> 1.480\n",
      "Epoch 9 dagi train accuracy -> 0.981\n"
     ]
    },
    {
     "name": "stderr",
     "output_type": "stream",
     "text": [
      "\n"
     ]
    },
    {
     "name": "stdout",
     "output_type": "stream",
     "text": [
      "Epoch 9 validation jarayoni tugadi\n",
      "Epoch 9 dagi validation loss -> 1.476\n",
      "Epoch 9 dagi validation accuracy -> 0.986\n"
     ]
    },
    {
     "name": "stderr",
     "output_type": "stream",
     "text": [
      "422it [00:16, 24.89it/s]\n"
     ]
    },
    {
     "name": "stdout",
     "output_type": "stream",
     "text": [
      "Epoch 10 train jarayoni tugadi\n",
      "Epoch 10 dagi train loss -> 1.482\n",
      "Epoch 10 dagi train accuracy -> 0.980\n",
      "Epoch 10 validation jarayoni tugadi\n",
      "Epoch 10 dagi validation loss -> 1.483\n",
      "Epoch 10 dagi validation accuracy -> 0.978\n"
     ]
    }
   ],
   "source": [
    "from tqdm import tqdm\n",
    "\n",
    "print(\"Train boshlandi...\")\n",
    "best_acc = 0\n",
    "for epoch in range(epochs):\n",
    "    \n",
    "    epoch_loss, epoch_acc, total = 0, 0, 0\n",
    "    for idx, batch in tqdm(enumerate(tr_dl)):\n",
    "        ims, gts = batch\n",
    "        ims, gts = ims.to(device), gts.to(device)\n",
    "        \n",
    "        # print(ims.shape)\n",
    "        # print(gts.shape)\n",
    "        total += ims.shape[0]\n",
    "        \n",
    "        preds = m(ims)\n",
    "        _, pred_cls = torch.max(preds.data, dim = 1)\n",
    "        # print(pred_cls)\n",
    "        # print(gts)\n",
    "        loss = loss_fn(preds, gts)\n",
    "        # loss = loss_fn(preds, gts.unsqueeze(1))\n",
    "        \n",
    "        epoch_acc += (pred_cls == gts).sum().item()\n",
    "        epoch_loss += loss.item()\n",
    "        \n",
    "        optimizer.zero_grad()\n",
    "        loss.backward()\n",
    "        optimizer.step()\n",
    "    \n",
    "    tr_loss = epoch_loss / len(tr_dl)\n",
    "    print(f\"Epoch {epoch + 1} train jarayoni tugadi\")\n",
    "    print(f\"Epoch {epoch + 1} dagi train loss -> {(tr_loss):.3f}\")\n",
    "    print(f\"Epoch {epoch + 1} dagi train accuracy -> {(epoch_acc / total):.3f}\")\n",
    "    \n",
    "    m.eval()\n",
    "    with torch.no_grad():\n",
    "        val_epoch_loss, val_epoch_acc, val_total = 0, 0, 0\n",
    "        for idx, batch in enumerate(val_dl):\n",
    "            ims, gts = batch\n",
    "            ims, gts = ims.to(device), gts.to(device)\n",
    "            val_total += ims.shape[0]\n",
    "\n",
    "            preds = m(ims)\n",
    "            loss = loss_fn(preds, gts)\n",
    "            _, pred_cls = torch.max(preds.data, dim = 1)\n",
    "            val_epoch_acc += (pred_cls == gts).sum().item()\n",
    "            val_epoch_loss += loss.item()\n",
    "        \n",
    "        val_acc = val_epoch_acc / val_total\n",
    "        val_loss = val_epoch_loss / len(val_dl)\n",
    "        \n",
    "        print(f\"Epoch {epoch + 1} validation jarayoni tugadi\")\n",
    "        print(f\"Epoch {epoch + 1} dagi validation loss -> {(val_loss):.3f}\")\n",
    "        print(f\"Epoch {epoch + 1} dagi validation accuracy -> {val_acc:.3f}\")\n",
    "        \n",
    "        \n",
    "        if val_acc > best_acc:\n",
    "            os.makedirs(\"saved_models\", exist_ok=True)\n",
    "            best_acc = val_acc\n",
    "            torch.save(m.state_dict(), f\"saved_models/cifar_best_model_{val_acc:.3f}.pth\")        "
   ]
  },
  {
   "cell_type": "code",
   "execution_count": null,
   "id": "86b0563a",
   "metadata": {
    "papermill": {
     "duration": 0.063187,
     "end_time": "2023-04-28T13:54:26.272397",
     "exception": false,
     "start_time": "2023-04-28T13:54:26.209210",
     "status": "completed"
    },
    "tags": []
   },
   "outputs": [],
   "source": []
  },
  {
   "cell_type": "code",
   "execution_count": null,
   "id": "d6af116a",
   "metadata": {
    "papermill": {
     "duration": 0.064016,
     "end_time": "2023-04-28T13:54:26.399644",
     "exception": false,
     "start_time": "2023-04-28T13:54:26.335628",
     "status": "completed"
    },
    "tags": []
   },
   "outputs": [],
   "source": []
  }
 ],
 "metadata": {
  "kernelspec": {
   "display_name": "Python 3",
   "language": "python",
   "name": "python3"
  },
  "language_info": {
   "codemirror_mode": {
    "name": "ipython",
    "version": 3
   },
   "file_extension": ".py",
   "mimetype": "text/x-python",
   "name": "python",
   "nbconvert_exporter": "python",
   "pygments_lexer": "ipython3",
   "version": "3.7.12"
  },
  "papermill": {
   "default_parameters": {},
   "duration": 219.833023,
   "end_time": "2023-04-28T13:54:28.934519",
   "environment_variables": {},
   "exception": null,
   "input_path": "__notebook__.ipynb",
   "output_path": "__notebook__.ipynb",
   "parameters": {},
   "start_time": "2023-04-28T13:50:49.101496",
   "version": "2.4.0"
  },
  "widgets": {
   "application/vnd.jupyter.widget-state+json": {
    "state": {
     "07e6fe57dc3e4a2ea10f033918daae80": {
      "model_module": "@jupyter-widgets/controls",
      "model_module_version": "1.5.0",
      "model_name": "HTMLModel",
      "state": {
       "_dom_classes": [],
       "_model_module": "@jupyter-widgets/controls",
       "_model_module_version": "1.5.0",
       "_model_name": "HTMLModel",
       "_view_count": null,
       "_view_module": "@jupyter-widgets/controls",
       "_view_module_version": "1.5.0",
       "_view_name": "HTMLView",
       "description": "",
       "description_tooltip": null,
       "layout": "IPY_MODEL_74f4a608ba6647ef9670cd04059438e2",
       "placeholder": "​",
       "style": "IPY_MODEL_23f09d3a805941f0b8ff4ce98220ee99",
       "value": "100%"
      }
     },
     "0894051fbe93441a912767c4f571541a": {
      "model_module": "@jupyter-widgets/base",
      "model_module_version": "1.2.0",
      "model_name": "LayoutModel",
      "state": {
       "_model_module": "@jupyter-widgets/base",
       "_model_module_version": "1.2.0",
       "_model_name": "LayoutModel",
       "_view_count": null,
       "_view_module": "@jupyter-widgets/base",
       "_view_module_version": "1.2.0",
       "_view_name": "LayoutView",
       "align_content": null,
       "align_items": null,
       "align_self": null,
       "border": null,
       "bottom": null,
       "display": null,
       "flex": null,
       "flex_flow": null,
       "grid_area": null,
       "grid_auto_columns": null,
       "grid_auto_flow": null,
       "grid_auto_rows": null,
       "grid_column": null,
       "grid_gap": null,
       "grid_row": null,
       "grid_template_areas": null,
       "grid_template_columns": null,
       "grid_template_rows": null,
       "height": null,
       "justify_content": null,
       "justify_items": null,
       "left": null,
       "margin": null,
       "max_height": null,
       "max_width": null,
       "min_height": null,
       "min_width": null,
       "object_fit": null,
       "object_position": null,
       "order": null,
       "overflow": null,
       "overflow_x": null,
       "overflow_y": null,
       "padding": null,
       "right": null,
       "top": null,
       "visibility": null,
       "width": null
      }
     },
     "0f444e0ce8d9406eb352cb8922cb0626": {
      "model_module": "@jupyter-widgets/controls",
      "model_module_version": "1.5.0",
      "model_name": "DescriptionStyleModel",
      "state": {
       "_model_module": "@jupyter-widgets/controls",
       "_model_module_version": "1.5.0",
       "_model_name": "DescriptionStyleModel",
       "_view_count": null,
       "_view_module": "@jupyter-widgets/base",
       "_view_module_version": "1.2.0",
       "_view_name": "StyleView",
       "description_width": ""
      }
     },
     "1262801586b04232ae3d7982ce61058a": {
      "model_module": "@jupyter-widgets/base",
      "model_module_version": "1.2.0",
      "model_name": "LayoutModel",
      "state": {
       "_model_module": "@jupyter-widgets/base",
       "_model_module_version": "1.2.0",
       "_model_name": "LayoutModel",
       "_view_count": null,
       "_view_module": "@jupyter-widgets/base",
       "_view_module_version": "1.2.0",
       "_view_name": "LayoutView",
       "align_content": null,
       "align_items": null,
       "align_self": null,
       "border": null,
       "bottom": null,
       "display": null,
       "flex": null,
       "flex_flow": null,
       "grid_area": null,
       "grid_auto_columns": null,
       "grid_auto_flow": null,
       "grid_auto_rows": null,
       "grid_column": null,
       "grid_gap": null,
       "grid_row": null,
       "grid_template_areas": null,
       "grid_template_columns": null,
       "grid_template_rows": null,
       "height": null,
       "justify_content": null,
       "justify_items": null,
       "left": null,
       "margin": null,
       "max_height": null,
       "max_width": null,
       "min_height": null,
       "min_width": null,
       "object_fit": null,
       "object_position": null,
       "order": null,
       "overflow": null,
       "overflow_x": null,
       "overflow_y": null,
       "padding": null,
       "right": null,
       "top": null,
       "visibility": null,
       "width": null
      }
     },
     "13fdb41ee2dc497380b6af2700a28559": {
      "model_module": "@jupyter-widgets/controls",
      "model_module_version": "1.5.0",
      "model_name": "DescriptionStyleModel",
      "state": {
       "_model_module": "@jupyter-widgets/controls",
       "_model_module_version": "1.5.0",
       "_model_name": "DescriptionStyleModel",
       "_view_count": null,
       "_view_module": "@jupyter-widgets/base",
       "_view_module_version": "1.2.0",
       "_view_name": "StyleView",
       "description_width": ""
      }
     },
     "1515be5f075a4a7d8b79f23d794c89ef": {
      "model_module": "@jupyter-widgets/controls",
      "model_module_version": "1.5.0",
      "model_name": "HBoxModel",
      "state": {
       "_dom_classes": [],
       "_model_module": "@jupyter-widgets/controls",
       "_model_module_version": "1.5.0",
       "_model_name": "HBoxModel",
       "_view_count": null,
       "_view_module": "@jupyter-widgets/controls",
       "_view_module_version": "1.5.0",
       "_view_name": "HBoxView",
       "box_style": "",
       "children": [
        "IPY_MODEL_cd56a8897b5f45a29de140cca87bf1e2",
        "IPY_MODEL_84335f82778d41b48dd6fdfd91ba3386",
        "IPY_MODEL_47b6797805914286b63fbda3611db880"
       ],
       "layout": "IPY_MODEL_1262801586b04232ae3d7982ce61058a"
      }
     },
     "17c5c0c32e4e4770a14be6bc1bf1294f": {
      "model_module": "@jupyter-widgets/controls",
      "model_module_version": "1.5.0",
      "model_name": "FloatProgressModel",
      "state": {
       "_dom_classes": [],
       "_model_module": "@jupyter-widgets/controls",
       "_model_module_version": "1.5.0",
       "_model_name": "FloatProgressModel",
       "_view_count": null,
       "_view_module": "@jupyter-widgets/controls",
       "_view_module_version": "1.5.0",
       "_view_name": "ProgressView",
       "bar_style": "success",
       "description": "",
       "description_tooltip": null,
       "layout": "IPY_MODEL_5be01f8d673b4485a6a614a7844a04f6",
       "max": 1648877.0,
       "min": 0.0,
       "orientation": "horizontal",
       "style": "IPY_MODEL_79176f859b9a4af2bba33769cb4e1edd",
       "value": 1648877.0
      }
     },
     "1b9d3e20be914b36bc376fd4220bf426": {
      "model_module": "@jupyter-widgets/base",
      "model_module_version": "1.2.0",
      "model_name": "LayoutModel",
      "state": {
       "_model_module": "@jupyter-widgets/base",
       "_model_module_version": "1.2.0",
       "_model_name": "LayoutModel",
       "_view_count": null,
       "_view_module": "@jupyter-widgets/base",
       "_view_module_version": "1.2.0",
       "_view_name": "LayoutView",
       "align_content": null,
       "align_items": null,
       "align_self": null,
       "border": null,
       "bottom": null,
       "display": null,
       "flex": null,
       "flex_flow": null,
       "grid_area": null,
       "grid_auto_columns": null,
       "grid_auto_flow": null,
       "grid_auto_rows": null,
       "grid_column": null,
       "grid_gap": null,
       "grid_row": null,
       "grid_template_areas": null,
       "grid_template_columns": null,
       "grid_template_rows": null,
       "height": null,
       "justify_content": null,
       "justify_items": null,
       "left": null,
       "margin": null,
       "max_height": null,
       "max_width": null,
       "min_height": null,
       "min_width": null,
       "object_fit": null,
       "object_position": null,
       "order": null,
       "overflow": null,
       "overflow_x": null,
       "overflow_y": null,
       "padding": null,
       "right": null,
       "top": null,
       "visibility": null,
       "width": null
      }
     },
     "23f09d3a805941f0b8ff4ce98220ee99": {
      "model_module": "@jupyter-widgets/controls",
      "model_module_version": "1.5.0",
      "model_name": "DescriptionStyleModel",
      "state": {
       "_model_module": "@jupyter-widgets/controls",
       "_model_module_version": "1.5.0",
       "_model_name": "DescriptionStyleModel",
       "_view_count": null,
       "_view_module": "@jupyter-widgets/base",
       "_view_module_version": "1.2.0",
       "_view_name": "StyleView",
       "description_width": ""
      }
     },
     "29ff089b8c9747a5a3fa076d55618334": {
      "model_module": "@jupyter-widgets/base",
      "model_module_version": "1.2.0",
      "model_name": "LayoutModel",
      "state": {
       "_model_module": "@jupyter-widgets/base",
       "_model_module_version": "1.2.0",
       "_model_name": "LayoutModel",
       "_view_count": null,
       "_view_module": "@jupyter-widgets/base",
       "_view_module_version": "1.2.0",
       "_view_name": "LayoutView",
       "align_content": null,
       "align_items": null,
       "align_self": null,
       "border": null,
       "bottom": null,
       "display": null,
       "flex": null,
       "flex_flow": null,
       "grid_area": null,
       "grid_auto_columns": null,
       "grid_auto_flow": null,
       "grid_auto_rows": null,
       "grid_column": null,
       "grid_gap": null,
       "grid_row": null,
       "grid_template_areas": null,
       "grid_template_columns": null,
       "grid_template_rows": null,
       "height": null,
       "justify_content": null,
       "justify_items": null,
       "left": null,
       "margin": null,
       "max_height": null,
       "max_width": null,
       "min_height": null,
       "min_width": null,
       "object_fit": null,
       "object_position": null,
       "order": null,
       "overflow": null,
       "overflow_x": null,
       "overflow_y": null,
       "padding": null,
       "right": null,
       "top": null,
       "visibility": null,
       "width": null
      }
     },
     "2ad0b9e14eaa45fa99691a3886da5213": {
      "model_module": "@jupyter-widgets/controls",
      "model_module_version": "1.5.0",
      "model_name": "HBoxModel",
      "state": {
       "_dom_classes": [],
       "_model_module": "@jupyter-widgets/controls",
       "_model_module_version": "1.5.0",
       "_model_name": "HBoxModel",
       "_view_count": null,
       "_view_module": "@jupyter-widgets/controls",
       "_view_module_version": "1.5.0",
       "_view_name": "HBoxView",
       "box_style": "",
       "children": [
        "IPY_MODEL_07e6fe57dc3e4a2ea10f033918daae80",
        "IPY_MODEL_da2dc24cf3eb4e7ab2bebeb8613b8994",
        "IPY_MODEL_3241c717d94d4a69aaf93a2586b46ae8"
       ],
       "layout": "IPY_MODEL_29ff089b8c9747a5a3fa076d55618334"
      }
     },
     "2d65673425fe4db991ea7ddc66ed3ef6": {
      "model_module": "@jupyter-widgets/controls",
      "model_module_version": "1.5.0",
      "model_name": "DescriptionStyleModel",
      "state": {
       "_model_module": "@jupyter-widgets/controls",
       "_model_module_version": "1.5.0",
       "_model_name": "DescriptionStyleModel",
       "_view_count": null,
       "_view_module": "@jupyter-widgets/base",
       "_view_module_version": "1.2.0",
       "_view_name": "StyleView",
       "description_width": ""
      }
     },
     "3241c717d94d4a69aaf93a2586b46ae8": {
      "model_module": "@jupyter-widgets/controls",
      "model_module_version": "1.5.0",
      "model_name": "HTMLModel",
      "state": {
       "_dom_classes": [],
       "_model_module": "@jupyter-widgets/controls",
       "_model_module_version": "1.5.0",
       "_model_name": "HTMLModel",
       "_view_count": null,
       "_view_module": "@jupyter-widgets/controls",
       "_view_module_version": "1.5.0",
       "_view_name": "HTMLView",
       "description": "",
       "description_tooltip": null,
       "layout": "IPY_MODEL_abf60f790eaa47d59e0f33d5b86325f5",
       "placeholder": "​",
       "style": "IPY_MODEL_72f51ef4121a42629c55eafa5a785da1",
       "value": " 28881/28881 [00:00&lt;00:00, 2232298.79it/s]"
      }
     },
     "3fb417ae15cd4393843541df73c5cdaa": {
      "model_module": "@jupyter-widgets/controls",
      "model_module_version": "1.5.0",
      "model_name": "HTMLModel",
      "state": {
       "_dom_classes": [],
       "_model_module": "@jupyter-widgets/controls",
       "_model_module_version": "1.5.0",
       "_model_name": "HTMLModel",
       "_view_count": null,
       "_view_module": "@jupyter-widgets/controls",
       "_view_module_version": "1.5.0",
       "_view_name": "HTMLView",
       "description": "",
       "description_tooltip": null,
       "layout": "IPY_MODEL_0894051fbe93441a912767c4f571541a",
       "placeholder": "​",
       "style": "IPY_MODEL_990370523c0e44f2bff4f2bc0371f769",
       "value": "100%"
      }
     },
     "41e3db2dfe2345e2a5c5824642c3023f": {
      "model_module": "@jupyter-widgets/controls",
      "model_module_version": "1.5.0",
      "model_name": "DescriptionStyleModel",
      "state": {
       "_model_module": "@jupyter-widgets/controls",
       "_model_module_version": "1.5.0",
       "_model_name": "DescriptionStyleModel",
       "_view_count": null,
       "_view_module": "@jupyter-widgets/base",
       "_view_module_version": "1.2.0",
       "_view_name": "StyleView",
       "description_width": ""
      }
     },
     "42a5efcd6ec145498a91474a5b61e091": {
      "model_module": "@jupyter-widgets/controls",
      "model_module_version": "1.5.0",
      "model_name": "HBoxModel",
      "state": {
       "_dom_classes": [],
       "_model_module": "@jupyter-widgets/controls",
       "_model_module_version": "1.5.0",
       "_model_name": "HBoxModel",
       "_view_count": null,
       "_view_module": "@jupyter-widgets/controls",
       "_view_module_version": "1.5.0",
       "_view_name": "HBoxView",
       "box_style": "",
       "children": [
        "IPY_MODEL_3fb417ae15cd4393843541df73c5cdaa",
        "IPY_MODEL_e0ee205bb3654e3aa4a4db6dde0c85f0",
        "IPY_MODEL_b0be5bd3ae454630baeaf7fa40997ff6"
       ],
       "layout": "IPY_MODEL_eb1c332ba8834d9480701b24e52b496f"
      }
     },
     "42e9b422f6674edf820c9ced9b315f11": {
      "model_module": "@jupyter-widgets/controls",
      "model_module_version": "1.5.0",
      "model_name": "ProgressStyleModel",
      "state": {
       "_model_module": "@jupyter-widgets/controls",
       "_model_module_version": "1.5.0",
       "_model_name": "ProgressStyleModel",
       "_view_count": null,
       "_view_module": "@jupyter-widgets/base",
       "_view_module_version": "1.2.0",
       "_view_name": "StyleView",
       "bar_color": null,
       "description_width": ""
      }
     },
     "47b6797805914286b63fbda3611db880": {
      "model_module": "@jupyter-widgets/controls",
      "model_module_version": "1.5.0",
      "model_name": "HTMLModel",
      "state": {
       "_dom_classes": [],
       "_model_module": "@jupyter-widgets/controls",
       "_model_module_version": "1.5.0",
       "_model_name": "HTMLModel",
       "_view_count": null,
       "_view_module": "@jupyter-widgets/controls",
       "_view_module_version": "1.5.0",
       "_view_name": "HTMLView",
       "description": "",
       "description_tooltip": null,
       "layout": "IPY_MODEL_84b193e505b74f6bb821cd57c32dde17",
       "placeholder": "​",
       "style": "IPY_MODEL_41e3db2dfe2345e2a5c5824642c3023f",
       "value": " 9912422/9912422 [00:00&lt;00:00, 208805653.32it/s]"
      }
     },
     "55359de944c94acba82f4e2241cc49b2": {
      "model_module": "@jupyter-widgets/controls",
      "model_module_version": "1.5.0",
      "model_name": "HTMLModel",
      "state": {
       "_dom_classes": [],
       "_model_module": "@jupyter-widgets/controls",
       "_model_module_version": "1.5.0",
       "_model_name": "HTMLModel",
       "_view_count": null,
       "_view_module": "@jupyter-widgets/controls",
       "_view_module_version": "1.5.0",
       "_view_name": "HTMLView",
       "description": "",
       "description_tooltip": null,
       "layout": "IPY_MODEL_600f8fa47e65480ca3d81f58156fbc34",
       "placeholder": "​",
       "style": "IPY_MODEL_2d65673425fe4db991ea7ddc66ed3ef6",
       "value": " 1648877/1648877 [00:00&lt;00:00, 54729918.30it/s]"
      }
     },
     "5be01f8d673b4485a6a614a7844a04f6": {
      "model_module": "@jupyter-widgets/base",
      "model_module_version": "1.2.0",
      "model_name": "LayoutModel",
      "state": {
       "_model_module": "@jupyter-widgets/base",
       "_model_module_version": "1.2.0",
       "_model_name": "LayoutModel",
       "_view_count": null,
       "_view_module": "@jupyter-widgets/base",
       "_view_module_version": "1.2.0",
       "_view_name": "LayoutView",
       "align_content": null,
       "align_items": null,
       "align_self": null,
       "border": null,
       "bottom": null,
       "display": null,
       "flex": null,
       "flex_flow": null,
       "grid_area": null,
       "grid_auto_columns": null,
       "grid_auto_flow": null,
       "grid_auto_rows": null,
       "grid_column": null,
       "grid_gap": null,
       "grid_row": null,
       "grid_template_areas": null,
       "grid_template_columns": null,
       "grid_template_rows": null,
       "height": null,
       "justify_content": null,
       "justify_items": null,
       "left": null,
       "margin": null,
       "max_height": null,
       "max_width": null,
       "min_height": null,
       "min_width": null,
       "object_fit": null,
       "object_position": null,
       "order": null,
       "overflow": null,
       "overflow_x": null,
       "overflow_y": null,
       "padding": null,
       "right": null,
       "top": null,
       "visibility": null,
       "width": null
      }
     },
     "600f8fa47e65480ca3d81f58156fbc34": {
      "model_module": "@jupyter-widgets/base",
      "model_module_version": "1.2.0",
      "model_name": "LayoutModel",
      "state": {
       "_model_module": "@jupyter-widgets/base",
       "_model_module_version": "1.2.0",
       "_model_name": "LayoutModel",
       "_view_count": null,
       "_view_module": "@jupyter-widgets/base",
       "_view_module_version": "1.2.0",
       "_view_name": "LayoutView",
       "align_content": null,
       "align_items": null,
       "align_self": null,
       "border": null,
       "bottom": null,
       "display": null,
       "flex": null,
       "flex_flow": null,
       "grid_area": null,
       "grid_auto_columns": null,
       "grid_auto_flow": null,
       "grid_auto_rows": null,
       "grid_column": null,
       "grid_gap": null,
       "grid_row": null,
       "grid_template_areas": null,
       "grid_template_columns": null,
       "grid_template_rows": null,
       "height": null,
       "justify_content": null,
       "justify_items": null,
       "left": null,
       "margin": null,
       "max_height": null,
       "max_width": null,
       "min_height": null,
       "min_width": null,
       "object_fit": null,
       "object_position": null,
       "order": null,
       "overflow": null,
       "overflow_x": null,
       "overflow_y": null,
       "padding": null,
       "right": null,
       "top": null,
       "visibility": null,
       "width": null
      }
     },
     "6bfb592102c245f9b27c285dd9f7ad83": {
      "model_module": "@jupyter-widgets/controls",
      "model_module_version": "1.5.0",
      "model_name": "ProgressStyleModel",
      "state": {
       "_model_module": "@jupyter-widgets/controls",
       "_model_module_version": "1.5.0",
       "_model_name": "ProgressStyleModel",
       "_view_count": null,
       "_view_module": "@jupyter-widgets/base",
       "_view_module_version": "1.2.0",
       "_view_name": "StyleView",
       "bar_color": null,
       "description_width": ""
      }
     },
     "72f51ef4121a42629c55eafa5a785da1": {
      "model_module": "@jupyter-widgets/controls",
      "model_module_version": "1.5.0",
      "model_name": "DescriptionStyleModel",
      "state": {
       "_model_module": "@jupyter-widgets/controls",
       "_model_module_version": "1.5.0",
       "_model_name": "DescriptionStyleModel",
       "_view_count": null,
       "_view_module": "@jupyter-widgets/base",
       "_view_module_version": "1.2.0",
       "_view_name": "StyleView",
       "description_width": ""
      }
     },
     "74f4a608ba6647ef9670cd04059438e2": {
      "model_module": "@jupyter-widgets/base",
      "model_module_version": "1.2.0",
      "model_name": "LayoutModel",
      "state": {
       "_model_module": "@jupyter-widgets/base",
       "_model_module_version": "1.2.0",
       "_model_name": "LayoutModel",
       "_view_count": null,
       "_view_module": "@jupyter-widgets/base",
       "_view_module_version": "1.2.0",
       "_view_name": "LayoutView",
       "align_content": null,
       "align_items": null,
       "align_self": null,
       "border": null,
       "bottom": null,
       "display": null,
       "flex": null,
       "flex_flow": null,
       "grid_area": null,
       "grid_auto_columns": null,
       "grid_auto_flow": null,
       "grid_auto_rows": null,
       "grid_column": null,
       "grid_gap": null,
       "grid_row": null,
       "grid_template_areas": null,
       "grid_template_columns": null,
       "grid_template_rows": null,
       "height": null,
       "justify_content": null,
       "justify_items": null,
       "left": null,
       "margin": null,
       "max_height": null,
       "max_width": null,
       "min_height": null,
       "min_width": null,
       "object_fit": null,
       "object_position": null,
       "order": null,
       "overflow": null,
       "overflow_x": null,
       "overflow_y": null,
       "padding": null,
       "right": null,
       "top": null,
       "visibility": null,
       "width": null
      }
     },
     "74f59b08cc6040b398493b6461d1ce12": {
      "model_module": "@jupyter-widgets/controls",
      "model_module_version": "1.5.0",
      "model_name": "ProgressStyleModel",
      "state": {
       "_model_module": "@jupyter-widgets/controls",
       "_model_module_version": "1.5.0",
       "_model_name": "ProgressStyleModel",
       "_view_count": null,
       "_view_module": "@jupyter-widgets/base",
       "_view_module_version": "1.2.0",
       "_view_name": "StyleView",
       "bar_color": null,
       "description_width": ""
      }
     },
     "79176f859b9a4af2bba33769cb4e1edd": {
      "model_module": "@jupyter-widgets/controls",
      "model_module_version": "1.5.0",
      "model_name": "ProgressStyleModel",
      "state": {
       "_model_module": "@jupyter-widgets/controls",
       "_model_module_version": "1.5.0",
       "_model_name": "ProgressStyleModel",
       "_view_count": null,
       "_view_module": "@jupyter-widgets/base",
       "_view_module_version": "1.2.0",
       "_view_name": "StyleView",
       "bar_color": null,
       "description_width": ""
      }
     },
     "84335f82778d41b48dd6fdfd91ba3386": {
      "model_module": "@jupyter-widgets/controls",
      "model_module_version": "1.5.0",
      "model_name": "FloatProgressModel",
      "state": {
       "_dom_classes": [],
       "_model_module": "@jupyter-widgets/controls",
       "_model_module_version": "1.5.0",
       "_model_name": "FloatProgressModel",
       "_view_count": null,
       "_view_module": "@jupyter-widgets/controls",
       "_view_module_version": "1.5.0",
       "_view_name": "ProgressView",
       "bar_style": "success",
       "description": "",
       "description_tooltip": null,
       "layout": "IPY_MODEL_1b9d3e20be914b36bc376fd4220bf426",
       "max": 9912422.0,
       "min": 0.0,
       "orientation": "horizontal",
       "style": "IPY_MODEL_42e9b422f6674edf820c9ced9b315f11",
       "value": 9912422.0
      }
     },
     "84b193e505b74f6bb821cd57c32dde17": {
      "model_module": "@jupyter-widgets/base",
      "model_module_version": "1.2.0",
      "model_name": "LayoutModel",
      "state": {
       "_model_module": "@jupyter-widgets/base",
       "_model_module_version": "1.2.0",
       "_model_name": "LayoutModel",
       "_view_count": null,
       "_view_module": "@jupyter-widgets/base",
       "_view_module_version": "1.2.0",
       "_view_name": "LayoutView",
       "align_content": null,
       "align_items": null,
       "align_self": null,
       "border": null,
       "bottom": null,
       "display": null,
       "flex": null,
       "flex_flow": null,
       "grid_area": null,
       "grid_auto_columns": null,
       "grid_auto_flow": null,
       "grid_auto_rows": null,
       "grid_column": null,
       "grid_gap": null,
       "grid_row": null,
       "grid_template_areas": null,
       "grid_template_columns": null,
       "grid_template_rows": null,
       "height": null,
       "justify_content": null,
       "justify_items": null,
       "left": null,
       "margin": null,
       "max_height": null,
       "max_width": null,
       "min_height": null,
       "min_width": null,
       "object_fit": null,
       "object_position": null,
       "order": null,
       "overflow": null,
       "overflow_x": null,
       "overflow_y": null,
       "padding": null,
       "right": null,
       "top": null,
       "visibility": null,
       "width": null
      }
     },
     "990370523c0e44f2bff4f2bc0371f769": {
      "model_module": "@jupyter-widgets/controls",
      "model_module_version": "1.5.0",
      "model_name": "DescriptionStyleModel",
      "state": {
       "_model_module": "@jupyter-widgets/controls",
       "_model_module_version": "1.5.0",
       "_model_name": "DescriptionStyleModel",
       "_view_count": null,
       "_view_module": "@jupyter-widgets/base",
       "_view_module_version": "1.2.0",
       "_view_name": "StyleView",
       "description_width": ""
      }
     },
     "9f498749d86c4d4498c79f11dc2c0a9f": {
      "model_module": "@jupyter-widgets/controls",
      "model_module_version": "1.5.0",
      "model_name": "HBoxModel",
      "state": {
       "_dom_classes": [],
       "_model_module": "@jupyter-widgets/controls",
       "_model_module_version": "1.5.0",
       "_model_name": "HBoxModel",
       "_view_count": null,
       "_view_module": "@jupyter-widgets/controls",
       "_view_module_version": "1.5.0",
       "_view_name": "HBoxView",
       "box_style": "",
       "children": [
        "IPY_MODEL_dcdc5306e4e340199e4a40504bd774e6",
        "IPY_MODEL_17c5c0c32e4e4770a14be6bc1bf1294f",
        "IPY_MODEL_55359de944c94acba82f4e2241cc49b2"
       ],
       "layout": "IPY_MODEL_c775d8d0f5094415b13196689975f94e"
      }
     },
     "abf60f790eaa47d59e0f33d5b86325f5": {
      "model_module": "@jupyter-widgets/base",
      "model_module_version": "1.2.0",
      "model_name": "LayoutModel",
      "state": {
       "_model_module": "@jupyter-widgets/base",
       "_model_module_version": "1.2.0",
       "_model_name": "LayoutModel",
       "_view_count": null,
       "_view_module": "@jupyter-widgets/base",
       "_view_module_version": "1.2.0",
       "_view_name": "LayoutView",
       "align_content": null,
       "align_items": null,
       "align_self": null,
       "border": null,
       "bottom": null,
       "display": null,
       "flex": null,
       "flex_flow": null,
       "grid_area": null,
       "grid_auto_columns": null,
       "grid_auto_flow": null,
       "grid_auto_rows": null,
       "grid_column": null,
       "grid_gap": null,
       "grid_row": null,
       "grid_template_areas": null,
       "grid_template_columns": null,
       "grid_template_rows": null,
       "height": null,
       "justify_content": null,
       "justify_items": null,
       "left": null,
       "margin": null,
       "max_height": null,
       "max_width": null,
       "min_height": null,
       "min_width": null,
       "object_fit": null,
       "object_position": null,
       "order": null,
       "overflow": null,
       "overflow_x": null,
       "overflow_y": null,
       "padding": null,
       "right": null,
       "top": null,
       "visibility": null,
       "width": null
      }
     },
     "b0be5bd3ae454630baeaf7fa40997ff6": {
      "model_module": "@jupyter-widgets/controls",
      "model_module_version": "1.5.0",
      "model_name": "HTMLModel",
      "state": {
       "_dom_classes": [],
       "_model_module": "@jupyter-widgets/controls",
       "_model_module_version": "1.5.0",
       "_model_name": "HTMLModel",
       "_view_count": null,
       "_view_module": "@jupyter-widgets/controls",
       "_view_module_version": "1.5.0",
       "_view_name": "HTMLView",
       "description": "",
       "description_tooltip": null,
       "layout": "IPY_MODEL_e2fd0a565dac48a58bd06185012d4d1d",
       "placeholder": "​",
       "style": "IPY_MODEL_13fdb41ee2dc497380b6af2700a28559",
       "value": " 4542/4542 [00:00&lt;00:00, 297098.17it/s]"
      }
     },
     "b87a1838360a440faeeaa7c5b44628eb": {
      "model_module": "@jupyter-widgets/base",
      "model_module_version": "1.2.0",
      "model_name": "LayoutModel",
      "state": {
       "_model_module": "@jupyter-widgets/base",
       "_model_module_version": "1.2.0",
       "_model_name": "LayoutModel",
       "_view_count": null,
       "_view_module": "@jupyter-widgets/base",
       "_view_module_version": "1.2.0",
       "_view_name": "LayoutView",
       "align_content": null,
       "align_items": null,
       "align_self": null,
       "border": null,
       "bottom": null,
       "display": null,
       "flex": null,
       "flex_flow": null,
       "grid_area": null,
       "grid_auto_columns": null,
       "grid_auto_flow": null,
       "grid_auto_rows": null,
       "grid_column": null,
       "grid_gap": null,
       "grid_row": null,
       "grid_template_areas": null,
       "grid_template_columns": null,
       "grid_template_rows": null,
       "height": null,
       "justify_content": null,
       "justify_items": null,
       "left": null,
       "margin": null,
       "max_height": null,
       "max_width": null,
       "min_height": null,
       "min_width": null,
       "object_fit": null,
       "object_position": null,
       "order": null,
       "overflow": null,
       "overflow_x": null,
       "overflow_y": null,
       "padding": null,
       "right": null,
       "top": null,
       "visibility": null,
       "width": null
      }
     },
     "c775d8d0f5094415b13196689975f94e": {
      "model_module": "@jupyter-widgets/base",
      "model_module_version": "1.2.0",
      "model_name": "LayoutModel",
      "state": {
       "_model_module": "@jupyter-widgets/base",
       "_model_module_version": "1.2.0",
       "_model_name": "LayoutModel",
       "_view_count": null,
       "_view_module": "@jupyter-widgets/base",
       "_view_module_version": "1.2.0",
       "_view_name": "LayoutView",
       "align_content": null,
       "align_items": null,
       "align_self": null,
       "border": null,
       "bottom": null,
       "display": null,
       "flex": null,
       "flex_flow": null,
       "grid_area": null,
       "grid_auto_columns": null,
       "grid_auto_flow": null,
       "grid_auto_rows": null,
       "grid_column": null,
       "grid_gap": null,
       "grid_row": null,
       "grid_template_areas": null,
       "grid_template_columns": null,
       "grid_template_rows": null,
       "height": null,
       "justify_content": null,
       "justify_items": null,
       "left": null,
       "margin": null,
       "max_height": null,
       "max_width": null,
       "min_height": null,
       "min_width": null,
       "object_fit": null,
       "object_position": null,
       "order": null,
       "overflow": null,
       "overflow_x": null,
       "overflow_y": null,
       "padding": null,
       "right": null,
       "top": null,
       "visibility": null,
       "width": null
      }
     },
     "c8faeedf9d3c47ac843e0fa964f9856c": {
      "model_module": "@jupyter-widgets/controls",
      "model_module_version": "1.5.0",
      "model_name": "DescriptionStyleModel",
      "state": {
       "_model_module": "@jupyter-widgets/controls",
       "_model_module_version": "1.5.0",
       "_model_name": "DescriptionStyleModel",
       "_view_count": null,
       "_view_module": "@jupyter-widgets/base",
       "_view_module_version": "1.2.0",
       "_view_name": "StyleView",
       "description_width": ""
      }
     },
     "cd56a8897b5f45a29de140cca87bf1e2": {
      "model_module": "@jupyter-widgets/controls",
      "model_module_version": "1.5.0",
      "model_name": "HTMLModel",
      "state": {
       "_dom_classes": [],
       "_model_module": "@jupyter-widgets/controls",
       "_model_module_version": "1.5.0",
       "_model_name": "HTMLModel",
       "_view_count": null,
       "_view_module": "@jupyter-widgets/controls",
       "_view_module_version": "1.5.0",
       "_view_name": "HTMLView",
       "description": "",
       "description_tooltip": null,
       "layout": "IPY_MODEL_e3f79e7b68c44f6480f8eecb51d34064",
       "placeholder": "​",
       "style": "IPY_MODEL_0f444e0ce8d9406eb352cb8922cb0626",
       "value": "100%"
      }
     },
     "da2dc24cf3eb4e7ab2bebeb8613b8994": {
      "model_module": "@jupyter-widgets/controls",
      "model_module_version": "1.5.0",
      "model_name": "FloatProgressModel",
      "state": {
       "_dom_classes": [],
       "_model_module": "@jupyter-widgets/controls",
       "_model_module_version": "1.5.0",
       "_model_name": "FloatProgressModel",
       "_view_count": null,
       "_view_module": "@jupyter-widgets/controls",
       "_view_module_version": "1.5.0",
       "_view_name": "ProgressView",
       "bar_style": "success",
       "description": "",
       "description_tooltip": null,
       "layout": "IPY_MODEL_b87a1838360a440faeeaa7c5b44628eb",
       "max": 28881.0,
       "min": 0.0,
       "orientation": "horizontal",
       "style": "IPY_MODEL_74f59b08cc6040b398493b6461d1ce12",
       "value": 28881.0
      }
     },
     "dcdc5306e4e340199e4a40504bd774e6": {
      "model_module": "@jupyter-widgets/controls",
      "model_module_version": "1.5.0",
      "model_name": "HTMLModel",
      "state": {
       "_dom_classes": [],
       "_model_module": "@jupyter-widgets/controls",
       "_model_module_version": "1.5.0",
       "_model_name": "HTMLModel",
       "_view_count": null,
       "_view_module": "@jupyter-widgets/controls",
       "_view_module_version": "1.5.0",
       "_view_name": "HTMLView",
       "description": "",
       "description_tooltip": null,
       "layout": "IPY_MODEL_f50d398421a94ecf85506b07358524c7",
       "placeholder": "​",
       "style": "IPY_MODEL_c8faeedf9d3c47ac843e0fa964f9856c",
       "value": "100%"
      }
     },
     "e0ee205bb3654e3aa4a4db6dde0c85f0": {
      "model_module": "@jupyter-widgets/controls",
      "model_module_version": "1.5.0",
      "model_name": "FloatProgressModel",
      "state": {
       "_dom_classes": [],
       "_model_module": "@jupyter-widgets/controls",
       "_model_module_version": "1.5.0",
       "_model_name": "FloatProgressModel",
       "_view_count": null,
       "_view_module": "@jupyter-widgets/controls",
       "_view_module_version": "1.5.0",
       "_view_name": "ProgressView",
       "bar_style": "success",
       "description": "",
       "description_tooltip": null,
       "layout": "IPY_MODEL_e45a5713fc3c4b8db645f549d7453d18",
       "max": 4542.0,
       "min": 0.0,
       "orientation": "horizontal",
       "style": "IPY_MODEL_6bfb592102c245f9b27c285dd9f7ad83",
       "value": 4542.0
      }
     },
     "e2fd0a565dac48a58bd06185012d4d1d": {
      "model_module": "@jupyter-widgets/base",
      "model_module_version": "1.2.0",
      "model_name": "LayoutModel",
      "state": {
       "_model_module": "@jupyter-widgets/base",
       "_model_module_version": "1.2.0",
       "_model_name": "LayoutModel",
       "_view_count": null,
       "_view_module": "@jupyter-widgets/base",
       "_view_module_version": "1.2.0",
       "_view_name": "LayoutView",
       "align_content": null,
       "align_items": null,
       "align_self": null,
       "border": null,
       "bottom": null,
       "display": null,
       "flex": null,
       "flex_flow": null,
       "grid_area": null,
       "grid_auto_columns": null,
       "grid_auto_flow": null,
       "grid_auto_rows": null,
       "grid_column": null,
       "grid_gap": null,
       "grid_row": null,
       "grid_template_areas": null,
       "grid_template_columns": null,
       "grid_template_rows": null,
       "height": null,
       "justify_content": null,
       "justify_items": null,
       "left": null,
       "margin": null,
       "max_height": null,
       "max_width": null,
       "min_height": null,
       "min_width": null,
       "object_fit": null,
       "object_position": null,
       "order": null,
       "overflow": null,
       "overflow_x": null,
       "overflow_y": null,
       "padding": null,
       "right": null,
       "top": null,
       "visibility": null,
       "width": null
      }
     },
     "e3f79e7b68c44f6480f8eecb51d34064": {
      "model_module": "@jupyter-widgets/base",
      "model_module_version": "1.2.0",
      "model_name": "LayoutModel",
      "state": {
       "_model_module": "@jupyter-widgets/base",
       "_model_module_version": "1.2.0",
       "_model_name": "LayoutModel",
       "_view_count": null,
       "_view_module": "@jupyter-widgets/base",
       "_view_module_version": "1.2.0",
       "_view_name": "LayoutView",
       "align_content": null,
       "align_items": null,
       "align_self": null,
       "border": null,
       "bottom": null,
       "display": null,
       "flex": null,
       "flex_flow": null,
       "grid_area": null,
       "grid_auto_columns": null,
       "grid_auto_flow": null,
       "grid_auto_rows": null,
       "grid_column": null,
       "grid_gap": null,
       "grid_row": null,
       "grid_template_areas": null,
       "grid_template_columns": null,
       "grid_template_rows": null,
       "height": null,
       "justify_content": null,
       "justify_items": null,
       "left": null,
       "margin": null,
       "max_height": null,
       "max_width": null,
       "min_height": null,
       "min_width": null,
       "object_fit": null,
       "object_position": null,
       "order": null,
       "overflow": null,
       "overflow_x": null,
       "overflow_y": null,
       "padding": null,
       "right": null,
       "top": null,
       "visibility": null,
       "width": null
      }
     },
     "e45a5713fc3c4b8db645f549d7453d18": {
      "model_module": "@jupyter-widgets/base",
      "model_module_version": "1.2.0",
      "model_name": "LayoutModel",
      "state": {
       "_model_module": "@jupyter-widgets/base",
       "_model_module_version": "1.2.0",
       "_model_name": "LayoutModel",
       "_view_count": null,
       "_view_module": "@jupyter-widgets/base",
       "_view_module_version": "1.2.0",
       "_view_name": "LayoutView",
       "align_content": null,
       "align_items": null,
       "align_self": null,
       "border": null,
       "bottom": null,
       "display": null,
       "flex": null,
       "flex_flow": null,
       "grid_area": null,
       "grid_auto_columns": null,
       "grid_auto_flow": null,
       "grid_auto_rows": null,
       "grid_column": null,
       "grid_gap": null,
       "grid_row": null,
       "grid_template_areas": null,
       "grid_template_columns": null,
       "grid_template_rows": null,
       "height": null,
       "justify_content": null,
       "justify_items": null,
       "left": null,
       "margin": null,
       "max_height": null,
       "max_width": null,
       "min_height": null,
       "min_width": null,
       "object_fit": null,
       "object_position": null,
       "order": null,
       "overflow": null,
       "overflow_x": null,
       "overflow_y": null,
       "padding": null,
       "right": null,
       "top": null,
       "visibility": null,
       "width": null
      }
     },
     "eb1c332ba8834d9480701b24e52b496f": {
      "model_module": "@jupyter-widgets/base",
      "model_module_version": "1.2.0",
      "model_name": "LayoutModel",
      "state": {
       "_model_module": "@jupyter-widgets/base",
       "_model_module_version": "1.2.0",
       "_model_name": "LayoutModel",
       "_view_count": null,
       "_view_module": "@jupyter-widgets/base",
       "_view_module_version": "1.2.0",
       "_view_name": "LayoutView",
       "align_content": null,
       "align_items": null,
       "align_self": null,
       "border": null,
       "bottom": null,
       "display": null,
       "flex": null,
       "flex_flow": null,
       "grid_area": null,
       "grid_auto_columns": null,
       "grid_auto_flow": null,
       "grid_auto_rows": null,
       "grid_column": null,
       "grid_gap": null,
       "grid_row": null,
       "grid_template_areas": null,
       "grid_template_columns": null,
       "grid_template_rows": null,
       "height": null,
       "justify_content": null,
       "justify_items": null,
       "left": null,
       "margin": null,
       "max_height": null,
       "max_width": null,
       "min_height": null,
       "min_width": null,
       "object_fit": null,
       "object_position": null,
       "order": null,
       "overflow": null,
       "overflow_x": null,
       "overflow_y": null,
       "padding": null,
       "right": null,
       "top": null,
       "visibility": null,
       "width": null
      }
     },
     "f50d398421a94ecf85506b07358524c7": {
      "model_module": "@jupyter-widgets/base",
      "model_module_version": "1.2.0",
      "model_name": "LayoutModel",
      "state": {
       "_model_module": "@jupyter-widgets/base",
       "_model_module_version": "1.2.0",
       "_model_name": "LayoutModel",
       "_view_count": null,
       "_view_module": "@jupyter-widgets/base",
       "_view_module_version": "1.2.0",
       "_view_name": "LayoutView",
       "align_content": null,
       "align_items": null,
       "align_self": null,
       "border": null,
       "bottom": null,
       "display": null,
       "flex": null,
       "flex_flow": null,
       "grid_area": null,
       "grid_auto_columns": null,
       "grid_auto_flow": null,
       "grid_auto_rows": null,
       "grid_column": null,
       "grid_gap": null,
       "grid_row": null,
       "grid_template_areas": null,
       "grid_template_columns": null,
       "grid_template_rows": null,
       "height": null,
       "justify_content": null,
       "justify_items": null,
       "left": null,
       "margin": null,
       "max_height": null,
       "max_width": null,
       "min_height": null,
       "min_width": null,
       "object_fit": null,
       "object_position": null,
       "order": null,
       "overflow": null,
       "overflow_x": null,
       "overflow_y": null,
       "padding": null,
       "right": null,
       "top": null,
       "visibility": null,
       "width": null
      }
     }
    },
    "version_major": 2,
    "version_minor": 0
   }
  }
 },
 "nbformat": 4,
 "nbformat_minor": 5
}
