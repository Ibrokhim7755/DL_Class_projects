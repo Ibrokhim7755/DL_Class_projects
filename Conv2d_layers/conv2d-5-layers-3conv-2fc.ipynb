{
 "cells": [
  {
   "cell_type": "code",
   "execution_count": 1,
   "id": "ede00db0",
   "metadata": {
    "_cell_guid": "b1076dfc-b9ad-4769-8c92-a6c4dae69d19",
    "_uuid": "8f2839f25d086af736a60e9eeb907d3b93b6e0e5",
    "execution": {
     "iopub.execute_input": "2023-04-27T12:51:27.266556Z",
     "iopub.status.busy": "2023-04-27T12:51:27.265362Z",
     "iopub.status.idle": "2023-04-27T12:51:27.277763Z",
     "shell.execute_reply": "2023-04-27T12:51:27.276830Z"
    },
    "papermill": {
     "duration": 0.021416,
     "end_time": "2023-04-27T12:51:27.279881",
     "exception": false,
     "start_time": "2023-04-27T12:51:27.258465",
     "status": "completed"
    },
    "tags": []
   },
   "outputs": [],
   "source": [
    "# This Python 3 environment comes with many helpful analytics libraries installed\n",
    "# It is defined by the kaggle/python Docker image: https://github.com/kaggle/docker-python\n",
    "# For example, here's several helpful packages to load\n",
    "\n",
    "import numpy as np # linear algebra\n",
    "import pandas as pd # data processing, CSV file I/O (e.g. pd.read_csv)\n",
    "\n",
    "# Input data files are available in the read-only \"../input/\" directory\n",
    "# For example, running this (by clicking run or pressing Shift+Enter) will list all files under the input directory\n",
    "\n",
    "import os\n",
    "for dirname, _, filenames in os.walk('/kaggle/input'):\n",
    "    for filename in filenames:\n",
    "        print(os.path.join(dirname, filename))\n",
    "\n",
    "# You can write up to 20GB to the current directory (/kaggle/working/) that gets preserved as output when you create a version using \"Save & Run All\" \n",
    "# You can also write temporary files to /kaggle/temp/, but they won't be saved outside of the current session"
   ]
  },
  {
   "cell_type": "code",
   "execution_count": 2,
   "id": "659c745a",
   "metadata": {
    "execution": {
     "iopub.execute_input": "2023-04-27T12:51:27.289060Z",
     "iopub.status.busy": "2023-04-27T12:51:27.288197Z",
     "iopub.status.idle": "2023-04-27T12:51:29.733761Z",
     "shell.execute_reply": "2023-04-27T12:51:29.732701Z"
    },
    "papermill": {
     "duration": 2.4529,
     "end_time": "2023-04-27T12:51:29.736595",
     "exception": false,
     "start_time": "2023-04-27T12:51:27.283695",
     "status": "completed"
    },
    "tags": []
   },
   "outputs": [],
   "source": [
    "import torch\n",
    "from torch.utils.data import DataLoader,random_split\n",
    "from torchvision.datasets import MNIST\n",
    "from torchvision import transforms as tfr\n",
    "import matplotlib.pyplot as plt\n",
    "import pandas as pd\n"
   ]
  },
  {
   "cell_type": "code",
   "execution_count": 3,
   "id": "102ebc2d",
   "metadata": {
    "execution": {
     "iopub.execute_input": "2023-04-27T12:51:29.745981Z",
     "iopub.status.busy": "2023-04-27T12:51:29.745537Z",
     "iopub.status.idle": "2023-04-27T12:51:30.861982Z",
     "shell.execute_reply": "2023-04-27T12:51:30.860992Z"
    },
    "papermill": {
     "duration": 1.12364,
     "end_time": "2023-04-27T12:51:30.864245",
     "exception": false,
     "start_time": "2023-04-27T12:51:29.740605",
     "status": "completed"
    },
    "tags": []
   },
   "outputs": [
    {
     "name": "stdout",
     "output_type": "stream",
     "text": [
      "Downloading http://yann.lecun.com/exdb/mnist/train-images-idx3-ubyte.gz\n",
      "Downloading http://yann.lecun.com/exdb/mnist/train-images-idx3-ubyte.gz to data/MNIST/raw/train-images-idx3-ubyte.gz\n"
     ]
    },
    {
     "data": {
      "application/vnd.jupyter.widget-view+json": {
       "model_id": "d7a0dd0e2efe4a5ca2cccc614e65b9f1",
       "version_major": 2,
       "version_minor": 0
      },
      "text/plain": [
       "  0%|          | 0/9912422 [00:00<?, ?it/s]"
      ]
     },
     "metadata": {},
     "output_type": "display_data"
    },
    {
     "name": "stdout",
     "output_type": "stream",
     "text": [
      "Extracting data/MNIST/raw/train-images-idx3-ubyte.gz to data/MNIST/raw\n",
      "\n",
      "Downloading http://yann.lecun.com/exdb/mnist/train-labels-idx1-ubyte.gz\n",
      "Downloading http://yann.lecun.com/exdb/mnist/train-labels-idx1-ubyte.gz to data/MNIST/raw/train-labels-idx1-ubyte.gz\n"
     ]
    },
    {
     "data": {
      "application/vnd.jupyter.widget-view+json": {
       "model_id": "055d88ffc6764fac8e02fc4a1a026c66",
       "version_major": 2,
       "version_minor": 0
      },
      "text/plain": [
       "  0%|          | 0/28881 [00:00<?, ?it/s]"
      ]
     },
     "metadata": {},
     "output_type": "display_data"
    },
    {
     "name": "stdout",
     "output_type": "stream",
     "text": [
      "Extracting data/MNIST/raw/train-labels-idx1-ubyte.gz to data/MNIST/raw\n",
      "\n",
      "Downloading http://yann.lecun.com/exdb/mnist/t10k-images-idx3-ubyte.gz\n",
      "Downloading http://yann.lecun.com/exdb/mnist/t10k-images-idx3-ubyte.gz to data/MNIST/raw/t10k-images-idx3-ubyte.gz\n"
     ]
    },
    {
     "data": {
      "application/vnd.jupyter.widget-view+json": {
       "model_id": "3c25c353c42b45f5bcba1936837900a4",
       "version_major": 2,
       "version_minor": 0
      },
      "text/plain": [
       "  0%|          | 0/1648877 [00:00<?, ?it/s]"
      ]
     },
     "metadata": {},
     "output_type": "display_data"
    },
    {
     "name": "stdout",
     "output_type": "stream",
     "text": [
      "Extracting data/MNIST/raw/t10k-images-idx3-ubyte.gz to data/MNIST/raw\n",
      "\n",
      "Downloading http://yann.lecun.com/exdb/mnist/t10k-labels-idx1-ubyte.gz\n",
      "Downloading http://yann.lecun.com/exdb/mnist/t10k-labels-idx1-ubyte.gz to data/MNIST/raw/t10k-labels-idx1-ubyte.gz\n"
     ]
    },
    {
     "data": {
      "application/vnd.jupyter.widget-view+json": {
       "model_id": "d7aaa44aa8dc474ea0e77ac1aa89bd88",
       "version_major": 2,
       "version_minor": 0
      },
      "text/plain": [
       "  0%|          | 0/4542 [00:00<?, ?it/s]"
      ]
     },
     "metadata": {},
     "output_type": "display_data"
    },
    {
     "name": "stdout",
     "output_type": "stream",
     "text": [
      "Extracting data/MNIST/raw/t10k-labels-idx1-ubyte.gz to data/MNIST/raw\n",
      "\n"
     ]
    }
   ],
   "source": [
    "ts = tfr.Compose([\n",
    "    tfr.ToTensor(),\n",
    "    tfr.Normalize(0.5,0.5),\n",
    "    tfr.Resize((64,64))\n",
    "    \n",
    "])\n",
    "root ='data'\n",
    "ds = MNIST(root, train= True, download=True,transform=ts)\n",
    "test_df = MNIST(root, train=False, download=True, transform=ts)"
   ]
  },
  {
   "cell_type": "code",
   "execution_count": 4,
   "id": "4c5ec2ee",
   "metadata": {
    "execution": {
     "iopub.execute_input": "2023-04-27T12:51:30.875537Z",
     "iopub.status.busy": "2023-04-27T12:51:30.874660Z",
     "iopub.status.idle": "2023-04-27T12:51:30.925083Z",
     "shell.execute_reply": "2023-04-27T12:51:30.924001Z"
    },
    "papermill": {
     "duration": 0.058557,
     "end_time": "2023-04-27T12:51:30.927633",
     "exception": false,
     "start_time": "2023-04-27T12:51:30.869076",
     "status": "completed"
    },
    "tags": []
   },
   "outputs": [
    {
     "data": {
      "text/plain": [
       "torch.Size([1, 64, 64])"
      ]
     },
     "execution_count": 4,
     "metadata": {},
     "output_type": "execute_result"
    }
   ],
   "source": [
    "ds[0][0].shape"
   ]
  },
  {
   "cell_type": "code",
   "execution_count": 5,
   "id": "067ac1a9",
   "metadata": {
    "execution": {
     "iopub.execute_input": "2023-04-27T12:51:30.938100Z",
     "iopub.status.busy": "2023-04-27T12:51:30.937815Z",
     "iopub.status.idle": "2023-04-27T12:51:30.951164Z",
     "shell.execute_reply": "2023-04-27T12:51:30.949921Z"
    },
    "papermill": {
     "duration": 0.021069,
     "end_time": "2023-04-27T12:51:30.953326",
     "exception": false,
     "start_time": "2023-04-27T12:51:30.932257",
     "status": "completed"
    },
    "tags": []
   },
   "outputs": [
    {
     "name": "stdout",
     "output_type": "stream",
     "text": [
      "Train datasetda 54000 rasm bor.\n",
      "Validation datasetda 6000 rasm bor.\n",
      "Test datasetda 10000 rasm bor.\n"
     ]
    }
   ],
   "source": [
    "tr_length = int(len(ds) * 0.9)\n",
    "tr_ds, val_ds = random_split(ds, [tr_length, len(ds) - tr_length])\n",
    "print(f\"Train datasetda {len(tr_ds)} rasm bor.\")\n",
    "print(f\"Validation datasetda {len(val_ds)} rasm bor.\")\n",
    "print(f\"Test datasetda {len(test_df)} rasm bor.\")"
   ]
  },
  {
   "cell_type": "code",
   "execution_count": 6,
   "id": "76ab4a19",
   "metadata": {
    "execution": {
     "iopub.execute_input": "2023-04-27T12:51:30.964229Z",
     "iopub.status.busy": "2023-04-27T12:51:30.963406Z",
     "iopub.status.idle": "2023-04-27T12:51:30.972643Z",
     "shell.execute_reply": "2023-04-27T12:51:30.971214Z"
    },
    "papermill": {
     "duration": 0.016839,
     "end_time": "2023-04-27T12:51:30.974788",
     "exception": false,
     "start_time": "2023-04-27T12:51:30.957949",
     "status": "completed"
    },
    "tags": []
   },
   "outputs": [
    {
     "name": "stderr",
     "output_type": "stream",
     "text": [
      "/opt/conda/lib/python3.7/site-packages/torch/utils/data/dataloader.py:557: UserWarning: This DataLoader will create 4 worker processes in total. Our suggested max number of worker in current system is 2, which is smaller than what this DataLoader is going to create. Please be aware that excessive worker creation might get DataLoader running slow or even freeze, lower the worker number to avoid potential slowness/freeze if necessary.\n",
      "  cpuset_checked))\n"
     ]
    }
   ],
   "source": [
    "bs = 128\n",
    "tr_dl = DataLoader(dataset = tr_ds, batch_size = bs, shuffle = True, drop_last = False, num_workers = 4)\n",
    "val_dl = DataLoader(dataset = val_ds, batch_size = bs, shuffle = False, drop_last = False, num_workers = 4)\n",
    "test_dl = DataLoader(dataset = test_df, batch_size = bs, shuffle = False, drop_last = False, num_workers = 4)"
   ]
  },
  {
   "cell_type": "code",
   "execution_count": 7,
   "id": "91591dd1",
   "metadata": {
    "execution": {
     "iopub.execute_input": "2023-04-27T12:51:30.985684Z",
     "iopub.status.busy": "2023-04-27T12:51:30.984887Z",
     "iopub.status.idle": "2023-04-27T12:51:30.990938Z",
     "shell.execute_reply": "2023-04-27T12:51:30.989698Z"
    },
    "papermill": {
     "duration": 0.013619,
     "end_time": "2023-04-27T12:51:30.993023",
     "exception": false,
     "start_time": "2023-04-27T12:51:30.979404",
     "status": "completed"
    },
    "tags": []
   },
   "outputs": [
    {
     "name": "stdout",
     "output_type": "stream",
     "text": [
      "Train dataloaderda 422 ta batch bor.\n",
      "Validation dataloaderda 47 ta batch bor.\n",
      "Test dataloaderda 79 ta batch bor.\n"
     ]
    }
   ],
   "source": [
    "print(f\"Train dataloaderda {len(tr_dl)} ta batch bor.\") \n",
    "print(f\"Validation dataloaderda {len(val_dl)} ta batch bor.\")\n",
    "print(f\"Test dataloaderda {len(test_dl)} ta batch bor.\") "
   ]
  },
  {
   "cell_type": "code",
   "execution_count": 8,
   "id": "9b5e8d5e",
   "metadata": {
    "execution": {
     "iopub.execute_input": "2023-04-27T12:51:31.003891Z",
     "iopub.status.busy": "2023-04-27T12:51:31.003097Z",
     "iopub.status.idle": "2023-04-27T12:51:31.008910Z",
     "shell.execute_reply": "2023-04-27T12:51:31.008015Z"
    },
    "papermill": {
     "duration": 0.013293,
     "end_time": "2023-04-27T12:51:31.010970",
     "exception": false,
     "start_time": "2023-04-27T12:51:30.997677",
     "status": "completed"
    },
    "tags": []
   },
   "outputs": [],
   "source": [
    "im_size = 64\n",
    "in_chs = 1\n",
    "out_chs = 8\n",
    "ks = 3\n",
    "pad = 1 \n",
    "pool_size = 2\n",
    "num_classes = 10\n",
    "\n",
    "in_fs = (im_size // 4) * (im_size // 4)* out_chs"
   ]
  },
  {
   "cell_type": "code",
   "execution_count": 9,
   "id": "ab5ac34a",
   "metadata": {
    "execution": {
     "iopub.execute_input": "2023-04-27T12:51:31.021716Z",
     "iopub.status.busy": "2023-04-27T12:51:31.021430Z",
     "iopub.status.idle": "2023-04-27T12:51:31.062321Z",
     "shell.execute_reply": "2023-04-27T12:51:31.061282Z"
    },
    "papermill": {
     "duration": 0.048726,
     "end_time": "2023-04-27T12:51:31.064402",
     "exception": false,
     "start_time": "2023-04-27T12:51:31.015676",
     "status": "completed"
    },
    "tags": []
   },
   "outputs": [
    {
     "data": {
      "text/plain": [
       "Model(\n",
       "  (conv_1): Conv2d(1, 8, kernel_size=(3, 3), stride=(1, 1), padding=(1, 1))\n",
       "  (act): ReLU()\n",
       "  (pool_1): MaxPool2d(kernel_size=2, stride=2, padding=0, dilation=1, ceil_mode=False)\n",
       "  (conv_2): Conv2d(8, 16, kernel_size=(3, 3), stride=(1, 1), padding=(1, 1))\n",
       "  (pool_2): MaxPool2d(kernel_size=2, stride=2, padding=0, dilation=1, ceil_mode=False)\n",
       "  (conv_3): Conv2d(16, 32, kernel_size=(3, 3), stride=(1, 1), padding=(1, 1))\n",
       "  (pool_3): MaxPool2d(kernel_size=2, stride=2, padding=0, dilation=1, ceil_mode=False)\n",
       "  (fc): Linear(in_features=2048, out_features=1024, bias=True)\n",
       "  (fc1): Linear(in_features=1024, out_features=512, bias=True)\n",
       "  (out): Linear(in_features=512, out_features=10, bias=True)\n",
       "  (softmax): Softmax(dim=1)\n",
       ")"
      ]
     },
     "execution_count": 9,
     "metadata": {},
     "output_type": "execute_result"
    }
   ],
   "source": [
    "class Model(torch.nn.Module):\n",
    "    \n",
    "    def __init__(self, in_chs, out_chs, in_fs, ks, pad, ps, n_cls): \n",
    "        super(Model, self).__init__()\n",
    "        \n",
    "        self.in_chs, self.out_chs, self.ks, self.pad, self.ps, self.n_cls = in_chs, out_chs, pad, ks, ps, n_cls\n",
    "        \n",
    "        self.conv_1 = torch.nn.Conv2d(in_channels =in_chs, out_channels =out_chs, kernel_size = ks, padding = pad)\n",
    "        self.act = torch.nn.ReLU()\n",
    "        self.pool_1 = torch.nn.MaxPool2d(kernel_size = ps, stride = ps)\n",
    "        \n",
    "        self.conv_2 = torch.nn.Conv2d(in_channels =out_chs, out_channels =out_chs*2, kernel_size = ks, padding = pad)\n",
    "        #self.act = torch.nn.ReLU()\n",
    "        self.pool_2 = torch.nn.MaxPool2d(kernel_size=ps, stride=ps)\n",
    "        \n",
    "        self.conv_3 = torch.nn.Conv2d(in_channels=out_chs*2, out_channels=out_chs*4, kernel_size=ks, padding=pad)\n",
    "        #self.act = torch.nn.ReLU()\n",
    "        self.pool_3 = torch.nn.MaxPool2d(kernel_size=ps, stride=ps)\n",
    "        \n",
    "        #self.conv_4 = torch.nn.Conv2d(in_channels=out_chs*2, out_channels=out_chs*2, kernel_size=ks, padding=pad)\n",
    "        #self.pool_4 = torch.nn.MaxPool2d(kernel_size=ps, stride=ps) \n",
    "        \n",
    "        \n",
    "        \n",
    "        self.fc = torch.nn.Linear(in_features = in_fs, out_features = in_fs//2)\n",
    "        self.fc1 = torch.nn.Linear(in_features=in_fs//2, out_features=in_fs//4)\n",
    "        self.out = torch.nn.Linear(in_features = in_fs//4, out_features = n_cls)\n",
    "        self.softmax = torch.nn.Softmax(dim = 1)\n",
    "        \n",
    "    def forward(self, inp):\n",
    "        \n",
    "        conv_1 = self.conv_1(inp) \n",
    "        act_1 = self.act(conv_1)\n",
    "        out_1 = self.pool_1(act_1)\n",
    "        \n",
    "        conv_2 = self.conv_2(out_1)\n",
    "        act_2 = self.act(conv_2)\n",
    "        out_2 = self.pool_2(act_2)\n",
    "        \n",
    "        conv_3 = self.conv_3(out_2)\n",
    "        act_3 = self.act(conv_3)\n",
    "        out_3 = self.pool_3(act_3)\n",
    "          \n",
    "        \n",
    "        bs = inp.shape[0]\n",
    "        flat = out_3.view(bs, -1)\n",
    "        #fc_1 = self.fc(flat)\n",
    "        #fc_2 = self.fc1(fc_1)\n",
    "        #out =self.softmax(fc_2)\n",
    "        \n",
    "        fc_1 = self.act(self.fc(flat))\n",
    "        fc_2 = self.act(self.fc1(fc_1))\n",
    "        out = self.softmax(self.out(fc_2))\n",
    "        \n",
    "        return self.softmax(out)\n",
    "    \n",
    "m = Model(in_chs = in_chs, out_chs = out_chs, in_fs = in_fs, ks = ks, pad = pad, ps = pool_size, n_cls = num_classes)\n",
    "m"
   ]
  },
  {
   "cell_type": "code",
   "execution_count": 10,
   "id": "06d690a2",
   "metadata": {
    "execution": {
     "iopub.execute_input": "2023-04-27T12:51:31.075073Z",
     "iopub.status.busy": "2023-04-27T12:51:31.074811Z",
     "iopub.status.idle": "2023-04-27T12:51:31.191423Z",
     "shell.execute_reply": "2023-04-27T12:51:31.190293Z"
    },
    "papermill": {
     "duration": 0.12468,
     "end_time": "2023-04-27T12:51:31.193819",
     "exception": false,
     "start_time": "2023-04-27T12:51:31.069139",
     "status": "completed"
    },
    "tags": []
   },
   "outputs": [
    {
     "data": {
      "text/plain": [
       "tensor([[0.1000, 0.1001, 0.1000, 0.1002, 0.0998, 0.1003, 0.0996, 0.0996, 0.1006,\n",
       "         0.0999]], grad_fn=<SoftmaxBackward0>)"
      ]
     },
     "execution_count": 10,
     "metadata": {},
     "output_type": "execute_result"
    }
   ],
   "source": [
    "   \n",
    "m = Model(in_chs = in_chs, out_chs = out_chs, in_fs = in_fs, ks = ks, pad = pad, ps = pool_size, n_cls = num_classes)\n",
    "x = torch.rand(1, in_chs, im_size, im_size)\n",
    "m(x)"
   ]
  },
  {
   "cell_type": "code",
   "execution_count": 11,
   "id": "2db2c43d",
   "metadata": {
    "execution": {
     "iopub.execute_input": "2023-04-27T12:51:31.204864Z",
     "iopub.status.busy": "2023-04-27T12:51:31.204587Z",
     "iopub.status.idle": "2023-04-27T12:51:31.209575Z",
     "shell.execute_reply": "2023-04-27T12:51:31.208547Z"
    },
    "papermill": {
     "duration": 0.013093,
     "end_time": "2023-04-27T12:51:31.211884",
     "exception": false,
     "start_time": "2023-04-27T12:51:31.198791",
     "status": "completed"
    },
    "tags": []
   },
   "outputs": [
    {
     "name": "stdout",
     "output_type": "stream",
     "text": [
      "2048\n"
     ]
    }
   ],
   "source": [
    "print(in_fs)"
   ]
  },
  {
   "cell_type": "code",
   "execution_count": 12,
   "id": "93c247e3",
   "metadata": {
    "execution": {
     "iopub.execute_input": "2023-04-27T12:51:31.223445Z",
     "iopub.status.busy": "2023-04-27T12:51:31.222654Z",
     "iopub.status.idle": "2023-04-27T12:51:31.228204Z",
     "shell.execute_reply": "2023-04-27T12:51:31.227299Z"
    },
    "papermill": {
     "duration": 0.013519,
     "end_time": "2023-04-27T12:51:31.230286",
     "exception": false,
     "start_time": "2023-04-27T12:51:31.216767",
     "status": "completed"
    },
    "tags": []
   },
   "outputs": [],
   "source": [
    "def train_setup(m): return m.to(\"cuda\"), 10, \"cuda\", torch.nn.CrossEntropyLoss(), torch.optim.Adam(params = m.parameters(), lr = 0.001)"
   ]
  },
  {
   "cell_type": "code",
   "execution_count": 13,
   "id": "90cf2b6e",
   "metadata": {
    "execution": {
     "iopub.execute_input": "2023-04-27T12:51:31.242641Z",
     "iopub.status.busy": "2023-04-27T12:51:31.241056Z",
     "iopub.status.idle": "2023-04-27T12:51:34.185453Z",
     "shell.execute_reply": "2023-04-27T12:51:34.184419Z"
    },
    "papermill": {
     "duration": 2.952977,
     "end_time": "2023-04-27T12:51:34.188176",
     "exception": false,
     "start_time": "2023-04-27T12:51:31.235199",
     "status": "completed"
    },
    "tags": []
   },
   "outputs": [],
   "source": [
    "m, epochs, device, loss_fn, optimizer = train_setup(m)"
   ]
  },
  {
   "cell_type": "code",
   "execution_count": 14,
   "id": "6fdc3c3c",
   "metadata": {
    "execution": {
     "iopub.execute_input": "2023-04-27T12:51:34.201415Z",
     "iopub.status.busy": "2023-04-27T12:51:34.199656Z",
     "iopub.status.idle": "2023-04-27T12:54:46.752600Z",
     "shell.execute_reply": "2023-04-27T12:54:46.750393Z"
    },
    "papermill": {
     "duration": 192.561656,
     "end_time": "2023-04-27T12:54:46.755064",
     "exception": false,
     "start_time": "2023-04-27T12:51:34.193408",
     "status": "completed"
    },
    "tags": []
   },
   "outputs": [
    {
     "name": "stdout",
     "output_type": "stream",
     "text": [
      "Train boshlandi...\n"
     ]
    },
    {
     "name": "stderr",
     "output_type": "stream",
     "text": [
      "422it [00:20, 20.74it/s]"
     ]
    },
    {
     "name": "stdout",
     "output_type": "stream",
     "text": [
      "Epoch 1 train jarayoni tugadi\n",
      "Epoch 1 dagi train loss -> 2.232\n",
      "Epoch 1 dagi train accuracy -> 0.592\n"
     ]
    },
    {
     "name": "stderr",
     "output_type": "stream",
     "text": [
      "\n"
     ]
    },
    {
     "name": "stdout",
     "output_type": "stream",
     "text": [
      "Epoch 1 validation jarayoni tugadi\n",
      "Epoch 1 dagi validation loss -> 2.205\n",
      "Epoch 1 dagi validation accuracy -> 0.772\n"
     ]
    },
    {
     "name": "stderr",
     "output_type": "stream",
     "text": [
      "422it [00:17, 24.71it/s]"
     ]
    },
    {
     "name": "stdout",
     "output_type": "stream",
     "text": [
      "Epoch 2 train jarayoni tugadi\n",
      "Epoch 2 dagi train loss -> 2.193\n",
      "Epoch 2 dagi train accuracy -> 0.855\n"
     ]
    },
    {
     "name": "stderr",
     "output_type": "stream",
     "text": [
      "\n"
     ]
    },
    {
     "name": "stdout",
     "output_type": "stream",
     "text": [
      "Epoch 2 validation jarayoni tugadi\n",
      "Epoch 2 dagi validation loss -> 2.192\n",
      "Epoch 2 dagi validation accuracy -> 0.863\n"
     ]
    },
    {
     "name": "stderr",
     "output_type": "stream",
     "text": [
      "422it [00:16, 26.06it/s]"
     ]
    },
    {
     "name": "stdout",
     "output_type": "stream",
     "text": [
      "Epoch 3 train jarayoni tugadi\n",
      "Epoch 3 dagi train loss -> 2.190\n",
      "Epoch 3 dagi train accuracy -> 0.873\n"
     ]
    },
    {
     "name": "stderr",
     "output_type": "stream",
     "text": [
      "\n"
     ]
    },
    {
     "name": "stdout",
     "output_type": "stream",
     "text": [
      "Epoch 3 validation jarayoni tugadi\n",
      "Epoch 3 dagi validation loss -> 2.190\n",
      "Epoch 3 dagi validation accuracy -> 0.875\n"
     ]
    },
    {
     "name": "stderr",
     "output_type": "stream",
     "text": [
      "422it [00:17, 24.59it/s]"
     ]
    },
    {
     "name": "stdout",
     "output_type": "stream",
     "text": [
      "Epoch 4 train jarayoni tugadi\n",
      "Epoch 4 dagi train loss -> 2.181\n",
      "Epoch 4 dagi train accuracy -> 0.936\n"
     ]
    },
    {
     "name": "stderr",
     "output_type": "stream",
     "text": [
      "\n"
     ]
    },
    {
     "name": "stdout",
     "output_type": "stream",
     "text": [
      "Epoch 4 validation jarayoni tugadi\n",
      "Epoch 4 dagi validation loss -> 2.175\n",
      "Epoch 4 dagi validation accuracy -> 0.974\n"
     ]
    },
    {
     "name": "stderr",
     "output_type": "stream",
     "text": [
      "422it [00:17, 24.76it/s]"
     ]
    },
    {
     "name": "stdout",
     "output_type": "stream",
     "text": [
      "Epoch 5 train jarayoni tugadi\n",
      "Epoch 5 dagi train loss -> 2.175\n",
      "Epoch 5 dagi train accuracy -> 0.979\n"
     ]
    },
    {
     "name": "stderr",
     "output_type": "stream",
     "text": [
      "\n"
     ]
    },
    {
     "name": "stdout",
     "output_type": "stream",
     "text": [
      "Epoch 5 validation jarayoni tugadi\n",
      "Epoch 5 dagi validation loss -> 2.175\n",
      "Epoch 5 dagi validation accuracy -> 0.981\n"
     ]
    },
    {
     "name": "stderr",
     "output_type": "stream",
     "text": [
      "422it [00:16, 25.56it/s]"
     ]
    },
    {
     "name": "stdout",
     "output_type": "stream",
     "text": [
      "Epoch 6 train jarayoni tugadi\n",
      "Epoch 6 dagi train loss -> 2.175\n",
      "Epoch 6 dagi train accuracy -> 0.977\n"
     ]
    },
    {
     "name": "stderr",
     "output_type": "stream",
     "text": [
      "\n"
     ]
    },
    {
     "name": "stdout",
     "output_type": "stream",
     "text": [
      "Epoch 6 validation jarayoni tugadi\n",
      "Epoch 6 dagi validation loss -> 2.176\n",
      "Epoch 6 dagi validation accuracy -> 0.971\n"
     ]
    },
    {
     "name": "stderr",
     "output_type": "stream",
     "text": [
      "422it [00:17, 24.59it/s]"
     ]
    },
    {
     "name": "stdout",
     "output_type": "stream",
     "text": [
      "Epoch 7 train jarayoni tugadi\n",
      "Epoch 7 dagi train loss -> 2.175\n",
      "Epoch 7 dagi train accuracy -> 0.979\n"
     ]
    },
    {
     "name": "stderr",
     "output_type": "stream",
     "text": [
      "\n"
     ]
    },
    {
     "name": "stdout",
     "output_type": "stream",
     "text": [
      "Epoch 7 validation jarayoni tugadi\n",
      "Epoch 7 dagi validation loss -> 2.175\n",
      "Epoch 7 dagi validation accuracy -> 0.980\n"
     ]
    },
    {
     "name": "stderr",
     "output_type": "stream",
     "text": [
      "422it [00:16, 25.58it/s]"
     ]
    },
    {
     "name": "stdout",
     "output_type": "stream",
     "text": [
      "Epoch 8 train jarayoni tugadi\n",
      "Epoch 8 dagi train loss -> 2.174\n",
      "Epoch 8 dagi train accuracy -> 0.981\n"
     ]
    },
    {
     "name": "stderr",
     "output_type": "stream",
     "text": [
      "\n"
     ]
    },
    {
     "name": "stdout",
     "output_type": "stream",
     "text": [
      "Epoch 8 validation jarayoni tugadi\n",
      "Epoch 8 dagi validation loss -> 2.175\n",
      "Epoch 8 dagi validation accuracy -> 0.976\n"
     ]
    },
    {
     "name": "stderr",
     "output_type": "stream",
     "text": [
      "422it [00:17, 24.65it/s]"
     ]
    },
    {
     "name": "stdout",
     "output_type": "stream",
     "text": [
      "Epoch 9 train jarayoni tugadi\n",
      "Epoch 9 dagi train loss -> 2.175\n",
      "Epoch 9 dagi train accuracy -> 0.980\n"
     ]
    },
    {
     "name": "stderr",
     "output_type": "stream",
     "text": [
      "\n"
     ]
    },
    {
     "name": "stdout",
     "output_type": "stream",
     "text": [
      "Epoch 9 validation jarayoni tugadi\n",
      "Epoch 9 dagi validation loss -> 2.175\n",
      "Epoch 9 dagi validation accuracy -> 0.980\n"
     ]
    },
    {
     "name": "stderr",
     "output_type": "stream",
     "text": [
      "422it [00:16, 25.48it/s]"
     ]
    },
    {
     "name": "stdout",
     "output_type": "stream",
     "text": [
      "Epoch 10 train jarayoni tugadi\n",
      "Epoch 10 dagi train loss -> 2.174\n",
      "Epoch 10 dagi train accuracy -> 0.982\n"
     ]
    },
    {
     "name": "stderr",
     "output_type": "stream",
     "text": [
      "\n"
     ]
    },
    {
     "name": "stdout",
     "output_type": "stream",
     "text": [
      "Epoch 10 validation jarayoni tugadi\n",
      "Epoch 10 dagi validation loss -> 2.174\n",
      "Epoch 10 dagi validation accuracy -> 0.983\n"
     ]
    }
   ],
   "source": [
    "from tqdm import tqdm\n",
    "\n",
    "print(\"Train boshlandi...\")\n",
    "best_acc = 0\n",
    "for epoch in range(epochs):\n",
    "    \n",
    "    epoch_loss, epoch_acc, total = 0, 0, 0\n",
    "    for idx, batch in tqdm(enumerate(tr_dl)):\n",
    "        ims, gts = batch\n",
    "        ims, gts = ims.to(device), gts.to(device)\n",
    "        \n",
    "        # print(ims.shape)\n",
    "        # print(gts.shape)\n",
    "        total += ims.shape[0]\n",
    "        \n",
    "        preds = m(ims)\n",
    "        _, pred_cls = torch.max(preds.data, dim = 1)\n",
    "        # print(pred_cls)\n",
    "        # print(gts)\n",
    "        loss = loss_fn(preds, gts)\n",
    "        # loss = loss_fn(preds, gts.unsqueeze(1))\n",
    "        \n",
    "        epoch_acc += (pred_cls == gts).sum().item()\n",
    "        epoch_loss += loss.item()\n",
    "        \n",
    "        optimizer.zero_grad()\n",
    "        loss.backward()\n",
    "        optimizer.step()\n",
    "    \n",
    "    tr_loss = epoch_loss / len(tr_dl)\n",
    "    print(f\"Epoch {epoch + 1} train jarayoni tugadi\")\n",
    "    print(f\"Epoch {epoch + 1} dagi train loss -> {(tr_loss):.3f}\")\n",
    "    print(f\"Epoch {epoch + 1} dagi train accuracy -> {(epoch_acc / total):.3f}\")\n",
    "    \n",
    "    m.eval()\n",
    "    with torch.no_grad():\n",
    "        val_epoch_loss, val_epoch_acc, val_total = 0, 0, 0\n",
    "        for idx, batch in enumerate(val_dl):\n",
    "            ims, gts = batch\n",
    "            ims, gts = ims.to(device), gts.to(device)\n",
    "            val_total += ims.shape[0]\n",
    "\n",
    "            preds = m(ims)\n",
    "            loss = loss_fn(preds, gts)\n",
    "            _, pred_cls = torch.max(preds.data, dim = 1)\n",
    "            val_epoch_acc += (pred_cls == gts).sum().item()\n",
    "            val_epoch_loss += loss.item()\n",
    "        \n",
    "        val_acc = val_epoch_acc / val_total\n",
    "        val_loss = val_epoch_loss / len(val_dl)\n",
    "        \n",
    "        print(f\"Epoch {epoch + 1} validation jarayoni tugadi\")\n",
    "        print(f\"Epoch {epoch + 1} dagi validation loss -> {(val_loss):.3f}\")\n",
    "        print(f\"Epoch {epoch + 1} dagi validation accuracy -> {val_acc:.3f}\")\n",
    "        \n",
    "        \n",
    "        if val_acc > best_acc:\n",
    "            os.makedirs(\"saved_models\", exist_ok=True)\n",
    "            best_acc = val_acc\n",
    "            torch.save(m.state_dict(), f\"saved_models/cifar_best_model_{val_acc:.3f}.pth\")        "
   ]
  },
  {
   "cell_type": "code",
   "execution_count": null,
   "id": "6a10f38b",
   "metadata": {
    "papermill": {
     "duration": 0.060571,
     "end_time": "2023-04-27T12:54:46.881167",
     "exception": false,
     "start_time": "2023-04-27T12:54:46.820596",
     "status": "completed"
    },
    "tags": []
   },
   "outputs": [],
   "source": []
  },
  {
   "cell_type": "code",
   "execution_count": null,
   "id": "835f40b4",
   "metadata": {
    "papermill": {
     "duration": 0.060052,
     "end_time": "2023-04-27T12:54:47.024398",
     "exception": false,
     "start_time": "2023-04-27T12:54:46.964346",
     "status": "completed"
    },
    "tags": []
   },
   "outputs": [],
   "source": []
  }
 ],
 "metadata": {
  "kernelspec": {
   "display_name": "Python 3",
   "language": "python",
   "name": "python3"
  },
  "language_info": {
   "codemirror_mode": {
    "name": "ipython",
    "version": 3
   },
   "file_extension": ".py",
   "mimetype": "text/x-python",
   "name": "python",
   "nbconvert_exporter": "python",
   "pygments_lexer": "ipython3",
   "version": "3.10.5"
  },
  "papermill": {
   "default_parameters": {},
   "duration": 210.347204,
   "end_time": "2023-04-27T12:54:48.710447",
   "environment_variables": {},
   "exception": null,
   "input_path": "__notebook__.ipynb",
   "output_path": "__notebook__.ipynb",
   "parameters": {},
   "start_time": "2023-04-27T12:51:18.363243",
   "version": "2.4.0"
  },
  "widgets": {
   "application/vnd.jupyter.widget-state+json": {
    "state": {
     "055d88ffc6764fac8e02fc4a1a026c66": {
      "model_module": "@jupyter-widgets/controls",
      "model_module_version": "1.5.0",
      "model_name": "HBoxModel",
      "state": {
       "_dom_classes": [],
       "_model_module": "@jupyter-widgets/controls",
       "_model_module_version": "1.5.0",
       "_model_name": "HBoxModel",
       "_view_count": null,
       "_view_module": "@jupyter-widgets/controls",
       "_view_module_version": "1.5.0",
       "_view_name": "HBoxView",
       "box_style": "",
       "children": [
        "IPY_MODEL_bd89d2c7bad74a06928227fbe22b48da",
        "IPY_MODEL_628c2010b4e24be4a31e35cc9d8d62f6",
        "IPY_MODEL_bd8379a58d88445cb01674226941c99c"
       ],
       "layout": "IPY_MODEL_ac5284ae4c534f908d28053848d7a277"
      }
     },
     "0629d60cebb04cc68dba482e2050a1b2": {
      "model_module": "@jupyter-widgets/controls",
      "model_module_version": "1.5.0",
      "model_name": "HTMLModel",
      "state": {
       "_dom_classes": [],
       "_model_module": "@jupyter-widgets/controls",
       "_model_module_version": "1.5.0",
       "_model_name": "HTMLModel",
       "_view_count": null,
       "_view_module": "@jupyter-widgets/controls",
       "_view_module_version": "1.5.0",
       "_view_name": "HTMLView",
       "description": "",
       "description_tooltip": null,
       "layout": "IPY_MODEL_e9b48d1c76ea439694e765750c8032dc",
       "placeholder": "​",
       "style": "IPY_MODEL_752ca2a0511c48618928104e22dfd319",
       "value": " 9912422/9912422 [00:00&lt;00:00, 31123470.74it/s]"
      }
     },
     "0adf1bb3d02e4b0ebe3378781a812675": {
      "model_module": "@jupyter-widgets/controls",
      "model_module_version": "1.5.0",
      "model_name": "HTMLModel",
      "state": {
       "_dom_classes": [],
       "_model_module": "@jupyter-widgets/controls",
       "_model_module_version": "1.5.0",
       "_model_name": "HTMLModel",
       "_view_count": null,
       "_view_module": "@jupyter-widgets/controls",
       "_view_module_version": "1.5.0",
       "_view_name": "HTMLView",
       "description": "",
       "description_tooltip": null,
       "layout": "IPY_MODEL_21f18ecda66f496e9325548ef5fc8854",
       "placeholder": "​",
       "style": "IPY_MODEL_1062d245941e4852a84e1b6a471e296a",
       "value": "100%"
      }
     },
     "1062d245941e4852a84e1b6a471e296a": {
      "model_module": "@jupyter-widgets/controls",
      "model_module_version": "1.5.0",
      "model_name": "DescriptionStyleModel",
      "state": {
       "_model_module": "@jupyter-widgets/controls",
       "_model_module_version": "1.5.0",
       "_model_name": "DescriptionStyleModel",
       "_view_count": null,
       "_view_module": "@jupyter-widgets/base",
       "_view_module_version": "1.2.0",
       "_view_name": "StyleView",
       "description_width": ""
      }
     },
     "137dc690712f4836860b62e51ccfc8a9": {
      "model_module": "@jupyter-widgets/base",
      "model_module_version": "1.2.0",
      "model_name": "LayoutModel",
      "state": {
       "_model_module": "@jupyter-widgets/base",
       "_model_module_version": "1.2.0",
       "_model_name": "LayoutModel",
       "_view_count": null,
       "_view_module": "@jupyter-widgets/base",
       "_view_module_version": "1.2.0",
       "_view_name": "LayoutView",
       "align_content": null,
       "align_items": null,
       "align_self": null,
       "border": null,
       "bottom": null,
       "display": null,
       "flex": null,
       "flex_flow": null,
       "grid_area": null,
       "grid_auto_columns": null,
       "grid_auto_flow": null,
       "grid_auto_rows": null,
       "grid_column": null,
       "grid_gap": null,
       "grid_row": null,
       "grid_template_areas": null,
       "grid_template_columns": null,
       "grid_template_rows": null,
       "height": null,
       "justify_content": null,
       "justify_items": null,
       "left": null,
       "margin": null,
       "max_height": null,
       "max_width": null,
       "min_height": null,
       "min_width": null,
       "object_fit": null,
       "object_position": null,
       "order": null,
       "overflow": null,
       "overflow_x": null,
       "overflow_y": null,
       "padding": null,
       "right": null,
       "top": null,
       "visibility": null,
       "width": null
      }
     },
     "18cd4f9fa9114759bcee0602d7ba53e5": {
      "model_module": "@jupyter-widgets/controls",
      "model_module_version": "1.5.0",
      "model_name": "ProgressStyleModel",
      "state": {
       "_model_module": "@jupyter-widgets/controls",
       "_model_module_version": "1.5.0",
       "_model_name": "ProgressStyleModel",
       "_view_count": null,
       "_view_module": "@jupyter-widgets/base",
       "_view_module_version": "1.2.0",
       "_view_name": "StyleView",
       "bar_color": null,
       "description_width": ""
      }
     },
     "1fc9d8517de94611880818db7a1d38d0": {
      "model_module": "@jupyter-widgets/controls",
      "model_module_version": "1.5.0",
      "model_name": "ProgressStyleModel",
      "state": {
       "_model_module": "@jupyter-widgets/controls",
       "_model_module_version": "1.5.0",
       "_model_name": "ProgressStyleModel",
       "_view_count": null,
       "_view_module": "@jupyter-widgets/base",
       "_view_module_version": "1.2.0",
       "_view_name": "StyleView",
       "bar_color": null,
       "description_width": ""
      }
     },
     "208e0d6c123d4289927ef343cf6dbe5d": {
      "model_module": "@jupyter-widgets/base",
      "model_module_version": "1.2.0",
      "model_name": "LayoutModel",
      "state": {
       "_model_module": "@jupyter-widgets/base",
       "_model_module_version": "1.2.0",
       "_model_name": "LayoutModel",
       "_view_count": null,
       "_view_module": "@jupyter-widgets/base",
       "_view_module_version": "1.2.0",
       "_view_name": "LayoutView",
       "align_content": null,
       "align_items": null,
       "align_self": null,
       "border": null,
       "bottom": null,
       "display": null,
       "flex": null,
       "flex_flow": null,
       "grid_area": null,
       "grid_auto_columns": null,
       "grid_auto_flow": null,
       "grid_auto_rows": null,
       "grid_column": null,
       "grid_gap": null,
       "grid_row": null,
       "grid_template_areas": null,
       "grid_template_columns": null,
       "grid_template_rows": null,
       "height": null,
       "justify_content": null,
       "justify_items": null,
       "left": null,
       "margin": null,
       "max_height": null,
       "max_width": null,
       "min_height": null,
       "min_width": null,
       "object_fit": null,
       "object_position": null,
       "order": null,
       "overflow": null,
       "overflow_x": null,
       "overflow_y": null,
       "padding": null,
       "right": null,
       "top": null,
       "visibility": null,
       "width": null
      }
     },
     "21f18ecda66f496e9325548ef5fc8854": {
      "model_module": "@jupyter-widgets/base",
      "model_module_version": "1.2.0",
      "model_name": "LayoutModel",
      "state": {
       "_model_module": "@jupyter-widgets/base",
       "_model_module_version": "1.2.0",
       "_model_name": "LayoutModel",
       "_view_count": null,
       "_view_module": "@jupyter-widgets/base",
       "_view_module_version": "1.2.0",
       "_view_name": "LayoutView",
       "align_content": null,
       "align_items": null,
       "align_self": null,
       "border": null,
       "bottom": null,
       "display": null,
       "flex": null,
       "flex_flow": null,
       "grid_area": null,
       "grid_auto_columns": null,
       "grid_auto_flow": null,
       "grid_auto_rows": null,
       "grid_column": null,
       "grid_gap": null,
       "grid_row": null,
       "grid_template_areas": null,
       "grid_template_columns": null,
       "grid_template_rows": null,
       "height": null,
       "justify_content": null,
       "justify_items": null,
       "left": null,
       "margin": null,
       "max_height": null,
       "max_width": null,
       "min_height": null,
       "min_width": null,
       "object_fit": null,
       "object_position": null,
       "order": null,
       "overflow": null,
       "overflow_x": null,
       "overflow_y": null,
       "padding": null,
       "right": null,
       "top": null,
       "visibility": null,
       "width": null
      }
     },
     "2722e7a12b794e57bef4aa90a53437d9": {
      "model_module": "@jupyter-widgets/controls",
      "model_module_version": "1.5.0",
      "model_name": "FloatProgressModel",
      "state": {
       "_dom_classes": [],
       "_model_module": "@jupyter-widgets/controls",
       "_model_module_version": "1.5.0",
       "_model_name": "FloatProgressModel",
       "_view_count": null,
       "_view_module": "@jupyter-widgets/controls",
       "_view_module_version": "1.5.0",
       "_view_name": "ProgressView",
       "bar_style": "success",
       "description": "",
       "description_tooltip": null,
       "layout": "IPY_MODEL_4e2cd29437624249a32a1c9ec210466e",
       "max": 9912422,
       "min": 0,
       "orientation": "horizontal",
       "style": "IPY_MODEL_18cd4f9fa9114759bcee0602d7ba53e5",
       "value": 9912422
      }
     },
     "354eddafc8264431aa1bac54cb3069f7": {
      "model_module": "@jupyter-widgets/controls",
      "model_module_version": "1.5.0",
      "model_name": "DescriptionStyleModel",
      "state": {
       "_model_module": "@jupyter-widgets/controls",
       "_model_module_version": "1.5.0",
       "_model_name": "DescriptionStyleModel",
       "_view_count": null,
       "_view_module": "@jupyter-widgets/base",
       "_view_module_version": "1.2.0",
       "_view_name": "StyleView",
       "description_width": ""
      }
     },
     "3a08a96ff4c74a62b1e7355aee0c61ba": {
      "model_module": "@jupyter-widgets/controls",
      "model_module_version": "1.5.0",
      "model_name": "DescriptionStyleModel",
      "state": {
       "_model_module": "@jupyter-widgets/controls",
       "_model_module_version": "1.5.0",
       "_model_name": "DescriptionStyleModel",
       "_view_count": null,
       "_view_module": "@jupyter-widgets/base",
       "_view_module_version": "1.2.0",
       "_view_name": "StyleView",
       "description_width": ""
      }
     },
     "3c25c353c42b45f5bcba1936837900a4": {
      "model_module": "@jupyter-widgets/controls",
      "model_module_version": "1.5.0",
      "model_name": "HBoxModel",
      "state": {
       "_dom_classes": [],
       "_model_module": "@jupyter-widgets/controls",
       "_model_module_version": "1.5.0",
       "_model_name": "HBoxModel",
       "_view_count": null,
       "_view_module": "@jupyter-widgets/controls",
       "_view_module_version": "1.5.0",
       "_view_name": "HBoxView",
       "box_style": "",
       "children": [
        "IPY_MODEL_0adf1bb3d02e4b0ebe3378781a812675",
        "IPY_MODEL_57409606499c4abf8c6afb9ade426ddb",
        "IPY_MODEL_6df71f7298354273b6fd3c0c0882c684"
       ],
       "layout": "IPY_MODEL_bd854468ed4e45cda1387f8d1236a943"
      }
     },
     "4bfabc357cb94548a28d52c7e187e723": {
      "model_module": "@jupyter-widgets/controls",
      "model_module_version": "1.5.0",
      "model_name": "HTMLModel",
      "state": {
       "_dom_classes": [],
       "_model_module": "@jupyter-widgets/controls",
       "_model_module_version": "1.5.0",
       "_model_name": "HTMLModel",
       "_view_count": null,
       "_view_module": "@jupyter-widgets/controls",
       "_view_module_version": "1.5.0",
       "_view_name": "HTMLView",
       "description": "",
       "description_tooltip": null,
       "layout": "IPY_MODEL_eee918d1b9b04c98993fddf8cbc57776",
       "placeholder": "​",
       "style": "IPY_MODEL_4f29520368084e7a8b8179389f452533",
       "value": "100%"
      }
     },
     "4da6b9cc12fe477bafaa3c39a84d855a": {
      "model_module": "@jupyter-widgets/base",
      "model_module_version": "1.2.0",
      "model_name": "LayoutModel",
      "state": {
       "_model_module": "@jupyter-widgets/base",
       "_model_module_version": "1.2.0",
       "_model_name": "LayoutModel",
       "_view_count": null,
       "_view_module": "@jupyter-widgets/base",
       "_view_module_version": "1.2.0",
       "_view_name": "LayoutView",
       "align_content": null,
       "align_items": null,
       "align_self": null,
       "border": null,
       "bottom": null,
       "display": null,
       "flex": null,
       "flex_flow": null,
       "grid_area": null,
       "grid_auto_columns": null,
       "grid_auto_flow": null,
       "grid_auto_rows": null,
       "grid_column": null,
       "grid_gap": null,
       "grid_row": null,
       "grid_template_areas": null,
       "grid_template_columns": null,
       "grid_template_rows": null,
       "height": null,
       "justify_content": null,
       "justify_items": null,
       "left": null,
       "margin": null,
       "max_height": null,
       "max_width": null,
       "min_height": null,
       "min_width": null,
       "object_fit": null,
       "object_position": null,
       "order": null,
       "overflow": null,
       "overflow_x": null,
       "overflow_y": null,
       "padding": null,
       "right": null,
       "top": null,
       "visibility": null,
       "width": null
      }
     },
     "4e2cd29437624249a32a1c9ec210466e": {
      "model_module": "@jupyter-widgets/base",
      "model_module_version": "1.2.0",
      "model_name": "LayoutModel",
      "state": {
       "_model_module": "@jupyter-widgets/base",
       "_model_module_version": "1.2.0",
       "_model_name": "LayoutModel",
       "_view_count": null,
       "_view_module": "@jupyter-widgets/base",
       "_view_module_version": "1.2.0",
       "_view_name": "LayoutView",
       "align_content": null,
       "align_items": null,
       "align_self": null,
       "border": null,
       "bottom": null,
       "display": null,
       "flex": null,
       "flex_flow": null,
       "grid_area": null,
       "grid_auto_columns": null,
       "grid_auto_flow": null,
       "grid_auto_rows": null,
       "grid_column": null,
       "grid_gap": null,
       "grid_row": null,
       "grid_template_areas": null,
       "grid_template_columns": null,
       "grid_template_rows": null,
       "height": null,
       "justify_content": null,
       "justify_items": null,
       "left": null,
       "margin": null,
       "max_height": null,
       "max_width": null,
       "min_height": null,
       "min_width": null,
       "object_fit": null,
       "object_position": null,
       "order": null,
       "overflow": null,
       "overflow_x": null,
       "overflow_y": null,
       "padding": null,
       "right": null,
       "top": null,
       "visibility": null,
       "width": null
      }
     },
     "4f29520368084e7a8b8179389f452533": {
      "model_module": "@jupyter-widgets/controls",
      "model_module_version": "1.5.0",
      "model_name": "DescriptionStyleModel",
      "state": {
       "_model_module": "@jupyter-widgets/controls",
       "_model_module_version": "1.5.0",
       "_model_name": "DescriptionStyleModel",
       "_view_count": null,
       "_view_module": "@jupyter-widgets/base",
       "_view_module_version": "1.2.0",
       "_view_name": "StyleView",
       "description_width": ""
      }
     },
     "57409606499c4abf8c6afb9ade426ddb": {
      "model_module": "@jupyter-widgets/controls",
      "model_module_version": "1.5.0",
      "model_name": "FloatProgressModel",
      "state": {
       "_dom_classes": [],
       "_model_module": "@jupyter-widgets/controls",
       "_model_module_version": "1.5.0",
       "_model_name": "FloatProgressModel",
       "_view_count": null,
       "_view_module": "@jupyter-widgets/controls",
       "_view_module_version": "1.5.0",
       "_view_name": "ProgressView",
       "bar_style": "success",
       "description": "",
       "description_tooltip": null,
       "layout": "IPY_MODEL_137dc690712f4836860b62e51ccfc8a9",
       "max": 1648877,
       "min": 0,
       "orientation": "horizontal",
       "style": "IPY_MODEL_bab655109b264f8e88ec9c79178f533f",
       "value": 1648877
      }
     },
     "628c2010b4e24be4a31e35cc9d8d62f6": {
      "model_module": "@jupyter-widgets/controls",
      "model_module_version": "1.5.0",
      "model_name": "FloatProgressModel",
      "state": {
       "_dom_classes": [],
       "_model_module": "@jupyter-widgets/controls",
       "_model_module_version": "1.5.0",
       "_model_name": "FloatProgressModel",
       "_view_count": null,
       "_view_module": "@jupyter-widgets/controls",
       "_view_module_version": "1.5.0",
       "_view_name": "ProgressView",
       "bar_style": "success",
       "description": "",
       "description_tooltip": null,
       "layout": "IPY_MODEL_4da6b9cc12fe477bafaa3c39a84d855a",
       "max": 28881,
       "min": 0,
       "orientation": "horizontal",
       "style": "IPY_MODEL_1fc9d8517de94611880818db7a1d38d0",
       "value": 28881
      }
     },
     "6377ddbeb8244017ba8cc1289294edaa": {
      "model_module": "@jupyter-widgets/base",
      "model_module_version": "1.2.0",
      "model_name": "LayoutModel",
      "state": {
       "_model_module": "@jupyter-widgets/base",
       "_model_module_version": "1.2.0",
       "_model_name": "LayoutModel",
       "_view_count": null,
       "_view_module": "@jupyter-widgets/base",
       "_view_module_version": "1.2.0",
       "_view_name": "LayoutView",
       "align_content": null,
       "align_items": null,
       "align_self": null,
       "border": null,
       "bottom": null,
       "display": null,
       "flex": null,
       "flex_flow": null,
       "grid_area": null,
       "grid_auto_columns": null,
       "grid_auto_flow": null,
       "grid_auto_rows": null,
       "grid_column": null,
       "grid_gap": null,
       "grid_row": null,
       "grid_template_areas": null,
       "grid_template_columns": null,
       "grid_template_rows": null,
       "height": null,
       "justify_content": null,
       "justify_items": null,
       "left": null,
       "margin": null,
       "max_height": null,
       "max_width": null,
       "min_height": null,
       "min_width": null,
       "object_fit": null,
       "object_position": null,
       "order": null,
       "overflow": null,
       "overflow_x": null,
       "overflow_y": null,
       "padding": null,
       "right": null,
       "top": null,
       "visibility": null,
       "width": null
      }
     },
     "6df71f7298354273b6fd3c0c0882c684": {
      "model_module": "@jupyter-widgets/controls",
      "model_module_version": "1.5.0",
      "model_name": "HTMLModel",
      "state": {
       "_dom_classes": [],
       "_model_module": "@jupyter-widgets/controls",
       "_model_module_version": "1.5.0",
       "_model_name": "HTMLModel",
       "_view_count": null,
       "_view_module": "@jupyter-widgets/controls",
       "_view_module_version": "1.5.0",
       "_view_name": "HTMLView",
       "description": "",
       "description_tooltip": null,
       "layout": "IPY_MODEL_8597dce0986845b4acc976e6cd928da9",
       "placeholder": "​",
       "style": "IPY_MODEL_cc1d55e5a7864e3e9cc5f085efa7343e",
       "value": " 1648877/1648877 [00:00&lt;00:00, 20186313.01it/s]"
      }
     },
     "752ca2a0511c48618928104e22dfd319": {
      "model_module": "@jupyter-widgets/controls",
      "model_module_version": "1.5.0",
      "model_name": "DescriptionStyleModel",
      "state": {
       "_model_module": "@jupyter-widgets/controls",
       "_model_module_version": "1.5.0",
       "_model_name": "DescriptionStyleModel",
       "_view_count": null,
       "_view_module": "@jupyter-widgets/base",
       "_view_module_version": "1.2.0",
       "_view_name": "StyleView",
       "description_width": ""
      }
     },
     "7ef5c1f4a27243499805e8ef57c1303a": {
      "model_module": "@jupyter-widgets/base",
      "model_module_version": "1.2.0",
      "model_name": "LayoutModel",
      "state": {
       "_model_module": "@jupyter-widgets/base",
       "_model_module_version": "1.2.0",
       "_model_name": "LayoutModel",
       "_view_count": null,
       "_view_module": "@jupyter-widgets/base",
       "_view_module_version": "1.2.0",
       "_view_name": "LayoutView",
       "align_content": null,
       "align_items": null,
       "align_self": null,
       "border": null,
       "bottom": null,
       "display": null,
       "flex": null,
       "flex_flow": null,
       "grid_area": null,
       "grid_auto_columns": null,
       "grid_auto_flow": null,
       "grid_auto_rows": null,
       "grid_column": null,
       "grid_gap": null,
       "grid_row": null,
       "grid_template_areas": null,
       "grid_template_columns": null,
       "grid_template_rows": null,
       "height": null,
       "justify_content": null,
       "justify_items": null,
       "left": null,
       "margin": null,
       "max_height": null,
       "max_width": null,
       "min_height": null,
       "min_width": null,
       "object_fit": null,
       "object_position": null,
       "order": null,
       "overflow": null,
       "overflow_x": null,
       "overflow_y": null,
       "padding": null,
       "right": null,
       "top": null,
       "visibility": null,
       "width": null
      }
     },
     "7fdd688792674e5fb9ed0df457d5f361": {
      "model_module": "@jupyter-widgets/controls",
      "model_module_version": "1.5.0",
      "model_name": "FloatProgressModel",
      "state": {
       "_dom_classes": [],
       "_model_module": "@jupyter-widgets/controls",
       "_model_module_version": "1.5.0",
       "_model_name": "FloatProgressModel",
       "_view_count": null,
       "_view_module": "@jupyter-widgets/controls",
       "_view_module_version": "1.5.0",
       "_view_name": "ProgressView",
       "bar_style": "success",
       "description": "",
       "description_tooltip": null,
       "layout": "IPY_MODEL_a0683ad9fbaf4d41b9864f6128878733",
       "max": 4542,
       "min": 0,
       "orientation": "horizontal",
       "style": "IPY_MODEL_9ca1e88038fa4da39fbbfc2f5f86bbd6",
       "value": 4542
      }
     },
     "8597dce0986845b4acc976e6cd928da9": {
      "model_module": "@jupyter-widgets/base",
      "model_module_version": "1.2.0",
      "model_name": "LayoutModel",
      "state": {
       "_model_module": "@jupyter-widgets/base",
       "_model_module_version": "1.2.0",
       "_model_name": "LayoutModel",
       "_view_count": null,
       "_view_module": "@jupyter-widgets/base",
       "_view_module_version": "1.2.0",
       "_view_name": "LayoutView",
       "align_content": null,
       "align_items": null,
       "align_self": null,
       "border": null,
       "bottom": null,
       "display": null,
       "flex": null,
       "flex_flow": null,
       "grid_area": null,
       "grid_auto_columns": null,
       "grid_auto_flow": null,
       "grid_auto_rows": null,
       "grid_column": null,
       "grid_gap": null,
       "grid_row": null,
       "grid_template_areas": null,
       "grid_template_columns": null,
       "grid_template_rows": null,
       "height": null,
       "justify_content": null,
       "justify_items": null,
       "left": null,
       "margin": null,
       "max_height": null,
       "max_width": null,
       "min_height": null,
       "min_width": null,
       "object_fit": null,
       "object_position": null,
       "order": null,
       "overflow": null,
       "overflow_x": null,
       "overflow_y": null,
       "padding": null,
       "right": null,
       "top": null,
       "visibility": null,
       "width": null
      }
     },
     "95d4d8dfb1e24890a6f8b6064fedc9e9": {
      "model_module": "@jupyter-widgets/controls",
      "model_module_version": "1.5.0",
      "model_name": "HTMLModel",
      "state": {
       "_dom_classes": [],
       "_model_module": "@jupyter-widgets/controls",
       "_model_module_version": "1.5.0",
       "_model_name": "HTMLModel",
       "_view_count": null,
       "_view_module": "@jupyter-widgets/controls",
       "_view_module_version": "1.5.0",
       "_view_name": "HTMLView",
       "description": "",
       "description_tooltip": null,
       "layout": "IPY_MODEL_7ef5c1f4a27243499805e8ef57c1303a",
       "placeholder": "​",
       "style": "IPY_MODEL_3a08a96ff4c74a62b1e7355aee0c61ba",
       "value": " 4542/4542 [00:00&lt;00:00, 343005.56it/s]"
      }
     },
     "9ca1e88038fa4da39fbbfc2f5f86bbd6": {
      "model_module": "@jupyter-widgets/controls",
      "model_module_version": "1.5.0",
      "model_name": "ProgressStyleModel",
      "state": {
       "_model_module": "@jupyter-widgets/controls",
       "_model_module_version": "1.5.0",
       "_model_name": "ProgressStyleModel",
       "_view_count": null,
       "_view_module": "@jupyter-widgets/base",
       "_view_module_version": "1.2.0",
       "_view_name": "StyleView",
       "bar_color": null,
       "description_width": ""
      }
     },
     "a0683ad9fbaf4d41b9864f6128878733": {
      "model_module": "@jupyter-widgets/base",
      "model_module_version": "1.2.0",
      "model_name": "LayoutModel",
      "state": {
       "_model_module": "@jupyter-widgets/base",
       "_model_module_version": "1.2.0",
       "_model_name": "LayoutModel",
       "_view_count": null,
       "_view_module": "@jupyter-widgets/base",
       "_view_module_version": "1.2.0",
       "_view_name": "LayoutView",
       "align_content": null,
       "align_items": null,
       "align_self": null,
       "border": null,
       "bottom": null,
       "display": null,
       "flex": null,
       "flex_flow": null,
       "grid_area": null,
       "grid_auto_columns": null,
       "grid_auto_flow": null,
       "grid_auto_rows": null,
       "grid_column": null,
       "grid_gap": null,
       "grid_row": null,
       "grid_template_areas": null,
       "grid_template_columns": null,
       "grid_template_rows": null,
       "height": null,
       "justify_content": null,
       "justify_items": null,
       "left": null,
       "margin": null,
       "max_height": null,
       "max_width": null,
       "min_height": null,
       "min_width": null,
       "object_fit": null,
       "object_position": null,
       "order": null,
       "overflow": null,
       "overflow_x": null,
       "overflow_y": null,
       "padding": null,
       "right": null,
       "top": null,
       "visibility": null,
       "width": null
      }
     },
     "a0d2b2fec9a4467aa6e4d9735b58abdd": {
      "model_module": "@jupyter-widgets/controls",
      "model_module_version": "1.5.0",
      "model_name": "DescriptionStyleModel",
      "state": {
       "_model_module": "@jupyter-widgets/controls",
       "_model_module_version": "1.5.0",
       "_model_name": "DescriptionStyleModel",
       "_view_count": null,
       "_view_module": "@jupyter-widgets/base",
       "_view_module_version": "1.2.0",
       "_view_name": "StyleView",
       "description_width": ""
      }
     },
     "a241b4ffe5a847ba91c15d529b0f6e89": {
      "model_module": "@jupyter-widgets/base",
      "model_module_version": "1.2.0",
      "model_name": "LayoutModel",
      "state": {
       "_model_module": "@jupyter-widgets/base",
       "_model_module_version": "1.2.0",
       "_model_name": "LayoutModel",
       "_view_count": null,
       "_view_module": "@jupyter-widgets/base",
       "_view_module_version": "1.2.0",
       "_view_name": "LayoutView",
       "align_content": null,
       "align_items": null,
       "align_self": null,
       "border": null,
       "bottom": null,
       "display": null,
       "flex": null,
       "flex_flow": null,
       "grid_area": null,
       "grid_auto_columns": null,
       "grid_auto_flow": null,
       "grid_auto_rows": null,
       "grid_column": null,
       "grid_gap": null,
       "grid_row": null,
       "grid_template_areas": null,
       "grid_template_columns": null,
       "grid_template_rows": null,
       "height": null,
       "justify_content": null,
       "justify_items": null,
       "left": null,
       "margin": null,
       "max_height": null,
       "max_width": null,
       "min_height": null,
       "min_width": null,
       "object_fit": null,
       "object_position": null,
       "order": null,
       "overflow": null,
       "overflow_x": null,
       "overflow_y": null,
       "padding": null,
       "right": null,
       "top": null,
       "visibility": null,
       "width": null
      }
     },
     "a2c957d63d2442719923612d11f33c0a": {
      "model_module": "@jupyter-widgets/controls",
      "model_module_version": "1.5.0",
      "model_name": "HTMLModel",
      "state": {
       "_dom_classes": [],
       "_model_module": "@jupyter-widgets/controls",
       "_model_module_version": "1.5.0",
       "_model_name": "HTMLModel",
       "_view_count": null,
       "_view_module": "@jupyter-widgets/controls",
       "_view_module_version": "1.5.0",
       "_view_name": "HTMLView",
       "description": "",
       "description_tooltip": null,
       "layout": "IPY_MODEL_6377ddbeb8244017ba8cc1289294edaa",
       "placeholder": "​",
       "style": "IPY_MODEL_354eddafc8264431aa1bac54cb3069f7",
       "value": "100%"
      }
     },
     "ac5284ae4c534f908d28053848d7a277": {
      "model_module": "@jupyter-widgets/base",
      "model_module_version": "1.2.0",
      "model_name": "LayoutModel",
      "state": {
       "_model_module": "@jupyter-widgets/base",
       "_model_module_version": "1.2.0",
       "_model_name": "LayoutModel",
       "_view_count": null,
       "_view_module": "@jupyter-widgets/base",
       "_view_module_version": "1.2.0",
       "_view_name": "LayoutView",
       "align_content": null,
       "align_items": null,
       "align_self": null,
       "border": null,
       "bottom": null,
       "display": null,
       "flex": null,
       "flex_flow": null,
       "grid_area": null,
       "grid_auto_columns": null,
       "grid_auto_flow": null,
       "grid_auto_rows": null,
       "grid_column": null,
       "grid_gap": null,
       "grid_row": null,
       "grid_template_areas": null,
       "grid_template_columns": null,
       "grid_template_rows": null,
       "height": null,
       "justify_content": null,
       "justify_items": null,
       "left": null,
       "margin": null,
       "max_height": null,
       "max_width": null,
       "min_height": null,
       "min_width": null,
       "object_fit": null,
       "object_position": null,
       "order": null,
       "overflow": null,
       "overflow_x": null,
       "overflow_y": null,
       "padding": null,
       "right": null,
       "top": null,
       "visibility": null,
       "width": null
      }
     },
     "bab655109b264f8e88ec9c79178f533f": {
      "model_module": "@jupyter-widgets/controls",
      "model_module_version": "1.5.0",
      "model_name": "ProgressStyleModel",
      "state": {
       "_model_module": "@jupyter-widgets/controls",
       "_model_module_version": "1.5.0",
       "_model_name": "ProgressStyleModel",
       "_view_count": null,
       "_view_module": "@jupyter-widgets/base",
       "_view_module_version": "1.2.0",
       "_view_name": "StyleView",
       "bar_color": null,
       "description_width": ""
      }
     },
     "bd8379a58d88445cb01674226941c99c": {
      "model_module": "@jupyter-widgets/controls",
      "model_module_version": "1.5.0",
      "model_name": "HTMLModel",
      "state": {
       "_dom_classes": [],
       "_model_module": "@jupyter-widgets/controls",
       "_model_module_version": "1.5.0",
       "_model_name": "HTMLModel",
       "_view_count": null,
       "_view_module": "@jupyter-widgets/controls",
       "_view_module_version": "1.5.0",
       "_view_name": "HTMLView",
       "description": "",
       "description_tooltip": null,
       "layout": "IPY_MODEL_a241b4ffe5a847ba91c15d529b0f6e89",
       "placeholder": "​",
       "style": "IPY_MODEL_bf8cd07b2e3b4c5b8f0686501ee96e95",
       "value": " 28881/28881 [00:00&lt;00:00, 2049881.44it/s]"
      }
     },
     "bd854468ed4e45cda1387f8d1236a943": {
      "model_module": "@jupyter-widgets/base",
      "model_module_version": "1.2.0",
      "model_name": "LayoutModel",
      "state": {
       "_model_module": "@jupyter-widgets/base",
       "_model_module_version": "1.2.0",
       "_model_name": "LayoutModel",
       "_view_count": null,
       "_view_module": "@jupyter-widgets/base",
       "_view_module_version": "1.2.0",
       "_view_name": "LayoutView",
       "align_content": null,
       "align_items": null,
       "align_self": null,
       "border": null,
       "bottom": null,
       "display": null,
       "flex": null,
       "flex_flow": null,
       "grid_area": null,
       "grid_auto_columns": null,
       "grid_auto_flow": null,
       "grid_auto_rows": null,
       "grid_column": null,
       "grid_gap": null,
       "grid_row": null,
       "grid_template_areas": null,
       "grid_template_columns": null,
       "grid_template_rows": null,
       "height": null,
       "justify_content": null,
       "justify_items": null,
       "left": null,
       "margin": null,
       "max_height": null,
       "max_width": null,
       "min_height": null,
       "min_width": null,
       "object_fit": null,
       "object_position": null,
       "order": null,
       "overflow": null,
       "overflow_x": null,
       "overflow_y": null,
       "padding": null,
       "right": null,
       "top": null,
       "visibility": null,
       "width": null
      }
     },
     "bd89d2c7bad74a06928227fbe22b48da": {
      "model_module": "@jupyter-widgets/controls",
      "model_module_version": "1.5.0",
      "model_name": "HTMLModel",
      "state": {
       "_dom_classes": [],
       "_model_module": "@jupyter-widgets/controls",
       "_model_module_version": "1.5.0",
       "_model_name": "HTMLModel",
       "_view_count": null,
       "_view_module": "@jupyter-widgets/controls",
       "_view_module_version": "1.5.0",
       "_view_name": "HTMLView",
       "description": "",
       "description_tooltip": null,
       "layout": "IPY_MODEL_f52591e2b0ad4888bba7cfbadf1f3eca",
       "placeholder": "​",
       "style": "IPY_MODEL_a0d2b2fec9a4467aa6e4d9735b58abdd",
       "value": "100%"
      }
     },
     "bf8cd07b2e3b4c5b8f0686501ee96e95": {
      "model_module": "@jupyter-widgets/controls",
      "model_module_version": "1.5.0",
      "model_name": "DescriptionStyleModel",
      "state": {
       "_model_module": "@jupyter-widgets/controls",
       "_model_module_version": "1.5.0",
       "_model_name": "DescriptionStyleModel",
       "_view_count": null,
       "_view_module": "@jupyter-widgets/base",
       "_view_module_version": "1.2.0",
       "_view_name": "StyleView",
       "description_width": ""
      }
     },
     "cc1d55e5a7864e3e9cc5f085efa7343e": {
      "model_module": "@jupyter-widgets/controls",
      "model_module_version": "1.5.0",
      "model_name": "DescriptionStyleModel",
      "state": {
       "_model_module": "@jupyter-widgets/controls",
       "_model_module_version": "1.5.0",
       "_model_name": "DescriptionStyleModel",
       "_view_count": null,
       "_view_module": "@jupyter-widgets/base",
       "_view_module_version": "1.2.0",
       "_view_name": "StyleView",
       "description_width": ""
      }
     },
     "d7a0dd0e2efe4a5ca2cccc614e65b9f1": {
      "model_module": "@jupyter-widgets/controls",
      "model_module_version": "1.5.0",
      "model_name": "HBoxModel",
      "state": {
       "_dom_classes": [],
       "_model_module": "@jupyter-widgets/controls",
       "_model_module_version": "1.5.0",
       "_model_name": "HBoxModel",
       "_view_count": null,
       "_view_module": "@jupyter-widgets/controls",
       "_view_module_version": "1.5.0",
       "_view_name": "HBoxView",
       "box_style": "",
       "children": [
        "IPY_MODEL_4bfabc357cb94548a28d52c7e187e723",
        "IPY_MODEL_2722e7a12b794e57bef4aa90a53437d9",
        "IPY_MODEL_0629d60cebb04cc68dba482e2050a1b2"
       ],
       "layout": "IPY_MODEL_208e0d6c123d4289927ef343cf6dbe5d"
      }
     },
     "d7aaa44aa8dc474ea0e77ac1aa89bd88": {
      "model_module": "@jupyter-widgets/controls",
      "model_module_version": "1.5.0",
      "model_name": "HBoxModel",
      "state": {
       "_dom_classes": [],
       "_model_module": "@jupyter-widgets/controls",
       "_model_module_version": "1.5.0",
       "_model_name": "HBoxModel",
       "_view_count": null,
       "_view_module": "@jupyter-widgets/controls",
       "_view_module_version": "1.5.0",
       "_view_name": "HBoxView",
       "box_style": "",
       "children": [
        "IPY_MODEL_a2c957d63d2442719923612d11f33c0a",
        "IPY_MODEL_7fdd688792674e5fb9ed0df457d5f361",
        "IPY_MODEL_95d4d8dfb1e24890a6f8b6064fedc9e9"
       ],
       "layout": "IPY_MODEL_daf2532fbec144cd94d6298923de4139"
      }
     },
     "daf2532fbec144cd94d6298923de4139": {
      "model_module": "@jupyter-widgets/base",
      "model_module_version": "1.2.0",
      "model_name": "LayoutModel",
      "state": {
       "_model_module": "@jupyter-widgets/base",
       "_model_module_version": "1.2.0",
       "_model_name": "LayoutModel",
       "_view_count": null,
       "_view_module": "@jupyter-widgets/base",
       "_view_module_version": "1.2.0",
       "_view_name": "LayoutView",
       "align_content": null,
       "align_items": null,
       "align_self": null,
       "border": null,
       "bottom": null,
       "display": null,
       "flex": null,
       "flex_flow": null,
       "grid_area": null,
       "grid_auto_columns": null,
       "grid_auto_flow": null,
       "grid_auto_rows": null,
       "grid_column": null,
       "grid_gap": null,
       "grid_row": null,
       "grid_template_areas": null,
       "grid_template_columns": null,
       "grid_template_rows": null,
       "height": null,
       "justify_content": null,
       "justify_items": null,
       "left": null,
       "margin": null,
       "max_height": null,
       "max_width": null,
       "min_height": null,
       "min_width": null,
       "object_fit": null,
       "object_position": null,
       "order": null,
       "overflow": null,
       "overflow_x": null,
       "overflow_y": null,
       "padding": null,
       "right": null,
       "top": null,
       "visibility": null,
       "width": null
      }
     },
     "e9b48d1c76ea439694e765750c8032dc": {
      "model_module": "@jupyter-widgets/base",
      "model_module_version": "1.2.0",
      "model_name": "LayoutModel",
      "state": {
       "_model_module": "@jupyter-widgets/base",
       "_model_module_version": "1.2.0",
       "_model_name": "LayoutModel",
       "_view_count": null,
       "_view_module": "@jupyter-widgets/base",
       "_view_module_version": "1.2.0",
       "_view_name": "LayoutView",
       "align_content": null,
       "align_items": null,
       "align_self": null,
       "border": null,
       "bottom": null,
       "display": null,
       "flex": null,
       "flex_flow": null,
       "grid_area": null,
       "grid_auto_columns": null,
       "grid_auto_flow": null,
       "grid_auto_rows": null,
       "grid_column": null,
       "grid_gap": null,
       "grid_row": null,
       "grid_template_areas": null,
       "grid_template_columns": null,
       "grid_template_rows": null,
       "height": null,
       "justify_content": null,
       "justify_items": null,
       "left": null,
       "margin": null,
       "max_height": null,
       "max_width": null,
       "min_height": null,
       "min_width": null,
       "object_fit": null,
       "object_position": null,
       "order": null,
       "overflow": null,
       "overflow_x": null,
       "overflow_y": null,
       "padding": null,
       "right": null,
       "top": null,
       "visibility": null,
       "width": null
      }
     },
     "eee918d1b9b04c98993fddf8cbc57776": {
      "model_module": "@jupyter-widgets/base",
      "model_module_version": "1.2.0",
      "model_name": "LayoutModel",
      "state": {
       "_model_module": "@jupyter-widgets/base",
       "_model_module_version": "1.2.0",
       "_model_name": "LayoutModel",
       "_view_count": null,
       "_view_module": "@jupyter-widgets/base",
       "_view_module_version": "1.2.0",
       "_view_name": "LayoutView",
       "align_content": null,
       "align_items": null,
       "align_self": null,
       "border": null,
       "bottom": null,
       "display": null,
       "flex": null,
       "flex_flow": null,
       "grid_area": null,
       "grid_auto_columns": null,
       "grid_auto_flow": null,
       "grid_auto_rows": null,
       "grid_column": null,
       "grid_gap": null,
       "grid_row": null,
       "grid_template_areas": null,
       "grid_template_columns": null,
       "grid_template_rows": null,
       "height": null,
       "justify_content": null,
       "justify_items": null,
       "left": null,
       "margin": null,
       "max_height": null,
       "max_width": null,
       "min_height": null,
       "min_width": null,
       "object_fit": null,
       "object_position": null,
       "order": null,
       "overflow": null,
       "overflow_x": null,
       "overflow_y": null,
       "padding": null,
       "right": null,
       "top": null,
       "visibility": null,
       "width": null
      }
     },
     "f52591e2b0ad4888bba7cfbadf1f3eca": {
      "model_module": "@jupyter-widgets/base",
      "model_module_version": "1.2.0",
      "model_name": "LayoutModel",
      "state": {
       "_model_module": "@jupyter-widgets/base",
       "_model_module_version": "1.2.0",
       "_model_name": "LayoutModel",
       "_view_count": null,
       "_view_module": "@jupyter-widgets/base",
       "_view_module_version": "1.2.0",
       "_view_name": "LayoutView",
       "align_content": null,
       "align_items": null,
       "align_self": null,
       "border": null,
       "bottom": null,
       "display": null,
       "flex": null,
       "flex_flow": null,
       "grid_area": null,
       "grid_auto_columns": null,
       "grid_auto_flow": null,
       "grid_auto_rows": null,
       "grid_column": null,
       "grid_gap": null,
       "grid_row": null,
       "grid_template_areas": null,
       "grid_template_columns": null,
       "grid_template_rows": null,
       "height": null,
       "justify_content": null,
       "justify_items": null,
       "left": null,
       "margin": null,
       "max_height": null,
       "max_width": null,
       "min_height": null,
       "min_width": null,
       "object_fit": null,
       "object_position": null,
       "order": null,
       "overflow": null,
       "overflow_x": null,
       "overflow_y": null,
       "padding": null,
       "right": null,
       "top": null,
       "visibility": null,
       "width": null
      }
     }
    },
    "version_major": 2,
    "version_minor": 0
   }
  }
 },
 "nbformat": 4,
 "nbformat_minor": 5
}
