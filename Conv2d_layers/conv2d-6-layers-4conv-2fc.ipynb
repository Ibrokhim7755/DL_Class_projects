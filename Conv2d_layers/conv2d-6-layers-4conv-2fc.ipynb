{
 "cells": [
  {
   "cell_type": "code",
   "execution_count": 1,
   "id": "55f83920",
   "metadata": {
    "_cell_guid": "b1076dfc-b9ad-4769-8c92-a6c4dae69d19",
    "_uuid": "8f2839f25d086af736a60e9eeb907d3b93b6e0e5",
    "execution": {
     "iopub.execute_input": "2023-04-28T11:43:29.216341Z",
     "iopub.status.busy": "2023-04-28T11:43:29.215849Z",
     "iopub.status.idle": "2023-04-28T11:43:29.228121Z",
     "shell.execute_reply": "2023-04-28T11:43:29.227175Z"
    },
    "papermill": {
     "duration": 0.020946,
     "end_time": "2023-04-28T11:43:29.230497",
     "exception": false,
     "start_time": "2023-04-28T11:43:29.209551",
     "status": "completed"
    },
    "tags": []
   },
   "outputs": [],
   "source": [
    "# This Python 3 environment comes with many helpful analytics libraries installed\n",
    "# It is defined by the kaggle/python Docker image: https://github.com/kaggle/docker-python\n",
    "# For example, here's several helpful packages to load\n",
    "\n",
    "import numpy as np # linear algebra\n",
    "import pandas as pd # data processing, CSV file I/O (e.g. pd.read_csv)\n",
    "\n",
    "# Input data files are available in the read-only \"../input/\" directory\n",
    "# For example, running this (by clicking run or pressing Shift+Enter) will list all files under the input directory\n",
    "\n",
    "import os\n",
    "for dirname, _, filenames in os.walk('/kaggle/input'):\n",
    "    for filename in filenames:\n",
    "        print(os.path.join(dirname, filename))\n",
    "\n",
    "# You can write up to 20GB to the current directory (/kaggle/working/) that gets preserved as output when you create a version using \"Save & Run All\" \n",
    "# You can also write temporary files to /kaggle/temp/, but they won't be saved outside of the current session"
   ]
  },
  {
   "cell_type": "code",
   "execution_count": 2,
   "id": "69d33803",
   "metadata": {
    "execution": {
     "iopub.execute_input": "2023-04-28T11:43:29.238709Z",
     "iopub.status.busy": "2023-04-28T11:43:29.238445Z",
     "iopub.status.idle": "2023-04-28T11:43:31.773182Z",
     "shell.execute_reply": "2023-04-28T11:43:31.772139Z"
    },
    "papermill": {
     "duration": 2.541703,
     "end_time": "2023-04-28T11:43:31.775839",
     "exception": false,
     "start_time": "2023-04-28T11:43:29.234136",
     "status": "completed"
    },
    "tags": []
   },
   "outputs": [],
   "source": [
    "import torch\n",
    "from torch.utils.data import DataLoader,random_split\n",
    "from torchvision.datasets import MNIST\n",
    "from torchvision import transforms as tfr\n",
    "import matplotlib.pyplot as plt\n",
    "import pandas as pd\n"
   ]
  },
  {
   "cell_type": "code",
   "execution_count": 3,
   "id": "9bced29d",
   "metadata": {
    "execution": {
     "iopub.execute_input": "2023-04-28T11:43:31.786482Z",
     "iopub.status.busy": "2023-04-28T11:43:31.785485Z",
     "iopub.status.idle": "2023-04-28T11:43:32.702374Z",
     "shell.execute_reply": "2023-04-28T11:43:32.701293Z"
    },
    "papermill": {
     "duration": 0.924924,
     "end_time": "2023-04-28T11:43:32.705402",
     "exception": false,
     "start_time": "2023-04-28T11:43:31.780478",
     "status": "completed"
    },
    "tags": []
   },
   "outputs": [
    {
     "name": "stdout",
     "output_type": "stream",
     "text": [
      "Downloading http://yann.lecun.com/exdb/mnist/train-images-idx3-ubyte.gz\n",
      "Downloading http://yann.lecun.com/exdb/mnist/train-images-idx3-ubyte.gz to data/MNIST/raw/train-images-idx3-ubyte.gz\n"
     ]
    },
    {
     "data": {
      "application/vnd.jupyter.widget-view+json": {
       "model_id": "09598b4912224bdf8514bebe3278070b",
       "version_major": 2,
       "version_minor": 0
      },
      "text/plain": [
       "  0%|          | 0/9912422 [00:00<?, ?it/s]"
      ]
     },
     "metadata": {},
     "output_type": "display_data"
    },
    {
     "name": "stdout",
     "output_type": "stream",
     "text": [
      "Extracting data/MNIST/raw/train-images-idx3-ubyte.gz to data/MNIST/raw\n",
      "\n",
      "Downloading http://yann.lecun.com/exdb/mnist/train-labels-idx1-ubyte.gz\n",
      "Downloading http://yann.lecun.com/exdb/mnist/train-labels-idx1-ubyte.gz to data/MNIST/raw/train-labels-idx1-ubyte.gz\n"
     ]
    },
    {
     "data": {
      "application/vnd.jupyter.widget-view+json": {
       "model_id": "0627652db4ec408c951510b1f4522303",
       "version_major": 2,
       "version_minor": 0
      },
      "text/plain": [
       "  0%|          | 0/28881 [00:00<?, ?it/s]"
      ]
     },
     "metadata": {},
     "output_type": "display_data"
    },
    {
     "name": "stdout",
     "output_type": "stream",
     "text": [
      "Extracting data/MNIST/raw/train-labels-idx1-ubyte.gz to data/MNIST/raw\n",
      "\n",
      "Downloading http://yann.lecun.com/exdb/mnist/t10k-images-idx3-ubyte.gz\n",
      "Downloading http://yann.lecun.com/exdb/mnist/t10k-images-idx3-ubyte.gz to data/MNIST/raw/t10k-images-idx3-ubyte.gz\n"
     ]
    },
    {
     "data": {
      "application/vnd.jupyter.widget-view+json": {
       "model_id": "15e43ca49a184b439d6cfbeaaad4b22c",
       "version_major": 2,
       "version_minor": 0
      },
      "text/plain": [
       "  0%|          | 0/1648877 [00:00<?, ?it/s]"
      ]
     },
     "metadata": {},
     "output_type": "display_data"
    },
    {
     "name": "stdout",
     "output_type": "stream",
     "text": [
      "Extracting data/MNIST/raw/t10k-images-idx3-ubyte.gz to data/MNIST/raw\n",
      "\n",
      "Downloading http://yann.lecun.com/exdb/mnist/t10k-labels-idx1-ubyte.gz\n",
      "Downloading http://yann.lecun.com/exdb/mnist/t10k-labels-idx1-ubyte.gz to data/MNIST/raw/t10k-labels-idx1-ubyte.gz\n"
     ]
    },
    {
     "data": {
      "application/vnd.jupyter.widget-view+json": {
       "model_id": "f3760f26f6e24cce8c19fa357336acaa",
       "version_major": 2,
       "version_minor": 0
      },
      "text/plain": [
       "  0%|          | 0/4542 [00:00<?, ?it/s]"
      ]
     },
     "metadata": {},
     "output_type": "display_data"
    },
    {
     "name": "stdout",
     "output_type": "stream",
     "text": [
      "Extracting data/MNIST/raw/t10k-labels-idx1-ubyte.gz to data/MNIST/raw\n",
      "\n"
     ]
    }
   ],
   "source": [
    "ts = tfr.Compose([\n",
    "    tfr.ToTensor(),\n",
    "    tfr.Normalize(0.5,0.5),\n",
    "    tfr.Resize((64,64))\n",
    "    \n",
    "])\n",
    "root ='data'\n",
    "ds = MNIST(root, train= True, download=True,transform=ts)\n",
    "test_df = MNIST(root, train=False, download=True, transform=ts)"
   ]
  },
  {
   "cell_type": "code",
   "execution_count": 4,
   "id": "21064168",
   "metadata": {
    "execution": {
     "iopub.execute_input": "2023-04-28T11:43:32.716712Z",
     "iopub.status.busy": "2023-04-28T11:43:32.715843Z",
     "iopub.status.idle": "2023-04-28T11:43:32.777187Z",
     "shell.execute_reply": "2023-04-28T11:43:32.776030Z"
    },
    "papermill": {
     "duration": 0.069766,
     "end_time": "2023-04-28T11:43:32.779900",
     "exception": false,
     "start_time": "2023-04-28T11:43:32.710134",
     "status": "completed"
    },
    "tags": []
   },
   "outputs": [
    {
     "data": {
      "text/plain": [
       "torch.Size([1, 64, 64])"
      ]
     },
     "execution_count": 4,
     "metadata": {},
     "output_type": "execute_result"
    }
   ],
   "source": [
    "ds[0][0].shape"
   ]
  },
  {
   "cell_type": "code",
   "execution_count": 5,
   "id": "dcd61bc1",
   "metadata": {
    "execution": {
     "iopub.execute_input": "2023-04-28T11:43:32.790940Z",
     "iopub.status.busy": "2023-04-28T11:43:32.789889Z",
     "iopub.status.idle": "2023-04-28T11:43:32.805261Z",
     "shell.execute_reply": "2023-04-28T11:43:32.804187Z"
    },
    "papermill": {
     "duration": 0.022829,
     "end_time": "2023-04-28T11:43:32.807364",
     "exception": false,
     "start_time": "2023-04-28T11:43:32.784535",
     "status": "completed"
    },
    "tags": []
   },
   "outputs": [
    {
     "name": "stdout",
     "output_type": "stream",
     "text": [
      "Train datasetda 54000 rasm bor.\n",
      "Validation datasetda 6000 rasm bor.\n",
      "Test datasetda 10000 rasm bor.\n"
     ]
    }
   ],
   "source": [
    "tr_length = int(len(ds) * 0.9)\n",
    "tr_ds, val_ds = random_split(ds, [tr_length, len(ds) - tr_length])\n",
    "print(f\"Train datasetda {len(tr_ds)} rasm bor.\")\n",
    "print(f\"Validation datasetda {len(val_ds)} rasm bor.\")\n",
    "print(f\"Test datasetda {len(test_df)} rasm bor.\")"
   ]
  },
  {
   "cell_type": "code",
   "execution_count": 6,
   "id": "a776420b",
   "metadata": {
    "execution": {
     "iopub.execute_input": "2023-04-28T11:43:32.818062Z",
     "iopub.status.busy": "2023-04-28T11:43:32.817247Z",
     "iopub.status.idle": "2023-04-28T11:43:32.826515Z",
     "shell.execute_reply": "2023-04-28T11:43:32.825328Z"
    },
    "papermill": {
     "duration": 0.016778,
     "end_time": "2023-04-28T11:43:32.828607",
     "exception": false,
     "start_time": "2023-04-28T11:43:32.811829",
     "status": "completed"
    },
    "tags": []
   },
   "outputs": [
    {
     "name": "stderr",
     "output_type": "stream",
     "text": [
      "/opt/conda/lib/python3.7/site-packages/torch/utils/data/dataloader.py:557: UserWarning: This DataLoader will create 4 worker processes in total. Our suggested max number of worker in current system is 2, which is smaller than what this DataLoader is going to create. Please be aware that excessive worker creation might get DataLoader running slow or even freeze, lower the worker number to avoid potential slowness/freeze if necessary.\n",
      "  cpuset_checked))\n"
     ]
    }
   ],
   "source": [
    "bs = 128\n",
    "tr_dl = DataLoader(dataset = tr_ds, batch_size = bs, shuffle = True, drop_last = False, num_workers = 4)\n",
    "val_dl = DataLoader(dataset = val_ds, batch_size = bs, shuffle = False, drop_last = False, num_workers = 4)\n",
    "test_dl = DataLoader(dataset = test_df, batch_size = bs, shuffle = False, drop_last = False, num_workers = 4)"
   ]
  },
  {
   "cell_type": "code",
   "execution_count": 7,
   "id": "2961e8c0",
   "metadata": {
    "execution": {
     "iopub.execute_input": "2023-04-28T11:43:32.839388Z",
     "iopub.status.busy": "2023-04-28T11:43:32.838543Z",
     "iopub.status.idle": "2023-04-28T11:43:32.844583Z",
     "shell.execute_reply": "2023-04-28T11:43:32.843482Z"
    },
    "papermill": {
     "duration": 0.013439,
     "end_time": "2023-04-28T11:43:32.846662",
     "exception": false,
     "start_time": "2023-04-28T11:43:32.833223",
     "status": "completed"
    },
    "tags": []
   },
   "outputs": [
    {
     "name": "stdout",
     "output_type": "stream",
     "text": [
      "Train dataloaderda 422 ta batch bor.\n",
      "Validation dataloaderda 47 ta batch bor.\n",
      "Test dataloaderda 79 ta batch bor.\n"
     ]
    }
   ],
   "source": [
    "print(f\"Train dataloaderda {len(tr_dl)} ta batch bor.\") \n",
    "print(f\"Validation dataloaderda {len(val_dl)} ta batch bor.\")\n",
    "print(f\"Test dataloaderda {len(test_dl)} ta batch bor.\") "
   ]
  },
  {
   "cell_type": "code",
   "execution_count": 8,
   "id": "c99a01f1",
   "metadata": {
    "execution": {
     "iopub.execute_input": "2023-04-28T11:43:32.857311Z",
     "iopub.status.busy": "2023-04-28T11:43:32.856473Z",
     "iopub.status.idle": "2023-04-28T11:43:32.863782Z",
     "shell.execute_reply": "2023-04-28T11:43:32.862440Z"
    },
    "papermill": {
     "duration": 0.014727,
     "end_time": "2023-04-28T11:43:32.865865",
     "exception": false,
     "start_time": "2023-04-28T11:43:32.851138",
     "status": "completed"
    },
    "tags": []
   },
   "outputs": [
    {
     "name": "stdout",
     "output_type": "stream",
     "text": [
      "768\n"
     ]
    }
   ],
   "source": [
    "im_size = 64\n",
    "in_chs = 1\n",
    "out_chs = 8\n",
    "ks = 3\n",
    "pad = 1 \n",
    "pool_size = 2\n",
    "num_classes = 10\n",
    "\n",
    "in_fs = (im_size // 16) * (im_size // 16)* out_chs * 6\n",
    "print(in_fs)\n"
   ]
  },
  {
   "cell_type": "code",
   "execution_count": 9,
   "id": "c74212c1",
   "metadata": {
    "execution": {
     "iopub.execute_input": "2023-04-28T11:43:32.876387Z",
     "iopub.status.busy": "2023-04-28T11:43:32.876115Z",
     "iopub.status.idle": "2023-04-28T11:43:32.904916Z",
     "shell.execute_reply": "2023-04-28T11:43:32.903835Z"
    },
    "papermill": {
     "duration": 0.0368,
     "end_time": "2023-04-28T11:43:32.907268",
     "exception": false,
     "start_time": "2023-04-28T11:43:32.870468",
     "status": "completed"
    },
    "tags": []
   },
   "outputs": [
    {
     "data": {
      "text/plain": [
       "Model(\n",
       "  (conv_1): Conv2d(1, 8, kernel_size=(3, 3), stride=(1, 1), padding=(1, 1))\n",
       "  (act_1): ReLU()\n",
       "  (pool_1): MaxPool2d(kernel_size=2, stride=2, padding=0, dilation=1, ceil_mode=False)\n",
       "  (conv_2): Conv2d(8, 16, kernel_size=(3, 3), stride=(1, 1), padding=(1, 1))\n",
       "  (act_2): ReLU()\n",
       "  (pool_2): MaxPool2d(kernel_size=2, stride=2, padding=0, dilation=1, ceil_mode=False)\n",
       "  (conv_3): Conv2d(16, 32, kernel_size=(3, 3), stride=(1, 1), padding=(1, 1))\n",
       "  (act_3): ReLU()\n",
       "  (pool_3): MaxPool2d(kernel_size=2, stride=2, padding=0, dilation=1, ceil_mode=False)\n",
       "  (conv_4): Conv2d(32, 48, kernel_size=(3, 3), stride=(1, 1), padding=(1, 1))\n",
       "  (pool_4): MaxPool2d(kernel_size=2, stride=2, padding=0, dilation=1, ceil_mode=False)\n",
       "  (act_4): ReLU()\n",
       "  (fc): Linear(in_features=768, out_features=384, bias=True)\n",
       "  (fc1): Linear(in_features=384, out_features=192, bias=True)\n",
       "  (out): Linear(in_features=192, out_features=10, bias=True)\n",
       "  (softmax): Softmax(dim=1)\n",
       ")"
      ]
     },
     "execution_count": 9,
     "metadata": {},
     "output_type": "execute_result"
    }
   ],
   "source": [
    "class Model(torch.nn.Module):\n",
    "    \n",
    "    def __init__(self, in_chs, out_chs, in_fs, ks, pad, ps, n_cls): \n",
    "        super(Model, self).__init__()\n",
    "        \n",
    "        self.in_chs, self.out_chs, self.ks, self.pad, self.ps, self.n_cls = in_chs, out_chs, pad, ks, ps, n_cls\n",
    "        \n",
    "        self.conv_1 = torch.nn.Conv2d(in_channels =in_chs, out_channels =out_chs, kernel_size = ks, padding = pad)\n",
    "        self.act_1 = torch.nn.ReLU()\n",
    "        self.pool_1 = torch.nn.MaxPool2d(kernel_size = ps, stride = ps)\n",
    "        \n",
    "        self.conv_2 = torch.nn.Conv2d(in_channels =out_chs, out_channels =out_chs*2, kernel_size = ks, padding = pad)\n",
    "        self.act_2 = torch.nn.ReLU()\n",
    "        self.pool_2 = torch.nn.MaxPool2d(kernel_size=ps, stride=ps)\n",
    "        \n",
    "        self.conv_3 = torch.nn.Conv2d(in_channels=out_chs*2, out_channels=out_chs*4, kernel_size=ks, padding=pad)\n",
    "        self.act_3 = torch.nn.ReLU()\n",
    "        self.pool_3 = torch.nn.MaxPool2d(kernel_size=ps, stride=ps)\n",
    "        \n",
    "        self.conv_4 = torch.nn.Conv2d(in_channels=out_chs*4, out_channels=out_chs*6, kernel_size=ks, padding=pad)\n",
    "        self.pool_4 = torch.nn.MaxPool2d(kernel_size=ps, stride=ps) \n",
    "        self.act_4 = torch.nn.ReLU()\n",
    "        \n",
    "        \n",
    "        self.fc = torch.nn.Linear(in_features = in_fs, out_features = in_fs//2)\n",
    "        self.fc1 = torch.nn.Linear(in_features=in_fs//2, out_features=in_fs//4)\n",
    "        self.out = torch.nn.Linear(in_features = in_fs//4, out_features = n_cls)\n",
    "        self.softmax = torch.nn.Softmax(dim = 1)\n",
    "        \n",
    "    def forward(self, inp):\n",
    "        \n",
    "        conv_1 = self.conv_1(inp)\n",
    "        act_1 = self.act_1(conv_1)\n",
    "        out_1 = self.pool_1(act_1)\n",
    "        \n",
    "        conv_2 = self.conv_2(out_1)\n",
    "        act_2 = self.act_2(conv_2)\n",
    "        out_2 = self.pool_2(act_2)\n",
    "        \n",
    "        conv_3 = self.conv_3(out_2)\n",
    "        act_3 = self.act_3(conv_3)\n",
    "        out_3 = self.pool_3(act_3)\n",
    "        \n",
    "        conv_4 = self.conv_4(out_3)\n",
    "        act_4 = self.act_4(conv_4)\n",
    "        out_4 =self.pool_4(act_4)\n",
    "          \n",
    "        \n",
    "        bs = inp.shape[0]\n",
    "        flat = out_4.view(bs, -1)\n",
    "        #fc_1 = self.fc(flat)\n",
    "        #fc_2 = self.fc1(fc_1)\n",
    "        #out =self.softmax(fc_2)\n",
    "        \n",
    "        \n",
    "        fc_1 = self.act_4(self.fc(flat))\n",
    "        fc_2 = self.act_4(self.fc1(fc_1))\n",
    "        out = self.softmax(self.out(fc_2))\n",
    "        \n",
    "        return self.softmax(out)\n",
    "    \n",
    "m = Model(in_chs = in_chs, out_chs = out_chs, in_fs = in_fs, ks = ks, pad = pad, ps = pool_size, n_cls = num_classes)\n",
    "m"
   ]
  },
  {
   "cell_type": "code",
   "execution_count": 10,
   "id": "b010e587",
   "metadata": {
    "execution": {
     "iopub.execute_input": "2023-04-28T11:43:32.918354Z",
     "iopub.status.busy": "2023-04-28T11:43:32.917530Z",
     "iopub.status.idle": "2023-04-28T11:43:33.007020Z",
     "shell.execute_reply": "2023-04-28T11:43:33.006047Z"
    },
    "papermill": {
     "duration": 0.097467,
     "end_time": "2023-04-28T11:43:33.009426",
     "exception": false,
     "start_time": "2023-04-28T11:43:32.911959",
     "status": "completed"
    },
    "tags": []
   },
   "outputs": [
    {
     "data": {
      "text/plain": [
       "tensor([[0.1007, 0.0994, 0.1005, 0.1004, 0.1002, 0.0995, 0.0994, 0.0994, 0.1004,\n",
       "         0.1000]], grad_fn=<SoftmaxBackward0>)"
      ]
     },
     "execution_count": 10,
     "metadata": {},
     "output_type": "execute_result"
    }
   ],
   "source": [
    "m = Model(in_chs = in_chs, out_chs = out_chs, in_fs = in_fs, ks = ks, pad = pad, ps = pool_size, n_cls = num_classes)\n",
    "\n",
    "x = torch.rand(1, in_chs, im_size, im_size)\n",
    "m(x)"
   ]
  },
  {
   "cell_type": "code",
   "execution_count": 11,
   "id": "d8951430",
   "metadata": {
    "execution": {
     "iopub.execute_input": "2023-04-28T11:43:33.021244Z",
     "iopub.status.busy": "2023-04-28T11:43:33.020411Z",
     "iopub.status.idle": "2023-04-28T11:43:33.025695Z",
     "shell.execute_reply": "2023-04-28T11:43:33.024667Z"
    },
    "papermill": {
     "duration": 0.013443,
     "end_time": "2023-04-28T11:43:33.027763",
     "exception": false,
     "start_time": "2023-04-28T11:43:33.014320",
     "status": "completed"
    },
    "tags": []
   },
   "outputs": [],
   "source": [
    "def train_setup(m): return m.to(\"cuda\"), 10, \"cuda\", torch.nn.CrossEntropyLoss(), torch.optim.Adam(params = m.parameters(), lr = 0.001)"
   ]
  },
  {
   "cell_type": "code",
   "execution_count": 12,
   "id": "4d660e17",
   "metadata": {
    "execution": {
     "iopub.execute_input": "2023-04-28T11:43:33.039458Z",
     "iopub.status.busy": "2023-04-28T11:43:33.038495Z",
     "iopub.status.idle": "2023-04-28T11:43:35.643623Z",
     "shell.execute_reply": "2023-04-28T11:43:35.642582Z"
    },
    "papermill": {
     "duration": 2.613534,
     "end_time": "2023-04-28T11:43:35.646353",
     "exception": false,
     "start_time": "2023-04-28T11:43:33.032819",
     "status": "completed"
    },
    "tags": []
   },
   "outputs": [],
   "source": [
    "m, epochs, device, loss_fn, optimizer = train_setup(m)"
   ]
  },
  {
   "cell_type": "code",
   "execution_count": 13,
   "id": "62aef589",
   "metadata": {
    "execution": {
     "iopub.execute_input": "2023-04-28T11:43:35.658688Z",
     "iopub.status.busy": "2023-04-28T11:43:35.657719Z",
     "iopub.status.idle": "2023-04-28T11:46:56.314074Z",
     "shell.execute_reply": "2023-04-28T11:46:56.312699Z"
    },
    "papermill": {
     "duration": 200.665128,
     "end_time": "2023-04-28T11:46:56.316557",
     "exception": false,
     "start_time": "2023-04-28T11:43:35.651429",
     "status": "completed"
    },
    "tags": []
   },
   "outputs": [
    {
     "name": "stdout",
     "output_type": "stream",
     "text": [
      "Train boshlandi...\n"
     ]
    },
    {
     "name": "stderr",
     "output_type": "stream",
     "text": [
      "422it [00:21, 20.04it/s]"
     ]
    },
    {
     "name": "stdout",
     "output_type": "stream",
     "text": [
      "Epoch 1 train jarayoni tugadi\n",
      "Epoch 1 dagi train loss -> 2.240\n",
      "Epoch 1 dagi train accuracy -> 0.539\n"
     ]
    },
    {
     "name": "stderr",
     "output_type": "stream",
     "text": [
      "\n"
     ]
    },
    {
     "name": "stdout",
     "output_type": "stream",
     "text": [
      "Epoch 1 validation jarayoni tugadi\n",
      "Epoch 1 dagi validation loss -> 2.217\n",
      "Epoch 1 dagi validation accuracy -> 0.689\n"
     ]
    },
    {
     "name": "stderr",
     "output_type": "stream",
     "text": [
      "422it [00:17, 24.37it/s]"
     ]
    },
    {
     "name": "stdout",
     "output_type": "stream",
     "text": [
      "Epoch 2 train jarayoni tugadi\n",
      "Epoch 2 dagi train loss -> 2.202\n",
      "Epoch 2 dagi train accuracy -> 0.794\n"
     ]
    },
    {
     "name": "stderr",
     "output_type": "stream",
     "text": [
      "\n"
     ]
    },
    {
     "name": "stdout",
     "output_type": "stream",
     "text": [
      "Epoch 2 validation jarayoni tugadi\n",
      "Epoch 2 dagi validation loss -> 2.190\n",
      "Epoch 2 dagi validation accuracy -> 0.877\n"
     ]
    },
    {
     "name": "stderr",
     "output_type": "stream",
     "text": [
      "422it [00:16, 24.95it/s]"
     ]
    },
    {
     "name": "stdout",
     "output_type": "stream",
     "text": [
      "Epoch 3 train jarayoni tugadi\n",
      "Epoch 3 dagi train loss -> 2.189\n",
      "Epoch 3 dagi train accuracy -> 0.882\n"
     ]
    },
    {
     "name": "stderr",
     "output_type": "stream",
     "text": [
      "\n"
     ]
    },
    {
     "name": "stdout",
     "output_type": "stream",
     "text": [
      "Epoch 3 validation jarayoni tugadi\n",
      "Epoch 3 dagi validation loss -> 2.188\n",
      "Epoch 3 dagi validation accuracy -> 0.890\n"
     ]
    },
    {
     "name": "stderr",
     "output_type": "stream",
     "text": [
      "422it [00:17, 23.93it/s]"
     ]
    },
    {
     "name": "stdout",
     "output_type": "stream",
     "text": [
      "Epoch 4 train jarayoni tugadi\n",
      "Epoch 4 dagi train loss -> 2.188\n",
      "Epoch 4 dagi train accuracy -> 0.889\n"
     ]
    },
    {
     "name": "stderr",
     "output_type": "stream",
     "text": [
      "\n"
     ]
    },
    {
     "name": "stdout",
     "output_type": "stream",
     "text": [
      "Epoch 4 validation jarayoni tugadi\n",
      "Epoch 4 dagi validation loss -> 2.188\n",
      "Epoch 4 dagi validation accuracy -> 0.888\n"
     ]
    },
    {
     "name": "stderr",
     "output_type": "stream",
     "text": [
      "422it [00:16, 25.04it/s]"
     ]
    },
    {
     "name": "stdout",
     "output_type": "stream",
     "text": [
      "Epoch 5 train jarayoni tugadi\n",
      "Epoch 5 dagi train loss -> 2.187\n",
      "Epoch 5 dagi train accuracy -> 0.897\n"
     ]
    },
    {
     "name": "stderr",
     "output_type": "stream",
     "text": [
      "\n"
     ]
    },
    {
     "name": "stdout",
     "output_type": "stream",
     "text": [
      "Epoch 5 validation jarayoni tugadi\n",
      "Epoch 5 dagi validation loss -> 2.176\n",
      "Epoch 5 dagi validation accuracy -> 0.971\n"
     ]
    },
    {
     "name": "stderr",
     "output_type": "stream",
     "text": [
      "422it [00:17, 23.93it/s]"
     ]
    },
    {
     "name": "stdout",
     "output_type": "stream",
     "text": [
      "Epoch 6 train jarayoni tugadi\n",
      "Epoch 6 dagi train loss -> 2.175\n",
      "Epoch 6 dagi train accuracy -> 0.975\n"
     ]
    },
    {
     "name": "stderr",
     "output_type": "stream",
     "text": [
      "\n"
     ]
    },
    {
     "name": "stdout",
     "output_type": "stream",
     "text": [
      "Epoch 6 validation jarayoni tugadi\n",
      "Epoch 6 dagi validation loss -> 2.176\n",
      "Epoch 6 dagi validation accuracy -> 0.970\n"
     ]
    },
    {
     "name": "stderr",
     "output_type": "stream",
     "text": [
      "422it [00:18, 22.72it/s]"
     ]
    },
    {
     "name": "stdout",
     "output_type": "stream",
     "text": [
      "Epoch 7 train jarayoni tugadi\n",
      "Epoch 7 dagi train loss -> 2.175\n",
      "Epoch 7 dagi train accuracy -> 0.978\n"
     ]
    },
    {
     "name": "stderr",
     "output_type": "stream",
     "text": [
      "\n"
     ]
    },
    {
     "name": "stdout",
     "output_type": "stream",
     "text": [
      "Epoch 7 validation jarayoni tugadi\n",
      "Epoch 7 dagi validation loss -> 2.175\n",
      "Epoch 7 dagi validation accuracy -> 0.976\n"
     ]
    },
    {
     "name": "stderr",
     "output_type": "stream",
     "text": [
      "422it [00:17, 23.46it/s]"
     ]
    },
    {
     "name": "stdout",
     "output_type": "stream",
     "text": [
      "Epoch 8 train jarayoni tugadi\n",
      "Epoch 8 dagi train loss -> 2.175\n",
      "Epoch 8 dagi train accuracy -> 0.978\n"
     ]
    },
    {
     "name": "stderr",
     "output_type": "stream",
     "text": [
      "\n"
     ]
    },
    {
     "name": "stdout",
     "output_type": "stream",
     "text": [
      "Epoch 8 validation jarayoni tugadi\n",
      "Epoch 8 dagi validation loss -> 2.176\n",
      "Epoch 8 dagi validation accuracy -> 0.972\n"
     ]
    },
    {
     "name": "stderr",
     "output_type": "stream",
     "text": [
      "422it [00:17, 23.47it/s]"
     ]
    },
    {
     "name": "stdout",
     "output_type": "stream",
     "text": [
      "Epoch 9 train jarayoni tugadi\n",
      "Epoch 9 dagi train loss -> 2.175\n",
      "Epoch 9 dagi train accuracy -> 0.979\n"
     ]
    },
    {
     "name": "stderr",
     "output_type": "stream",
     "text": [
      "\n"
     ]
    },
    {
     "name": "stdout",
     "output_type": "stream",
     "text": [
      "Epoch 9 validation jarayoni tugadi\n",
      "Epoch 9 dagi validation loss -> 2.174\n",
      "Epoch 9 dagi validation accuracy -> 0.984\n"
     ]
    },
    {
     "name": "stderr",
     "output_type": "stream",
     "text": [
      "422it [00:17, 24.32it/s]"
     ]
    },
    {
     "name": "stdout",
     "output_type": "stream",
     "text": [
      "Epoch 10 train jarayoni tugadi\n",
      "Epoch 10 dagi train loss -> 2.174\n",
      "Epoch 10 dagi train accuracy -> 0.981\n"
     ]
    },
    {
     "name": "stderr",
     "output_type": "stream",
     "text": [
      "\n"
     ]
    },
    {
     "name": "stdout",
     "output_type": "stream",
     "text": [
      "Epoch 10 validation jarayoni tugadi\n",
      "Epoch 10 dagi validation loss -> 2.175\n",
      "Epoch 10 dagi validation accuracy -> 0.980\n"
     ]
    }
   ],
   "source": [
    "from tqdm import tqdm\n",
    "\n",
    "print(\"Train boshlandi...\")\n",
    "best_acc = 0\n",
    "for epoch in range(epochs):\n",
    "    \n",
    "    epoch_loss, epoch_acc, total = 0, 0, 0\n",
    "    for idx, batch in tqdm(enumerate(tr_dl)):\n",
    "        ims, gts = batch\n",
    "        ims, gts = ims.to(device), gts.to(device)\n",
    "        \n",
    "        # print(ims.shape)\n",
    "        # print(gts.shape)\n",
    "        total += ims.shape[0]\n",
    "        \n",
    "        preds = m(ims)\n",
    "        _, pred_cls = torch.max(preds.data, dim = 1)\n",
    "        # print(pred_cls)\n",
    "        # print(gts)\n",
    "        loss = loss_fn(preds, gts)\n",
    "        # loss = loss_fn(preds, gts.unsqueeze(1))\n",
    "        \n",
    "        epoch_acc += (pred_cls == gts).sum().item()\n",
    "        epoch_loss += loss.item()\n",
    "        \n",
    "        optimizer.zero_grad()\n",
    "        loss.backward()\n",
    "        optimizer.step()\n",
    "    \n",
    "    tr_loss = epoch_loss / len(tr_dl)\n",
    "    print(f\"Epoch {epoch + 1} train jarayoni tugadi\")\n",
    "    print(f\"Epoch {epoch + 1} dagi train loss -> {(tr_loss):.3f}\")\n",
    "    print(f\"Epoch {epoch + 1} dagi train accuracy -> {(epoch_acc / total):.3f}\")\n",
    "    \n",
    "    m.eval()\n",
    "    with torch.no_grad():\n",
    "        val_epoch_loss, val_epoch_acc, val_total = 0, 0, 0\n",
    "        for idx, batch in enumerate(val_dl):\n",
    "            ims, gts = batch\n",
    "            ims, gts = ims.to(device), gts.to(device)\n",
    "            val_total += ims.shape[0]\n",
    "\n",
    "            preds = m(ims)\n",
    "            loss = loss_fn(preds, gts)\n",
    "            _, pred_cls = torch.max(preds.data, dim = 1)\n",
    "            val_epoch_acc += (pred_cls == gts).sum().item()\n",
    "            val_epoch_loss += loss.item()\n",
    "        \n",
    "        val_acc = val_epoch_acc / val_total\n",
    "        val_loss = val_epoch_loss / len(val_dl)\n",
    "        \n",
    "        print(f\"Epoch {epoch + 1} validation jarayoni tugadi\")\n",
    "        print(f\"Epoch {epoch + 1} dagi validation loss -> {(val_loss):.3f}\")\n",
    "        print(f\"Epoch {epoch + 1} dagi validation accuracy -> {val_acc:.3f}\")\n",
    "        \n",
    "        \n",
    "        if val_acc > best_acc:\n",
    "            os.makedirs(\"saved_models\", exist_ok=True)\n",
    "            best_acc = val_acc\n",
    "            torch.save(m.state_dict(), f\"saved_models/cifar_best_model_{val_acc:.3f}.pth\")        "
   ]
  },
  {
   "cell_type": "code",
   "execution_count": null,
   "id": "c6a640e4",
   "metadata": {
    "papermill": {
     "duration": 0.062834,
     "end_time": "2023-04-28T11:46:56.442181",
     "exception": false,
     "start_time": "2023-04-28T11:46:56.379347",
     "status": "completed"
    },
    "tags": []
   },
   "outputs": [],
   "source": []
  },
  {
   "cell_type": "code",
   "execution_count": null,
   "id": "c5bfbccf",
   "metadata": {
    "papermill": {
     "duration": 0.06241,
     "end_time": "2023-04-28T11:46:56.566981",
     "exception": false,
     "start_time": "2023-04-28T11:46:56.504571",
     "status": "completed"
    },
    "tags": []
   },
   "outputs": [],
   "source": []
  }
 ],
 "metadata": {
  "kernelspec": {
   "display_name": "Python 3",
   "language": "python",
   "name": "python3"
  },
  "language_info": {
   "codemirror_mode": {
    "name": "ipython",
    "version": 3
   },
   "file_extension": ".py",
   "mimetype": "text/x-python",
   "name": "python",
   "nbconvert_exporter": "python",
   "pygments_lexer": "ipython3",
   "version": "3.7.12"
  },
  "papermill": {
   "default_parameters": {},
   "duration": 218.918937,
   "end_time": "2023-04-28T11:46:59.187316",
   "environment_variables": {},
   "exception": null,
   "input_path": "__notebook__.ipynb",
   "output_path": "__notebook__.ipynb",
   "parameters": {},
   "start_time": "2023-04-28T11:43:20.268379",
   "version": "2.4.0"
  },
  "widgets": {
   "application/vnd.jupyter.widget-state+json": {
    "state": {
     "02ae477f2c81496681e09f72f8d757bc": {
      "model_module": "@jupyter-widgets/base",
      "model_module_version": "1.2.0",
      "model_name": "LayoutModel",
      "state": {
       "_model_module": "@jupyter-widgets/base",
       "_model_module_version": "1.2.0",
       "_model_name": "LayoutModel",
       "_view_count": null,
       "_view_module": "@jupyter-widgets/base",
       "_view_module_version": "1.2.0",
       "_view_name": "LayoutView",
       "align_content": null,
       "align_items": null,
       "align_self": null,
       "border": null,
       "bottom": null,
       "display": null,
       "flex": null,
       "flex_flow": null,
       "grid_area": null,
       "grid_auto_columns": null,
       "grid_auto_flow": null,
       "grid_auto_rows": null,
       "grid_column": null,
       "grid_gap": null,
       "grid_row": null,
       "grid_template_areas": null,
       "grid_template_columns": null,
       "grid_template_rows": null,
       "height": null,
       "justify_content": null,
       "justify_items": null,
       "left": null,
       "margin": null,
       "max_height": null,
       "max_width": null,
       "min_height": null,
       "min_width": null,
       "object_fit": null,
       "object_position": null,
       "order": null,
       "overflow": null,
       "overflow_x": null,
       "overflow_y": null,
       "padding": null,
       "right": null,
       "top": null,
       "visibility": null,
       "width": null
      }
     },
     "0627652db4ec408c951510b1f4522303": {
      "model_module": "@jupyter-widgets/controls",
      "model_module_version": "1.5.0",
      "model_name": "HBoxModel",
      "state": {
       "_dom_classes": [],
       "_model_module": "@jupyter-widgets/controls",
       "_model_module_version": "1.5.0",
       "_model_name": "HBoxModel",
       "_view_count": null,
       "_view_module": "@jupyter-widgets/controls",
       "_view_module_version": "1.5.0",
       "_view_name": "HBoxView",
       "box_style": "",
       "children": [
        "IPY_MODEL_1b4f70de1ebf49929083f16109be39e0",
        "IPY_MODEL_5320bcae996a4d6db4ef464e9039b2a4",
        "IPY_MODEL_329a6913ec514d8da6ca7c2e24110496"
       ],
       "layout": "IPY_MODEL_5442d53a236d437a8b5deb1af1012b87"
      }
     },
     "06cb27eabd0a44e69130334808e1ab07": {
      "model_module": "@jupyter-widgets/controls",
      "model_module_version": "1.5.0",
      "model_name": "ProgressStyleModel",
      "state": {
       "_model_module": "@jupyter-widgets/controls",
       "_model_module_version": "1.5.0",
       "_model_name": "ProgressStyleModel",
       "_view_count": null,
       "_view_module": "@jupyter-widgets/base",
       "_view_module_version": "1.2.0",
       "_view_name": "StyleView",
       "bar_color": null,
       "description_width": ""
      }
     },
     "09598b4912224bdf8514bebe3278070b": {
      "model_module": "@jupyter-widgets/controls",
      "model_module_version": "1.5.0",
      "model_name": "HBoxModel",
      "state": {
       "_dom_classes": [],
       "_model_module": "@jupyter-widgets/controls",
       "_model_module_version": "1.5.0",
       "_model_name": "HBoxModel",
       "_view_count": null,
       "_view_module": "@jupyter-widgets/controls",
       "_view_module_version": "1.5.0",
       "_view_name": "HBoxView",
       "box_style": "",
       "children": [
        "IPY_MODEL_51991614f93b4e22a23d53a432a3d853",
        "IPY_MODEL_f672a56dbc7940ad8609c24aeae887f5",
        "IPY_MODEL_3e7746d761cf4733b17721799028d796"
       ],
       "layout": "IPY_MODEL_291702573fba4ea0a8856d2f3c5d04fd"
      }
     },
     "0f30de574568428ba37e1f107258742b": {
      "model_module": "@jupyter-widgets/controls",
      "model_module_version": "1.5.0",
      "model_name": "DescriptionStyleModel",
      "state": {
       "_model_module": "@jupyter-widgets/controls",
       "_model_module_version": "1.5.0",
       "_model_name": "DescriptionStyleModel",
       "_view_count": null,
       "_view_module": "@jupyter-widgets/base",
       "_view_module_version": "1.2.0",
       "_view_name": "StyleView",
       "description_width": ""
      }
     },
     "11f1e21a95fe458fa87466c9ec3b0794": {
      "model_module": "@jupyter-widgets/controls",
      "model_module_version": "1.5.0",
      "model_name": "DescriptionStyleModel",
      "state": {
       "_model_module": "@jupyter-widgets/controls",
       "_model_module_version": "1.5.0",
       "_model_name": "DescriptionStyleModel",
       "_view_count": null,
       "_view_module": "@jupyter-widgets/base",
       "_view_module_version": "1.2.0",
       "_view_name": "StyleView",
       "description_width": ""
      }
     },
     "15e43ca49a184b439d6cfbeaaad4b22c": {
      "model_module": "@jupyter-widgets/controls",
      "model_module_version": "1.5.0",
      "model_name": "HBoxModel",
      "state": {
       "_dom_classes": [],
       "_model_module": "@jupyter-widgets/controls",
       "_model_module_version": "1.5.0",
       "_model_name": "HBoxModel",
       "_view_count": null,
       "_view_module": "@jupyter-widgets/controls",
       "_view_module_version": "1.5.0",
       "_view_name": "HBoxView",
       "box_style": "",
       "children": [
        "IPY_MODEL_3033f18434304466aed58054e93dc477",
        "IPY_MODEL_3d0be8e4dfee467f8983050cada46f4c",
        "IPY_MODEL_95a0124eaaf946afa5b7b9faf3a1d7bf"
       ],
       "layout": "IPY_MODEL_789258bb8eab498b9833fa73aaf55580"
      }
     },
     "1ae782e98b14424ba6e995bd4a54248c": {
      "model_module": "@jupyter-widgets/controls",
      "model_module_version": "1.5.0",
      "model_name": "DescriptionStyleModel",
      "state": {
       "_model_module": "@jupyter-widgets/controls",
       "_model_module_version": "1.5.0",
       "_model_name": "DescriptionStyleModel",
       "_view_count": null,
       "_view_module": "@jupyter-widgets/base",
       "_view_module_version": "1.2.0",
       "_view_name": "StyleView",
       "description_width": ""
      }
     },
     "1b4f70de1ebf49929083f16109be39e0": {
      "model_module": "@jupyter-widgets/controls",
      "model_module_version": "1.5.0",
      "model_name": "HTMLModel",
      "state": {
       "_dom_classes": [],
       "_model_module": "@jupyter-widgets/controls",
       "_model_module_version": "1.5.0",
       "_model_name": "HTMLModel",
       "_view_count": null,
       "_view_module": "@jupyter-widgets/controls",
       "_view_module_version": "1.5.0",
       "_view_name": "HTMLView",
       "description": "",
       "description_tooltip": null,
       "layout": "IPY_MODEL_680526d12ff0400da75785e8d64e59d5",
       "placeholder": "​",
       "style": "IPY_MODEL_8ea5967b1b7a494580cf8fdd33e46e36",
       "value": "100%"
      }
     },
     "1edc0d23c1b842c1a5af6148529ee08c": {
      "model_module": "@jupyter-widgets/controls",
      "model_module_version": "1.5.0",
      "model_name": "ProgressStyleModel",
      "state": {
       "_model_module": "@jupyter-widgets/controls",
       "_model_module_version": "1.5.0",
       "_model_name": "ProgressStyleModel",
       "_view_count": null,
       "_view_module": "@jupyter-widgets/base",
       "_view_module_version": "1.2.0",
       "_view_name": "StyleView",
       "bar_color": null,
       "description_width": ""
      }
     },
     "291702573fba4ea0a8856d2f3c5d04fd": {
      "model_module": "@jupyter-widgets/base",
      "model_module_version": "1.2.0",
      "model_name": "LayoutModel",
      "state": {
       "_model_module": "@jupyter-widgets/base",
       "_model_module_version": "1.2.0",
       "_model_name": "LayoutModel",
       "_view_count": null,
       "_view_module": "@jupyter-widgets/base",
       "_view_module_version": "1.2.0",
       "_view_name": "LayoutView",
       "align_content": null,
       "align_items": null,
       "align_self": null,
       "border": null,
       "bottom": null,
       "display": null,
       "flex": null,
       "flex_flow": null,
       "grid_area": null,
       "grid_auto_columns": null,
       "grid_auto_flow": null,
       "grid_auto_rows": null,
       "grid_column": null,
       "grid_gap": null,
       "grid_row": null,
       "grid_template_areas": null,
       "grid_template_columns": null,
       "grid_template_rows": null,
       "height": null,
       "justify_content": null,
       "justify_items": null,
       "left": null,
       "margin": null,
       "max_height": null,
       "max_width": null,
       "min_height": null,
       "min_width": null,
       "object_fit": null,
       "object_position": null,
       "order": null,
       "overflow": null,
       "overflow_x": null,
       "overflow_y": null,
       "padding": null,
       "right": null,
       "top": null,
       "visibility": null,
       "width": null
      }
     },
     "3033f18434304466aed58054e93dc477": {
      "model_module": "@jupyter-widgets/controls",
      "model_module_version": "1.5.0",
      "model_name": "HTMLModel",
      "state": {
       "_dom_classes": [],
       "_model_module": "@jupyter-widgets/controls",
       "_model_module_version": "1.5.0",
       "_model_name": "HTMLModel",
       "_view_count": null,
       "_view_module": "@jupyter-widgets/controls",
       "_view_module_version": "1.5.0",
       "_view_name": "HTMLView",
       "description": "",
       "description_tooltip": null,
       "layout": "IPY_MODEL_49483d76c2864ae6a7693c13da3def0a",
       "placeholder": "​",
       "style": "IPY_MODEL_11f1e21a95fe458fa87466c9ec3b0794",
       "value": "100%"
      }
     },
     "329a6913ec514d8da6ca7c2e24110496": {
      "model_module": "@jupyter-widgets/controls",
      "model_module_version": "1.5.0",
      "model_name": "HTMLModel",
      "state": {
       "_dom_classes": [],
       "_model_module": "@jupyter-widgets/controls",
       "_model_module_version": "1.5.0",
       "_model_name": "HTMLModel",
       "_view_count": null,
       "_view_module": "@jupyter-widgets/controls",
       "_view_module_version": "1.5.0",
       "_view_name": "HTMLView",
       "description": "",
       "description_tooltip": null,
       "layout": "IPY_MODEL_4a42f26cb4644159abcff20d6f4c80b9",
       "placeholder": "​",
       "style": "IPY_MODEL_4b99f0aa5a724c1981a347406c980df8",
       "value": " 28881/28881 [00:00&lt;00:00, 2127090.80it/s]"
      }
     },
     "3d0be8e4dfee467f8983050cada46f4c": {
      "model_module": "@jupyter-widgets/controls",
      "model_module_version": "1.5.0",
      "model_name": "FloatProgressModel",
      "state": {
       "_dom_classes": [],
       "_model_module": "@jupyter-widgets/controls",
       "_model_module_version": "1.5.0",
       "_model_name": "FloatProgressModel",
       "_view_count": null,
       "_view_module": "@jupyter-widgets/controls",
       "_view_module_version": "1.5.0",
       "_view_name": "ProgressView",
       "bar_style": "success",
       "description": "",
       "description_tooltip": null,
       "layout": "IPY_MODEL_771529bce350430aa50b83c40baf8ceb",
       "max": 1648877.0,
       "min": 0.0,
       "orientation": "horizontal",
       "style": "IPY_MODEL_06cb27eabd0a44e69130334808e1ab07",
       "value": 1648877.0
      }
     },
     "3e7746d761cf4733b17721799028d796": {
      "model_module": "@jupyter-widgets/controls",
      "model_module_version": "1.5.0",
      "model_name": "HTMLModel",
      "state": {
       "_dom_classes": [],
       "_model_module": "@jupyter-widgets/controls",
       "_model_module_version": "1.5.0",
       "_model_name": "HTMLModel",
       "_view_count": null,
       "_view_module": "@jupyter-widgets/controls",
       "_view_module_version": "1.5.0",
       "_view_name": "HTMLView",
       "description": "",
       "description_tooltip": null,
       "layout": "IPY_MODEL_429a037f182844f09778d3b46f4237a6",
       "placeholder": "​",
       "style": "IPY_MODEL_c4be133a527b4917b7819fb89c97a73c",
       "value": " 9912422/9912422 [00:00&lt;00:00, 155678707.28it/s]"
      }
     },
     "429a037f182844f09778d3b46f4237a6": {
      "model_module": "@jupyter-widgets/base",
      "model_module_version": "1.2.0",
      "model_name": "LayoutModel",
      "state": {
       "_model_module": "@jupyter-widgets/base",
       "_model_module_version": "1.2.0",
       "_model_name": "LayoutModel",
       "_view_count": null,
       "_view_module": "@jupyter-widgets/base",
       "_view_module_version": "1.2.0",
       "_view_name": "LayoutView",
       "align_content": null,
       "align_items": null,
       "align_self": null,
       "border": null,
       "bottom": null,
       "display": null,
       "flex": null,
       "flex_flow": null,
       "grid_area": null,
       "grid_auto_columns": null,
       "grid_auto_flow": null,
       "grid_auto_rows": null,
       "grid_column": null,
       "grid_gap": null,
       "grid_row": null,
       "grid_template_areas": null,
       "grid_template_columns": null,
       "grid_template_rows": null,
       "height": null,
       "justify_content": null,
       "justify_items": null,
       "left": null,
       "margin": null,
       "max_height": null,
       "max_width": null,
       "min_height": null,
       "min_width": null,
       "object_fit": null,
       "object_position": null,
       "order": null,
       "overflow": null,
       "overflow_x": null,
       "overflow_y": null,
       "padding": null,
       "right": null,
       "top": null,
       "visibility": null,
       "width": null
      }
     },
     "4766c8a342b8466f94eb4baaf1eab20c": {
      "model_module": "@jupyter-widgets/controls",
      "model_module_version": "1.5.0",
      "model_name": "ProgressStyleModel",
      "state": {
       "_model_module": "@jupyter-widgets/controls",
       "_model_module_version": "1.5.0",
       "_model_name": "ProgressStyleModel",
       "_view_count": null,
       "_view_module": "@jupyter-widgets/base",
       "_view_module_version": "1.2.0",
       "_view_name": "StyleView",
       "bar_color": null,
       "description_width": ""
      }
     },
     "49483d76c2864ae6a7693c13da3def0a": {
      "model_module": "@jupyter-widgets/base",
      "model_module_version": "1.2.0",
      "model_name": "LayoutModel",
      "state": {
       "_model_module": "@jupyter-widgets/base",
       "_model_module_version": "1.2.0",
       "_model_name": "LayoutModel",
       "_view_count": null,
       "_view_module": "@jupyter-widgets/base",
       "_view_module_version": "1.2.0",
       "_view_name": "LayoutView",
       "align_content": null,
       "align_items": null,
       "align_self": null,
       "border": null,
       "bottom": null,
       "display": null,
       "flex": null,
       "flex_flow": null,
       "grid_area": null,
       "grid_auto_columns": null,
       "grid_auto_flow": null,
       "grid_auto_rows": null,
       "grid_column": null,
       "grid_gap": null,
       "grid_row": null,
       "grid_template_areas": null,
       "grid_template_columns": null,
       "grid_template_rows": null,
       "height": null,
       "justify_content": null,
       "justify_items": null,
       "left": null,
       "margin": null,
       "max_height": null,
       "max_width": null,
       "min_height": null,
       "min_width": null,
       "object_fit": null,
       "object_position": null,
       "order": null,
       "overflow": null,
       "overflow_x": null,
       "overflow_y": null,
       "padding": null,
       "right": null,
       "top": null,
       "visibility": null,
       "width": null
      }
     },
     "4a42f26cb4644159abcff20d6f4c80b9": {
      "model_module": "@jupyter-widgets/base",
      "model_module_version": "1.2.0",
      "model_name": "LayoutModel",
      "state": {
       "_model_module": "@jupyter-widgets/base",
       "_model_module_version": "1.2.0",
       "_model_name": "LayoutModel",
       "_view_count": null,
       "_view_module": "@jupyter-widgets/base",
       "_view_module_version": "1.2.0",
       "_view_name": "LayoutView",
       "align_content": null,
       "align_items": null,
       "align_self": null,
       "border": null,
       "bottom": null,
       "display": null,
       "flex": null,
       "flex_flow": null,
       "grid_area": null,
       "grid_auto_columns": null,
       "grid_auto_flow": null,
       "grid_auto_rows": null,
       "grid_column": null,
       "grid_gap": null,
       "grid_row": null,
       "grid_template_areas": null,
       "grid_template_columns": null,
       "grid_template_rows": null,
       "height": null,
       "justify_content": null,
       "justify_items": null,
       "left": null,
       "margin": null,
       "max_height": null,
       "max_width": null,
       "min_height": null,
       "min_width": null,
       "object_fit": null,
       "object_position": null,
       "order": null,
       "overflow": null,
       "overflow_x": null,
       "overflow_y": null,
       "padding": null,
       "right": null,
       "top": null,
       "visibility": null,
       "width": null
      }
     },
     "4b99f0aa5a724c1981a347406c980df8": {
      "model_module": "@jupyter-widgets/controls",
      "model_module_version": "1.5.0",
      "model_name": "DescriptionStyleModel",
      "state": {
       "_model_module": "@jupyter-widgets/controls",
       "_model_module_version": "1.5.0",
       "_model_name": "DescriptionStyleModel",
       "_view_count": null,
       "_view_module": "@jupyter-widgets/base",
       "_view_module_version": "1.2.0",
       "_view_name": "StyleView",
       "description_width": ""
      }
     },
     "4c63a5ea4d41464bbc5335bed3289c71": {
      "model_module": "@jupyter-widgets/base",
      "model_module_version": "1.2.0",
      "model_name": "LayoutModel",
      "state": {
       "_model_module": "@jupyter-widgets/base",
       "_model_module_version": "1.2.0",
       "_model_name": "LayoutModel",
       "_view_count": null,
       "_view_module": "@jupyter-widgets/base",
       "_view_module_version": "1.2.0",
       "_view_name": "LayoutView",
       "align_content": null,
       "align_items": null,
       "align_self": null,
       "border": null,
       "bottom": null,
       "display": null,
       "flex": null,
       "flex_flow": null,
       "grid_area": null,
       "grid_auto_columns": null,
       "grid_auto_flow": null,
       "grid_auto_rows": null,
       "grid_column": null,
       "grid_gap": null,
       "grid_row": null,
       "grid_template_areas": null,
       "grid_template_columns": null,
       "grid_template_rows": null,
       "height": null,
       "justify_content": null,
       "justify_items": null,
       "left": null,
       "margin": null,
       "max_height": null,
       "max_width": null,
       "min_height": null,
       "min_width": null,
       "object_fit": null,
       "object_position": null,
       "order": null,
       "overflow": null,
       "overflow_x": null,
       "overflow_y": null,
       "padding": null,
       "right": null,
       "top": null,
       "visibility": null,
       "width": null
      }
     },
     "51991614f93b4e22a23d53a432a3d853": {
      "model_module": "@jupyter-widgets/controls",
      "model_module_version": "1.5.0",
      "model_name": "HTMLModel",
      "state": {
       "_dom_classes": [],
       "_model_module": "@jupyter-widgets/controls",
       "_model_module_version": "1.5.0",
       "_model_name": "HTMLModel",
       "_view_count": null,
       "_view_module": "@jupyter-widgets/controls",
       "_view_module_version": "1.5.0",
       "_view_name": "HTMLView",
       "description": "",
       "description_tooltip": null,
       "layout": "IPY_MODEL_f3a9cddb36994cae9209dd21bf419a55",
       "placeholder": "​",
       "style": "IPY_MODEL_0f30de574568428ba37e1f107258742b",
       "value": "100%"
      }
     },
     "5320bcae996a4d6db4ef464e9039b2a4": {
      "model_module": "@jupyter-widgets/controls",
      "model_module_version": "1.5.0",
      "model_name": "FloatProgressModel",
      "state": {
       "_dom_classes": [],
       "_model_module": "@jupyter-widgets/controls",
       "_model_module_version": "1.5.0",
       "_model_name": "FloatProgressModel",
       "_view_count": null,
       "_view_module": "@jupyter-widgets/controls",
       "_view_module_version": "1.5.0",
       "_view_name": "ProgressView",
       "bar_style": "success",
       "description": "",
       "description_tooltip": null,
       "layout": "IPY_MODEL_02ae477f2c81496681e09f72f8d757bc",
       "max": 28881.0,
       "min": 0.0,
       "orientation": "horizontal",
       "style": "IPY_MODEL_a5590ef7d7704fc7b7034553b6e66529",
       "value": 28881.0
      }
     },
     "5442d53a236d437a8b5deb1af1012b87": {
      "model_module": "@jupyter-widgets/base",
      "model_module_version": "1.2.0",
      "model_name": "LayoutModel",
      "state": {
       "_model_module": "@jupyter-widgets/base",
       "_model_module_version": "1.2.0",
       "_model_name": "LayoutModel",
       "_view_count": null,
       "_view_module": "@jupyter-widgets/base",
       "_view_module_version": "1.2.0",
       "_view_name": "LayoutView",
       "align_content": null,
       "align_items": null,
       "align_self": null,
       "border": null,
       "bottom": null,
       "display": null,
       "flex": null,
       "flex_flow": null,
       "grid_area": null,
       "grid_auto_columns": null,
       "grid_auto_flow": null,
       "grid_auto_rows": null,
       "grid_column": null,
       "grid_gap": null,
       "grid_row": null,
       "grid_template_areas": null,
       "grid_template_columns": null,
       "grid_template_rows": null,
       "height": null,
       "justify_content": null,
       "justify_items": null,
       "left": null,
       "margin": null,
       "max_height": null,
       "max_width": null,
       "min_height": null,
       "min_width": null,
       "object_fit": null,
       "object_position": null,
       "order": null,
       "overflow": null,
       "overflow_x": null,
       "overflow_y": null,
       "padding": null,
       "right": null,
       "top": null,
       "visibility": null,
       "width": null
      }
     },
     "57ace653d4534c0b97b2ab4a11a296d8": {
      "model_module": "@jupyter-widgets/controls",
      "model_module_version": "1.5.0",
      "model_name": "DescriptionStyleModel",
      "state": {
       "_model_module": "@jupyter-widgets/controls",
       "_model_module_version": "1.5.0",
       "_model_name": "DescriptionStyleModel",
       "_view_count": null,
       "_view_module": "@jupyter-widgets/base",
       "_view_module_version": "1.2.0",
       "_view_name": "StyleView",
       "description_width": ""
      }
     },
     "64fbab3c1d154b2b97625805238207c8": {
      "model_module": "@jupyter-widgets/base",
      "model_module_version": "1.2.0",
      "model_name": "LayoutModel",
      "state": {
       "_model_module": "@jupyter-widgets/base",
       "_model_module_version": "1.2.0",
       "_model_name": "LayoutModel",
       "_view_count": null,
       "_view_module": "@jupyter-widgets/base",
       "_view_module_version": "1.2.0",
       "_view_name": "LayoutView",
       "align_content": null,
       "align_items": null,
       "align_self": null,
       "border": null,
       "bottom": null,
       "display": null,
       "flex": null,
       "flex_flow": null,
       "grid_area": null,
       "grid_auto_columns": null,
       "grid_auto_flow": null,
       "grid_auto_rows": null,
       "grid_column": null,
       "grid_gap": null,
       "grid_row": null,
       "grid_template_areas": null,
       "grid_template_columns": null,
       "grid_template_rows": null,
       "height": null,
       "justify_content": null,
       "justify_items": null,
       "left": null,
       "margin": null,
       "max_height": null,
       "max_width": null,
       "min_height": null,
       "min_width": null,
       "object_fit": null,
       "object_position": null,
       "order": null,
       "overflow": null,
       "overflow_x": null,
       "overflow_y": null,
       "padding": null,
       "right": null,
       "top": null,
       "visibility": null,
       "width": null
      }
     },
     "680526d12ff0400da75785e8d64e59d5": {
      "model_module": "@jupyter-widgets/base",
      "model_module_version": "1.2.0",
      "model_name": "LayoutModel",
      "state": {
       "_model_module": "@jupyter-widgets/base",
       "_model_module_version": "1.2.0",
       "_model_name": "LayoutModel",
       "_view_count": null,
       "_view_module": "@jupyter-widgets/base",
       "_view_module_version": "1.2.0",
       "_view_name": "LayoutView",
       "align_content": null,
       "align_items": null,
       "align_self": null,
       "border": null,
       "bottom": null,
       "display": null,
       "flex": null,
       "flex_flow": null,
       "grid_area": null,
       "grid_auto_columns": null,
       "grid_auto_flow": null,
       "grid_auto_rows": null,
       "grid_column": null,
       "grid_gap": null,
       "grid_row": null,
       "grid_template_areas": null,
       "grid_template_columns": null,
       "grid_template_rows": null,
       "height": null,
       "justify_content": null,
       "justify_items": null,
       "left": null,
       "margin": null,
       "max_height": null,
       "max_width": null,
       "min_height": null,
       "min_width": null,
       "object_fit": null,
       "object_position": null,
       "order": null,
       "overflow": null,
       "overflow_x": null,
       "overflow_y": null,
       "padding": null,
       "right": null,
       "top": null,
       "visibility": null,
       "width": null
      }
     },
     "771529bce350430aa50b83c40baf8ceb": {
      "model_module": "@jupyter-widgets/base",
      "model_module_version": "1.2.0",
      "model_name": "LayoutModel",
      "state": {
       "_model_module": "@jupyter-widgets/base",
       "_model_module_version": "1.2.0",
       "_model_name": "LayoutModel",
       "_view_count": null,
       "_view_module": "@jupyter-widgets/base",
       "_view_module_version": "1.2.0",
       "_view_name": "LayoutView",
       "align_content": null,
       "align_items": null,
       "align_self": null,
       "border": null,
       "bottom": null,
       "display": null,
       "flex": null,
       "flex_flow": null,
       "grid_area": null,
       "grid_auto_columns": null,
       "grid_auto_flow": null,
       "grid_auto_rows": null,
       "grid_column": null,
       "grid_gap": null,
       "grid_row": null,
       "grid_template_areas": null,
       "grid_template_columns": null,
       "grid_template_rows": null,
       "height": null,
       "justify_content": null,
       "justify_items": null,
       "left": null,
       "margin": null,
       "max_height": null,
       "max_width": null,
       "min_height": null,
       "min_width": null,
       "object_fit": null,
       "object_position": null,
       "order": null,
       "overflow": null,
       "overflow_x": null,
       "overflow_y": null,
       "padding": null,
       "right": null,
       "top": null,
       "visibility": null,
       "width": null
      }
     },
     "789258bb8eab498b9833fa73aaf55580": {
      "model_module": "@jupyter-widgets/base",
      "model_module_version": "1.2.0",
      "model_name": "LayoutModel",
      "state": {
       "_model_module": "@jupyter-widgets/base",
       "_model_module_version": "1.2.0",
       "_model_name": "LayoutModel",
       "_view_count": null,
       "_view_module": "@jupyter-widgets/base",
       "_view_module_version": "1.2.0",
       "_view_name": "LayoutView",
       "align_content": null,
       "align_items": null,
       "align_self": null,
       "border": null,
       "bottom": null,
       "display": null,
       "flex": null,
       "flex_flow": null,
       "grid_area": null,
       "grid_auto_columns": null,
       "grid_auto_flow": null,
       "grid_auto_rows": null,
       "grid_column": null,
       "grid_gap": null,
       "grid_row": null,
       "grid_template_areas": null,
       "grid_template_columns": null,
       "grid_template_rows": null,
       "height": null,
       "justify_content": null,
       "justify_items": null,
       "left": null,
       "margin": null,
       "max_height": null,
       "max_width": null,
       "min_height": null,
       "min_width": null,
       "object_fit": null,
       "object_position": null,
       "order": null,
       "overflow": null,
       "overflow_x": null,
       "overflow_y": null,
       "padding": null,
       "right": null,
       "top": null,
       "visibility": null,
       "width": null
      }
     },
     "7d1a1cda46d9435bb052c38cb5f91b18": {
      "model_module": "@jupyter-widgets/base",
      "model_module_version": "1.2.0",
      "model_name": "LayoutModel",
      "state": {
       "_model_module": "@jupyter-widgets/base",
       "_model_module_version": "1.2.0",
       "_model_name": "LayoutModel",
       "_view_count": null,
       "_view_module": "@jupyter-widgets/base",
       "_view_module_version": "1.2.0",
       "_view_name": "LayoutView",
       "align_content": null,
       "align_items": null,
       "align_self": null,
       "border": null,
       "bottom": null,
       "display": null,
       "flex": null,
       "flex_flow": null,
       "grid_area": null,
       "grid_auto_columns": null,
       "grid_auto_flow": null,
       "grid_auto_rows": null,
       "grid_column": null,
       "grid_gap": null,
       "grid_row": null,
       "grid_template_areas": null,
       "grid_template_columns": null,
       "grid_template_rows": null,
       "height": null,
       "justify_content": null,
       "justify_items": null,
       "left": null,
       "margin": null,
       "max_height": null,
       "max_width": null,
       "min_height": null,
       "min_width": null,
       "object_fit": null,
       "object_position": null,
       "order": null,
       "overflow": null,
       "overflow_x": null,
       "overflow_y": null,
       "padding": null,
       "right": null,
       "top": null,
       "visibility": null,
       "width": null
      }
     },
     "83d5f5ebe57e4cf3b2266e463067b443": {
      "model_module": "@jupyter-widgets/base",
      "model_module_version": "1.2.0",
      "model_name": "LayoutModel",
      "state": {
       "_model_module": "@jupyter-widgets/base",
       "_model_module_version": "1.2.0",
       "_model_name": "LayoutModel",
       "_view_count": null,
       "_view_module": "@jupyter-widgets/base",
       "_view_module_version": "1.2.0",
       "_view_name": "LayoutView",
       "align_content": null,
       "align_items": null,
       "align_self": null,
       "border": null,
       "bottom": null,
       "display": null,
       "flex": null,
       "flex_flow": null,
       "grid_area": null,
       "grid_auto_columns": null,
       "grid_auto_flow": null,
       "grid_auto_rows": null,
       "grid_column": null,
       "grid_gap": null,
       "grid_row": null,
       "grid_template_areas": null,
       "grid_template_columns": null,
       "grid_template_rows": null,
       "height": null,
       "justify_content": null,
       "justify_items": null,
       "left": null,
       "margin": null,
       "max_height": null,
       "max_width": null,
       "min_height": null,
       "min_width": null,
       "object_fit": null,
       "object_position": null,
       "order": null,
       "overflow": null,
       "overflow_x": null,
       "overflow_y": null,
       "padding": null,
       "right": null,
       "top": null,
       "visibility": null,
       "width": null
      }
     },
     "8873fae8526c40199e73f587b31e5dfd": {
      "model_module": "@jupyter-widgets/base",
      "model_module_version": "1.2.0",
      "model_name": "LayoutModel",
      "state": {
       "_model_module": "@jupyter-widgets/base",
       "_model_module_version": "1.2.0",
       "_model_name": "LayoutModel",
       "_view_count": null,
       "_view_module": "@jupyter-widgets/base",
       "_view_module_version": "1.2.0",
       "_view_name": "LayoutView",
       "align_content": null,
       "align_items": null,
       "align_self": null,
       "border": null,
       "bottom": null,
       "display": null,
       "flex": null,
       "flex_flow": null,
       "grid_area": null,
       "grid_auto_columns": null,
       "grid_auto_flow": null,
       "grid_auto_rows": null,
       "grid_column": null,
       "grid_gap": null,
       "grid_row": null,
       "grid_template_areas": null,
       "grid_template_columns": null,
       "grid_template_rows": null,
       "height": null,
       "justify_content": null,
       "justify_items": null,
       "left": null,
       "margin": null,
       "max_height": null,
       "max_width": null,
       "min_height": null,
       "min_width": null,
       "object_fit": null,
       "object_position": null,
       "order": null,
       "overflow": null,
       "overflow_x": null,
       "overflow_y": null,
       "padding": null,
       "right": null,
       "top": null,
       "visibility": null,
       "width": null
      }
     },
     "8ea5967b1b7a494580cf8fdd33e46e36": {
      "model_module": "@jupyter-widgets/controls",
      "model_module_version": "1.5.0",
      "model_name": "DescriptionStyleModel",
      "state": {
       "_model_module": "@jupyter-widgets/controls",
       "_model_module_version": "1.5.0",
       "_model_name": "DescriptionStyleModel",
       "_view_count": null,
       "_view_module": "@jupyter-widgets/base",
       "_view_module_version": "1.2.0",
       "_view_name": "StyleView",
       "description_width": ""
      }
     },
     "93ff985c2247489887f5243407595e39": {
      "model_module": "@jupyter-widgets/controls",
      "model_module_version": "1.5.0",
      "model_name": "DescriptionStyleModel",
      "state": {
       "_model_module": "@jupyter-widgets/controls",
       "_model_module_version": "1.5.0",
       "_model_name": "DescriptionStyleModel",
       "_view_count": null,
       "_view_module": "@jupyter-widgets/base",
       "_view_module_version": "1.2.0",
       "_view_name": "StyleView",
       "description_width": ""
      }
     },
     "95a0124eaaf946afa5b7b9faf3a1d7bf": {
      "model_module": "@jupyter-widgets/controls",
      "model_module_version": "1.5.0",
      "model_name": "HTMLModel",
      "state": {
       "_dom_classes": [],
       "_model_module": "@jupyter-widgets/controls",
       "_model_module_version": "1.5.0",
       "_model_name": "HTMLModel",
       "_view_count": null,
       "_view_module": "@jupyter-widgets/controls",
       "_view_module_version": "1.5.0",
       "_view_name": "HTMLView",
       "description": "",
       "description_tooltip": null,
       "layout": "IPY_MODEL_83d5f5ebe57e4cf3b2266e463067b443",
       "placeholder": "​",
       "style": "IPY_MODEL_93ff985c2247489887f5243407595e39",
       "value": " 1648877/1648877 [00:00&lt;00:00, 42409268.11it/s]"
      }
     },
     "a5590ef7d7704fc7b7034553b6e66529": {
      "model_module": "@jupyter-widgets/controls",
      "model_module_version": "1.5.0",
      "model_name": "ProgressStyleModel",
      "state": {
       "_model_module": "@jupyter-widgets/controls",
       "_model_module_version": "1.5.0",
       "_model_name": "ProgressStyleModel",
       "_view_count": null,
       "_view_module": "@jupyter-widgets/base",
       "_view_module_version": "1.2.0",
       "_view_name": "StyleView",
       "bar_color": null,
       "description_width": ""
      }
     },
     "ad0b26273a8a4675bd6bd999e1404c3f": {
      "model_module": "@jupyter-widgets/controls",
      "model_module_version": "1.5.0",
      "model_name": "HTMLModel",
      "state": {
       "_dom_classes": [],
       "_model_module": "@jupyter-widgets/controls",
       "_model_module_version": "1.5.0",
       "_model_name": "HTMLModel",
       "_view_count": null,
       "_view_module": "@jupyter-widgets/controls",
       "_view_module_version": "1.5.0",
       "_view_name": "HTMLView",
       "description": "",
       "description_tooltip": null,
       "layout": "IPY_MODEL_8873fae8526c40199e73f587b31e5dfd",
       "placeholder": "​",
       "style": "IPY_MODEL_1ae782e98b14424ba6e995bd4a54248c",
       "value": "100%"
      }
     },
     "c4be133a527b4917b7819fb89c97a73c": {
      "model_module": "@jupyter-widgets/controls",
      "model_module_version": "1.5.0",
      "model_name": "DescriptionStyleModel",
      "state": {
       "_model_module": "@jupyter-widgets/controls",
       "_model_module_version": "1.5.0",
       "_model_name": "DescriptionStyleModel",
       "_view_count": null,
       "_view_module": "@jupyter-widgets/base",
       "_view_module_version": "1.2.0",
       "_view_name": "StyleView",
       "description_width": ""
      }
     },
     "d7a573e41697497d916c98cd540c2780": {
      "model_module": "@jupyter-widgets/controls",
      "model_module_version": "1.5.0",
      "model_name": "HTMLModel",
      "state": {
       "_dom_classes": [],
       "_model_module": "@jupyter-widgets/controls",
       "_model_module_version": "1.5.0",
       "_model_name": "HTMLModel",
       "_view_count": null,
       "_view_module": "@jupyter-widgets/controls",
       "_view_module_version": "1.5.0",
       "_view_name": "HTMLView",
       "description": "",
       "description_tooltip": null,
       "layout": "IPY_MODEL_4c63a5ea4d41464bbc5335bed3289c71",
       "placeholder": "​",
       "style": "IPY_MODEL_57ace653d4534c0b97b2ab4a11a296d8",
       "value": " 4542/4542 [00:00&lt;00:00, 332382.95it/s]"
      }
     },
     "e4862f3c8dbe4a20962145d909475241": {
      "model_module": "@jupyter-widgets/controls",
      "model_module_version": "1.5.0",
      "model_name": "FloatProgressModel",
      "state": {
       "_dom_classes": [],
       "_model_module": "@jupyter-widgets/controls",
       "_model_module_version": "1.5.0",
       "_model_name": "FloatProgressModel",
       "_view_count": null,
       "_view_module": "@jupyter-widgets/controls",
       "_view_module_version": "1.5.0",
       "_view_name": "ProgressView",
       "bar_style": "success",
       "description": "",
       "description_tooltip": null,
       "layout": "IPY_MODEL_7d1a1cda46d9435bb052c38cb5f91b18",
       "max": 4542.0,
       "min": 0.0,
       "orientation": "horizontal",
       "style": "IPY_MODEL_1edc0d23c1b842c1a5af6148529ee08c",
       "value": 4542.0
      }
     },
     "eee6df7d48a64a8a936a69db6918456e": {
      "model_module": "@jupyter-widgets/base",
      "model_module_version": "1.2.0",
      "model_name": "LayoutModel",
      "state": {
       "_model_module": "@jupyter-widgets/base",
       "_model_module_version": "1.2.0",
       "_model_name": "LayoutModel",
       "_view_count": null,
       "_view_module": "@jupyter-widgets/base",
       "_view_module_version": "1.2.0",
       "_view_name": "LayoutView",
       "align_content": null,
       "align_items": null,
       "align_self": null,
       "border": null,
       "bottom": null,
       "display": null,
       "flex": null,
       "flex_flow": null,
       "grid_area": null,
       "grid_auto_columns": null,
       "grid_auto_flow": null,
       "grid_auto_rows": null,
       "grid_column": null,
       "grid_gap": null,
       "grid_row": null,
       "grid_template_areas": null,
       "grid_template_columns": null,
       "grid_template_rows": null,
       "height": null,
       "justify_content": null,
       "justify_items": null,
       "left": null,
       "margin": null,
       "max_height": null,
       "max_width": null,
       "min_height": null,
       "min_width": null,
       "object_fit": null,
       "object_position": null,
       "order": null,
       "overflow": null,
       "overflow_x": null,
       "overflow_y": null,
       "padding": null,
       "right": null,
       "top": null,
       "visibility": null,
       "width": null
      }
     },
     "f3760f26f6e24cce8c19fa357336acaa": {
      "model_module": "@jupyter-widgets/controls",
      "model_module_version": "1.5.0",
      "model_name": "HBoxModel",
      "state": {
       "_dom_classes": [],
       "_model_module": "@jupyter-widgets/controls",
       "_model_module_version": "1.5.0",
       "_model_name": "HBoxModel",
       "_view_count": null,
       "_view_module": "@jupyter-widgets/controls",
       "_view_module_version": "1.5.0",
       "_view_name": "HBoxView",
       "box_style": "",
       "children": [
        "IPY_MODEL_ad0b26273a8a4675bd6bd999e1404c3f",
        "IPY_MODEL_e4862f3c8dbe4a20962145d909475241",
        "IPY_MODEL_d7a573e41697497d916c98cd540c2780"
       ],
       "layout": "IPY_MODEL_eee6df7d48a64a8a936a69db6918456e"
      }
     },
     "f3a9cddb36994cae9209dd21bf419a55": {
      "model_module": "@jupyter-widgets/base",
      "model_module_version": "1.2.0",
      "model_name": "LayoutModel",
      "state": {
       "_model_module": "@jupyter-widgets/base",
       "_model_module_version": "1.2.0",
       "_model_name": "LayoutModel",
       "_view_count": null,
       "_view_module": "@jupyter-widgets/base",
       "_view_module_version": "1.2.0",
       "_view_name": "LayoutView",
       "align_content": null,
       "align_items": null,
       "align_self": null,
       "border": null,
       "bottom": null,
       "display": null,
       "flex": null,
       "flex_flow": null,
       "grid_area": null,
       "grid_auto_columns": null,
       "grid_auto_flow": null,
       "grid_auto_rows": null,
       "grid_column": null,
       "grid_gap": null,
       "grid_row": null,
       "grid_template_areas": null,
       "grid_template_columns": null,
       "grid_template_rows": null,
       "height": null,
       "justify_content": null,
       "justify_items": null,
       "left": null,
       "margin": null,
       "max_height": null,
       "max_width": null,
       "min_height": null,
       "min_width": null,
       "object_fit": null,
       "object_position": null,
       "order": null,
       "overflow": null,
       "overflow_x": null,
       "overflow_y": null,
       "padding": null,
       "right": null,
       "top": null,
       "visibility": null,
       "width": null
      }
     },
     "f672a56dbc7940ad8609c24aeae887f5": {
      "model_module": "@jupyter-widgets/controls",
      "model_module_version": "1.5.0",
      "model_name": "FloatProgressModel",
      "state": {
       "_dom_classes": [],
       "_model_module": "@jupyter-widgets/controls",
       "_model_module_version": "1.5.0",
       "_model_name": "FloatProgressModel",
       "_view_count": null,
       "_view_module": "@jupyter-widgets/controls",
       "_view_module_version": "1.5.0",
       "_view_name": "ProgressView",
       "bar_style": "success",
       "description": "",
       "description_tooltip": null,
       "layout": "IPY_MODEL_64fbab3c1d154b2b97625805238207c8",
       "max": 9912422.0,
       "min": 0.0,
       "orientation": "horizontal",
       "style": "IPY_MODEL_4766c8a342b8466f94eb4baaf1eab20c",
       "value": 9912422.0
      }
     }
    },
    "version_major": 2,
    "version_minor": 0
   }
  }
 },
 "nbformat": 4,
 "nbformat_minor": 5
}
